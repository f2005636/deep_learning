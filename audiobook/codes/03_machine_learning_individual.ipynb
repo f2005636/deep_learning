{
 "cells": [
  {
   "cell_type": "markdown",
   "metadata": {
    "id": "evi24tidFSR6"
   },
   "source": [
    "# 1. Audiobooks"
   ]
  },
  {
   "cell_type": "code",
   "execution_count": 1,
   "metadata": {
    "colab": {
     "base_uri": "https://localhost:8080/"
    },
    "id": "gOqE9qUMF0kh",
    "outputId": "52c1bbb6-5cd4-42a4-b35b-ed3f83b3d9d1"
   },
   "outputs": [
    {
     "name": "stdout",
     "output_type": "stream",
     "text": [
      "Mounted at /content/drive\n",
      "/content/drive/MyDrive/peerkart\n"
     ]
    }
   ],
   "source": [
    "from google.colab import drive\n",
    "drive.mount('/content/drive')\n",
    "%cd /content/drive/MyDrive/peerkart"
   ]
  },
  {
   "cell_type": "code",
   "execution_count": 2,
   "metadata": {
    "id": "6pL7oVAiF0ht"
   },
   "outputs": [],
   "source": [
    "import numpy as np\n",
    "import pandas as pd\n",
    "import datetime as dt\n",
    "import matplotlib.pyplot as plt\n",
    "%matplotlib inline"
   ]
  },
  {
   "cell_type": "code",
   "execution_count": 3,
   "metadata": {
    "id": "E0hB6olPFSR8"
   },
   "outputs": [],
   "source": [
    "import tensorflow as tf\n",
    "from sklearn.metrics import accuracy_score"
   ]
  },
  {
   "cell_type": "markdown",
   "metadata": {
    "id": "1_po6HyzFSR9"
   },
   "source": [
    "# 2. Import file\n",
    "* read the csv file\n",
    "* do the train, test and vali split\n",
    "* create dataframes for inputs and targets"
   ]
  },
  {
   "cell_type": "code",
   "execution_count": 4,
   "metadata": {
    "colab": {
     "base_uri": "https://localhost:8080/"
    },
    "id": "b970yaN0GKlE",
    "outputId": "26de22f2-6676-4e99-df3c-70da83e9e615"
   },
   "outputs": [
    {
     "name": "stdout",
     "output_type": "stream",
     "text": [
      "(16122, 10)\n",
      "(2303, 10)\n",
      "(4607, 10)\n"
     ]
    }
   ],
   "source": [
    "df = pd.read_csv('01_preprocessing.csv')\n",
    "train_inputs = df[df['flag']=='Training'].drop(['flag','11'], axis=1)\n",
    "train_targets = df[df['flag']=='Training'][['11']]\n",
    "print(train_inputs.shape)\n",
    "\n",
    "df = pd.read_csv('01_preprocessing.csv')\n",
    "test_inputs = df[df['flag']=='Test'].drop(['flag','11'], axis=1)\n",
    "test_targets = df[df['flag']=='Test'][['11']]\n",
    "print(test_inputs.shape)\n",
    "\n",
    "df = pd.read_csv('01_preprocessing.csv')\n",
    "validation_inputs = df[df['flag']=='Validate'].drop(['flag','11'], axis=1)\n",
    "validation_targets = df[df['flag']=='Validate'][['11']]\n",
    "print(validation_inputs.shape)"
   ]
  },
  {
   "cell_type": "markdown",
   "metadata": {
    "id": "mL0O2BQbFSR9"
   },
   "source": [
    "# 3. Model\n",
    "single layer"
   ]
  },
  {
   "cell_type": "code",
   "execution_count": 5,
   "metadata": {
    "colab": {
     "base_uri": "https://localhost:8080/"
    },
    "id": "hA9txYSLFSR9",
    "outputId": "d78c9a08-d209-46ae-8ade-a4381202c157"
   },
   "outputs": [
    {
     "name": "stdout",
     "output_type": "stream",
     "text": [
      "72/72 [==============================] - 0s 2ms/step - loss: 0.3312 - accuracy: 0.8333\n",
      "Iteraion: 0.00. Test loss: 0.00. Test accuracy: 0.33%\n",
      "72/72 [==============================] - 0s 2ms/step - loss: 0.3353 - accuracy: 0.8337\n",
      "Iteraion: 1.00. Test loss: 1.00. Test accuracy: 0.34%\n",
      "72/72 [==============================] - 0s 2ms/step - loss: 0.3301 - accuracy: 0.8320\n",
      "Iteraion: 2.00. Test loss: 2.00. Test accuracy: 0.33%\n",
      "72/72 [==============================] - 0s 2ms/step - loss: 0.3238 - accuracy: 0.8359\n",
      "Iteraion: 3.00. Test loss: 3.00. Test accuracy: 0.32%\n",
      "72/72 [==============================] - 0s 2ms/step - loss: 0.3287 - accuracy: 0.8337\n",
      "Iteraion: 4.00. Test loss: 4.00. Test accuracy: 0.33%\n",
      "72/72 [==============================] - 0s 2ms/step - loss: 0.3343 - accuracy: 0.8350\n",
      "Iteraion: 5.00. Test loss: 5.00. Test accuracy: 0.33%\n",
      "72/72 [==============================] - 0s 2ms/step - loss: 0.3331 - accuracy: 0.8350\n",
      "Iteraion: 6.00. Test loss: 6.00. Test accuracy: 0.33%\n",
      "72/72 [==============================] - 0s 2ms/step - loss: 0.3242 - accuracy: 0.8363\n",
      "Iteraion: 7.00. Test loss: 7.00. Test accuracy: 0.32%\n",
      "72/72 [==============================] - 0s 2ms/step - loss: 0.3285 - accuracy: 0.8350\n",
      "Iteraion: 8.00. Test loss: 8.00. Test accuracy: 0.33%\n",
      "72/72 [==============================] - 0s 2ms/step - loss: 0.3547 - accuracy: 0.8311\n",
      "Iteraion: 9.00. Test loss: 9.00. Test accuracy: 0.35%\n",
      "72/72 [==============================] - 0s 2ms/step - loss: 0.3260 - accuracy: 0.8337\n",
      "Iteraion: 10.00. Test loss: 10.00. Test accuracy: 0.33%\n",
      "72/72 [==============================] - 0s 2ms/step - loss: 0.3301 - accuracy: 0.8328\n",
      "Iteraion: 11.00. Test loss: 11.00. Test accuracy: 0.33%\n",
      "72/72 [==============================] - 0s 2ms/step - loss: 0.3375 - accuracy: 0.8328\n",
      "Iteraion: 12.00. Test loss: 12.00. Test accuracy: 0.34%\n",
      "72/72 [==============================] - 0s 2ms/step - loss: 0.3407 - accuracy: 0.8285\n",
      "Iteraion: 13.00. Test loss: 13.00. Test accuracy: 0.34%\n",
      "72/72 [==============================] - 0s 2ms/step - loss: 0.3290 - accuracy: 0.8328\n",
      "Iteraion: 14.00. Test loss: 14.00. Test accuracy: 0.33%\n",
      "72/72 [==============================] - 0s 2ms/step - loss: 0.3445 - accuracy: 0.8315\n",
      "Iteraion: 15.00. Test loss: 15.00. Test accuracy: 0.34%\n",
      "72/72 [==============================] - 0s 2ms/step - loss: 0.3263 - accuracy: 0.8341\n",
      "Iteraion: 16.00. Test loss: 16.00. Test accuracy: 0.33%\n",
      "72/72 [==============================] - 0s 2ms/step - loss: 0.3315 - accuracy: 0.8359\n",
      "Iteraion: 17.00. Test loss: 17.00. Test accuracy: 0.33%\n",
      "72/72 [==============================] - 0s 2ms/step - loss: 0.3267 - accuracy: 0.8337\n",
      "Iteraion: 18.00. Test loss: 18.00. Test accuracy: 0.33%\n",
      "72/72 [==============================] - 0s 2ms/step - loss: 0.3376 - accuracy: 0.8315\n",
      "Iteraion: 19.00. Test loss: 19.00. Test accuracy: 0.34%\n",
      "72/72 [==============================] - 0s 2ms/step - loss: 0.3385 - accuracy: 0.8341\n",
      "Iteraion: 20.00. Test loss: 20.00. Test accuracy: 0.34%\n",
      "72/72 [==============================] - 0s 2ms/step - loss: 0.3268 - accuracy: 0.8354\n",
      "Iteraion: 21.00. Test loss: 21.00. Test accuracy: 0.33%\n",
      "72/72 [==============================] - 0s 2ms/step - loss: 0.3334 - accuracy: 0.8389\n",
      "Iteraion: 22.00. Test loss: 22.00. Test accuracy: 0.33%\n",
      "72/72 [==============================] - 0s 2ms/step - loss: 0.3328 - accuracy: 0.8359\n",
      "Iteraion: 23.00. Test loss: 23.00. Test accuracy: 0.33%\n",
      "72/72 [==============================] - 0s 2ms/step - loss: 0.3302 - accuracy: 0.8333\n",
      "Iteraion: 24.00. Test loss: 24.00. Test accuracy: 0.33%\n",
      "72/72 [==============================] - 0s 2ms/step - loss: 0.3401 - accuracy: 0.8281\n",
      "Iteraion: 25.00. Test loss: 25.00. Test accuracy: 0.34%\n",
      "72/72 [==============================] - 0s 2ms/step - loss: 0.3248 - accuracy: 0.8341\n",
      "Iteraion: 26.00. Test loss: 26.00. Test accuracy: 0.32%\n",
      "72/72 [==============================] - 0s 2ms/step - loss: 0.3309 - accuracy: 0.8337\n",
      "Iteraion: 27.00. Test loss: 27.00. Test accuracy: 0.33%\n",
      "72/72 [==============================] - 0s 2ms/step - loss: 0.3292 - accuracy: 0.8337\n",
      "Iteraion: 28.00. Test loss: 28.00. Test accuracy: 0.33%\n",
      "72/72 [==============================] - 0s 2ms/step - loss: 0.3264 - accuracy: 0.8350\n",
      "Iteraion: 29.00. Test loss: 29.00. Test accuracy: 0.33%\n",
      "72/72 [==============================] - 0s 2ms/step - loss: 0.3248 - accuracy: 0.8354\n",
      "Iteraion: 30.00. Test loss: 30.00. Test accuracy: 0.32%\n",
      "72/72 [==============================] - 0s 2ms/step - loss: 0.3238 - accuracy: 0.8398\n",
      "Iteraion: 31.00. Test loss: 31.00. Test accuracy: 0.32%\n",
      "72/72 [==============================] - 0s 2ms/step - loss: 0.3369 - accuracy: 0.8324\n",
      "Iteraion: 32.00. Test loss: 32.00. Test accuracy: 0.34%\n",
      "72/72 [==============================] - 0s 2ms/step - loss: 0.3455 - accuracy: 0.8315\n",
      "Iteraion: 33.00. Test loss: 33.00. Test accuracy: 0.35%\n",
      "72/72 [==============================] - 0s 3ms/step - loss: 0.3317 - accuracy: 0.8311\n",
      "Iteraion: 34.00. Test loss: 34.00. Test accuracy: 0.33%\n",
      "72/72 [==============================] - 0s 2ms/step - loss: 0.3287 - accuracy: 0.8367\n",
      "Iteraion: 35.00. Test loss: 35.00. Test accuracy: 0.33%\n",
      "72/72 [==============================] - 0s 2ms/step - loss: 0.3343 - accuracy: 0.8337\n",
      "Iteraion: 36.00. Test loss: 36.00. Test accuracy: 0.33%\n",
      "72/72 [==============================] - 0s 2ms/step - loss: 0.3252 - accuracy: 0.8372\n",
      "Iteraion: 37.00. Test loss: 37.00. Test accuracy: 0.33%\n",
      "72/72 [==============================] - 0s 2ms/step - loss: 0.3270 - accuracy: 0.8337\n",
      "Iteraion: 38.00. Test loss: 38.00. Test accuracy: 0.33%\n",
      "72/72 [==============================] - 0s 2ms/step - loss: 0.3395 - accuracy: 0.8315\n",
      "Iteraion: 39.00. Test loss: 39.00. Test accuracy: 0.34%\n",
      "72/72 [==============================] - 0s 2ms/step - loss: 0.3430 - accuracy: 0.8285\n",
      "Iteraion: 40.00. Test loss: 40.00. Test accuracy: 0.34%\n",
      "72/72 [==============================] - 0s 2ms/step - loss: 0.3276 - accuracy: 0.8333\n",
      "Iteraion: 41.00. Test loss: 41.00. Test accuracy: 0.33%\n",
      "72/72 [==============================] - 0s 2ms/step - loss: 0.3272 - accuracy: 0.8346\n",
      "Iteraion: 42.00. Test loss: 42.00. Test accuracy: 0.33%\n",
      "72/72 [==============================] - 0s 2ms/step - loss: 0.3265 - accuracy: 0.8385\n",
      "Iteraion: 43.00. Test loss: 43.00. Test accuracy: 0.33%\n",
      "72/72 [==============================] - 0s 2ms/step - loss: 0.3349 - accuracy: 0.8359\n",
      "Iteraion: 44.00. Test loss: 44.00. Test accuracy: 0.33%\n",
      "72/72 [==============================] - 0s 2ms/step - loss: 0.3484 - accuracy: 0.8276\n",
      "Iteraion: 45.00. Test loss: 45.00. Test accuracy: 0.35%\n",
      "72/72 [==============================] - 0s 2ms/step - loss: 0.3250 - accuracy: 0.8346\n",
      "Iteraion: 46.00. Test loss: 46.00. Test accuracy: 0.33%\n",
      "72/72 [==============================] - 0s 2ms/step - loss: 0.3262 - accuracy: 0.8350\n",
      "Iteraion: 47.00. Test loss: 47.00. Test accuracy: 0.33%\n",
      "72/72 [==============================] - 0s 3ms/step - loss: 0.3423 - accuracy: 0.8324\n",
      "Iteraion: 48.00. Test loss: 48.00. Test accuracy: 0.34%\n",
      "72/72 [==============================] - 0s 3ms/step - loss: 0.3309 - accuracy: 0.8333\n",
      "Iteraion: 49.00. Test loss: 49.00. Test accuracy: 0.33%\n"
     ]
    }
   ],
   "source": [
    "k = []\n",
    "for i in range(50):\n",
    "    input_size = 10\n",
    "    output_size = 2\n",
    "    hidden_layer_size = 30\n",
    "    model = tf.keras.Sequential([tf.keras.layers.Dense(hidden_layer_size, activation='relu'), # 1st hidden layer\n",
    "                                 tf.keras.layers.Dense(output_size, activation='softmax')])\n",
    "    model.compile(optimizer='adam', loss='sparse_categorical_crossentropy', metrics=['accuracy'])\n",
    "\n",
    "    batch_size = 400\n",
    "    max_epochs = 100\n",
    "    early_stopping = tf.keras.callbacks.EarlyStopping(patience=3)\n",
    "    history = model.fit(train_inputs, train_targets, batch_size=batch_size, epochs=max_epochs, callbacks=[early_stopping],\n",
    "                        validation_data=(validation_inputs, validation_targets), verbose = 0)\n",
    "\n",
    "    test_loss, test_accuracy = model.evaluate(test_inputs, test_targets)\n",
    "    print('Iteraion: {0:.2f}. Test loss: {0:.2f}. Test accuracy: {1:.2f}%'.format(i, test_loss, test_accuracy*100.))\n",
    "    k.append(test_accuracy)"
   ]
  },
  {
   "cell_type": "code",
   "execution_count": 6,
   "metadata": {
    "colab": {
     "base_uri": "https://localhost:8080/",
     "height": 465
    },
    "id": "uIp6XG82mbpm",
    "outputId": "6feac35c-2e75-4948-f920-01a5559b9214"
   },
   "outputs": [
    {
     "name": "stdout",
     "output_type": "stream",
     "text": [
      "0.834\n",
      "0.003\n"
     ]
    },
    {
     "data": {
      "image/png": "[encoded data removed]",
      "text/plain": [
       "<Figure size 640x480 with 1 Axes>"
      ]
     },
     "metadata": {},
     "output_type": "display_data"
    }
   ],
   "source": [
    "plt.hist(k, color='cornflowerblue', edgecolor='white')\n",
    "print(np.round(np.mean(k),3))\n",
    "print(np.round(np.std(k),3))"
   ]
  },
  {
   "cell_type": "markdown",
   "metadata": {
    "id": "BhsVYRxoV0ye"
   },
   "source": [
    "# 4. Model\n",
    "double layer"
   ]
  },
  {
   "cell_type": "code",
   "execution_count": 7,
   "metadata": {
    "colab": {
     "base_uri": "https://localhost:8080/"
    },
    "id": "KtYu1EFrS8vT",
    "outputId": "1359b93b-2e57-4505-a154-7244d310fcf8"
   },
   "outputs": [
    {
     "name": "stdout",
     "output_type": "stream",
     "text": [
      "72/72 [==============================] - 0s 2ms/step - loss: 0.3224 - accuracy: 0.8354\n",
      "Iteraion: 0.00. Test loss: 0.00. Test accuracy: 0.32%\n",
      "72/72 [==============================] - 0s 2ms/step - loss: 0.3304 - accuracy: 0.8311\n",
      "Iteraion: 1.00. Test loss: 1.00. Test accuracy: 0.33%\n",
      "72/72 [==============================] - 0s 2ms/step - loss: 0.3236 - accuracy: 0.8328\n",
      "Iteraion: 2.00. Test loss: 2.00. Test accuracy: 0.32%\n",
      "72/72 [==============================] - 0s 3ms/step - loss: 0.3328 - accuracy: 0.8337\n",
      "Iteraion: 3.00. Test loss: 3.00. Test accuracy: 0.33%\n",
      "72/72 [==============================] - 0s 2ms/step - loss: 0.3505 - accuracy: 0.8250\n",
      "Iteraion: 4.00. Test loss: 4.00. Test accuracy: 0.35%\n",
      "72/72 [==============================] - 0s 2ms/step - loss: 0.3341 - accuracy: 0.8302\n",
      "Iteraion: 5.00. Test loss: 5.00. Test accuracy: 0.33%\n",
      "72/72 [==============================] - 0s 2ms/step - loss: 0.3273 - accuracy: 0.8359\n",
      "Iteraion: 6.00. Test loss: 6.00. Test accuracy: 0.33%\n",
      "72/72 [==============================] - 0s 2ms/step - loss: 0.3421 - accuracy: 0.8363\n",
      "Iteraion: 7.00. Test loss: 7.00. Test accuracy: 0.34%\n",
      "72/72 [==============================] - 0s 2ms/step - loss: 0.3426 - accuracy: 0.8333\n",
      "Iteraion: 8.00. Test loss: 8.00. Test accuracy: 0.34%\n",
      "72/72 [==============================] - 0s 2ms/step - loss: 0.3260 - accuracy: 0.8354\n",
      "Iteraion: 9.00. Test loss: 9.00. Test accuracy: 0.33%\n",
      "72/72 [==============================] - 0s 2ms/step - loss: 0.3300 - accuracy: 0.8324\n",
      "Iteraion: 10.00. Test loss: 10.00. Test accuracy: 0.33%\n",
      "72/72 [==============================] - 0s 2ms/step - loss: 0.3398 - accuracy: 0.8350\n",
      "Iteraion: 11.00. Test loss: 11.00. Test accuracy: 0.34%\n",
      "72/72 [==============================] - 0s 3ms/step - loss: 0.3429 - accuracy: 0.8350\n",
      "Iteraion: 12.00. Test loss: 12.00. Test accuracy: 0.34%\n",
      "72/72 [==============================] - 0s 3ms/step - loss: 0.3283 - accuracy: 0.8346\n",
      "Iteraion: 13.00. Test loss: 13.00. Test accuracy: 0.33%\n",
      "72/72 [==============================] - 0s 2ms/step - loss: 0.3304 - accuracy: 0.8302\n",
      "Iteraion: 14.00. Test loss: 14.00. Test accuracy: 0.33%\n",
      "72/72 [==============================] - 0s 2ms/step - loss: 0.3615 - accuracy: 0.8285\n",
      "Iteraion: 15.00. Test loss: 15.00. Test accuracy: 0.36%\n",
      "72/72 [==============================] - 0s 2ms/step - loss: 0.3481 - accuracy: 0.8302\n",
      "Iteraion: 16.00. Test loss: 16.00. Test accuracy: 0.35%\n",
      "72/72 [==============================] - 0s 2ms/step - loss: 0.3339 - accuracy: 0.8289\n",
      "Iteraion: 17.00. Test loss: 17.00. Test accuracy: 0.33%\n",
      "72/72 [==============================] - 0s 3ms/step - loss: 0.3542 - accuracy: 0.8324\n",
      "Iteraion: 18.00. Test loss: 18.00. Test accuracy: 0.35%\n",
      "72/72 [==============================] - 0s 2ms/step - loss: 0.3504 - accuracy: 0.8302\n",
      "Iteraion: 19.00. Test loss: 19.00. Test accuracy: 0.35%\n",
      "72/72 [==============================] - 0s 2ms/step - loss: 0.3429 - accuracy: 0.8307\n",
      "Iteraion: 20.00. Test loss: 20.00. Test accuracy: 0.34%\n",
      "72/72 [==============================] - 0s 2ms/step - loss: 0.3370 - accuracy: 0.8320\n",
      "Iteraion: 21.00. Test loss: 21.00. Test accuracy: 0.34%\n",
      "72/72 [==============================] - 0s 2ms/step - loss: 0.3248 - accuracy: 0.8363\n",
      "Iteraion: 22.00. Test loss: 22.00. Test accuracy: 0.32%\n",
      "72/72 [==============================] - 0s 2ms/step - loss: 0.3568 - accuracy: 0.8328\n",
      "Iteraion: 23.00. Test loss: 23.00. Test accuracy: 0.36%\n",
      "72/72 [==============================] - 0s 2ms/step - loss: 0.3561 - accuracy: 0.8324\n",
      "Iteraion: 24.00. Test loss: 24.00. Test accuracy: 0.36%\n",
      "72/72 [==============================] - 0s 2ms/step - loss: 0.3430 - accuracy: 0.8337\n",
      "Iteraion: 25.00. Test loss: 25.00. Test accuracy: 0.34%\n",
      "72/72 [==============================] - 0s 2ms/step - loss: 0.3287 - accuracy: 0.8302\n",
      "Iteraion: 26.00. Test loss: 26.00. Test accuracy: 0.33%\n",
      "72/72 [==============================] - 0s 2ms/step - loss: 0.3248 - accuracy: 0.8298\n",
      "Iteraion: 27.00. Test loss: 27.00. Test accuracy: 0.32%\n",
      "72/72 [==============================] - 0s 2ms/step - loss: 0.3340 - accuracy: 0.8315\n",
      "Iteraion: 28.00. Test loss: 28.00. Test accuracy: 0.33%\n",
      "72/72 [==============================] - 0s 3ms/step - loss: 0.3713 - accuracy: 0.8359\n",
      "Iteraion: 29.00. Test loss: 29.00. Test accuracy: 0.37%\n",
      "72/72 [==============================] - 0s 2ms/step - loss: 0.3507 - accuracy: 0.8272\n",
      "Iteraion: 30.00. Test loss: 30.00. Test accuracy: 0.35%\n",
      "72/72 [==============================] - 0s 2ms/step - loss: 0.3469 - accuracy: 0.8346\n",
      "Iteraion: 31.00. Test loss: 31.00. Test accuracy: 0.35%\n",
      "72/72 [==============================] - 0s 2ms/step - loss: 0.3476 - accuracy: 0.8302\n",
      "Iteraion: 32.00. Test loss: 32.00. Test accuracy: 0.35%\n",
      "72/72 [==============================] - 0s 3ms/step - loss: 0.3340 - accuracy: 0.8341\n",
      "Iteraion: 33.00. Test loss: 33.00. Test accuracy: 0.33%\n",
      "72/72 [==============================] - 0s 2ms/step - loss: 0.3312 - accuracy: 0.8320\n",
      "Iteraion: 34.00. Test loss: 34.00. Test accuracy: 0.33%\n",
      "72/72 [==============================] - 0s 2ms/step - loss: 0.3336 - accuracy: 0.8315\n",
      "Iteraion: 35.00. Test loss: 35.00. Test accuracy: 0.33%\n",
      "72/72 [==============================] - 0s 2ms/step - loss: 0.3329 - accuracy: 0.8354\n",
      "Iteraion: 36.00. Test loss: 36.00. Test accuracy: 0.33%\n",
      "72/72 [==============================] - 0s 2ms/step - loss: 0.3341 - accuracy: 0.8302\n",
      "Iteraion: 37.00. Test loss: 37.00. Test accuracy: 0.33%\n",
      "72/72 [==============================] - 0s 3ms/step - loss: 0.3263 - accuracy: 0.8341\n",
      "Iteraion: 38.00. Test loss: 38.00. Test accuracy: 0.33%\n",
      "72/72 [==============================] - 0s 2ms/step - loss: 0.3301 - accuracy: 0.8281\n",
      "Iteraion: 39.00. Test loss: 39.00. Test accuracy: 0.33%\n",
      "72/72 [==============================] - 0s 2ms/step - loss: 0.3435 - accuracy: 0.8302\n",
      "Iteraion: 40.00. Test loss: 40.00. Test accuracy: 0.34%\n",
      "72/72 [==============================] - 0s 2ms/step - loss: 0.3283 - accuracy: 0.8346\n",
      "Iteraion: 41.00. Test loss: 41.00. Test accuracy: 0.33%\n",
      "72/72 [==============================] - 0s 2ms/step - loss: 0.3400 - accuracy: 0.8346\n",
      "Iteraion: 42.00. Test loss: 42.00. Test accuracy: 0.34%\n",
      "72/72 [==============================] - 0s 2ms/step - loss: 0.3373 - accuracy: 0.8350\n",
      "Iteraion: 43.00. Test loss: 43.00. Test accuracy: 0.34%\n",
      "72/72 [==============================] - 0s 2ms/step - loss: 0.3406 - accuracy: 0.8272\n",
      "Iteraion: 44.00. Test loss: 44.00. Test accuracy: 0.34%\n",
      "72/72 [==============================] - 0s 2ms/step - loss: 0.3318 - accuracy: 0.8233\n",
      "Iteraion: 45.00. Test loss: 45.00. Test accuracy: 0.33%\n",
      "72/72 [==============================] - 0s 2ms/step - loss: 0.3424 - accuracy: 0.8350\n",
      "Iteraion: 46.00. Test loss: 46.00. Test accuracy: 0.34%\n",
      "72/72 [==============================] - 0s 3ms/step - loss: 0.3285 - accuracy: 0.8307\n",
      "Iteraion: 47.00. Test loss: 47.00. Test accuracy: 0.33%\n",
      "72/72 [==============================] - 0s 2ms/step - loss: 0.3458 - accuracy: 0.8298\n",
      "Iteraion: 48.00. Test loss: 48.00. Test accuracy: 0.35%\n",
      "72/72 [==============================] - 0s 2ms/step - loss: 0.3429 - accuracy: 0.8246\n",
      "Iteraion: 49.00. Test loss: 49.00. Test accuracy: 0.34%\n"
     ]
    }
   ],
   "source": [
    "k = []\n",
    "for i in range(50):\n",
    "    input_size = 10\n",
    "    output_size = 2\n",
    "    hidden_layer_size = 15\n",
    "    model = tf.keras.Sequential([tf.keras.layers.Dense(hidden_layer_size, activation='relu'), # 1st hidden layer\n",
    "                                 tf.keras.layers.Dense(hidden_layer_size, activation='relu'), # 2nd hidden layer\n",
    "                                 tf.keras.layers.Dense(output_size, activation='softmax')])\n",
    "    model.compile(optimizer='adam', loss='sparse_categorical_crossentropy', metrics=['accuracy'])\n",
    "\n",
    "    batch_size = 400\n",
    "    max_epochs = 100\n",
    "    early_stopping = tf.keras.callbacks.EarlyStopping(patience=3)\n",
    "    history = model.fit(train_inputs, train_targets, batch_size=batch_size, epochs=max_epochs, callbacks=[early_stopping],\n",
    "                        validation_data=(validation_inputs, validation_targets), verbose = 0)\n",
    "\n",
    "    test_loss, test_accuracy = model.evaluate(test_inputs, test_targets)\n",
    "    print('Iteraion: {0:.2f}. Test loss: {0:.2f}. Test accuracy: {1:.2f}%'.format(i, test_loss, test_accuracy*100.))\n",
    "    k.append(test_accuracy)"
   ]
  },
  {
   "cell_type": "code",
   "execution_count": 8,
   "metadata": {
    "colab": {
     "base_uri": "https://localhost:8080/",
     "height": 465
    },
    "id": "gV5BP7abnLiF",
    "outputId": "44bc1d34-2fc0-43b9-9db9-c6d4121a3abd"
   },
   "outputs": [
    {
     "name": "stdout",
     "output_type": "stream",
     "text": [
      "0.832\n",
      "0.003\n"
     ]
    },
    {
     "data": {
      "image/png": "[encoded data removed]",
      "text/plain": [
       "<Figure size 640x480 with 1 Axes>"
      ]
     },
     "metadata": {},
     "output_type": "display_data"
    }
   ],
   "source": [
    "plt.hist(k, color='cornflowerblue', edgecolor='white')\n",
    "print(np.round(np.mean(k),3))\n",
    "print(np.round(np.std(k),3))"
   ]
  },
  {
   "cell_type": "markdown",
   "metadata": {
    "id": "QWGEmLtIFSR-"
   },
   "source": [
    "# 5. Model\n",
    "tripe layer"
   ]
  },
  {
   "cell_type": "code",
   "execution_count": 9,
   "metadata": {
    "colab": {
     "base_uri": "https://localhost:8080/"
    },
    "id": "SqtUNbmhFSR_",
    "outputId": "56f1bd76-334c-4dd8-e9a6-c32b0a29cf86"
   },
   "outputs": [
    {
     "name": "stdout",
     "output_type": "stream",
     "text": [
      "72/72 [==============================] - 0s 2ms/step - loss: 0.3428 - accuracy: 0.8337\n",
      "Iteraion: 0.00. Test loss: 0.00. Test accuracy: 0.34%\n",
      "72/72 [==============================] - 0s 2ms/step - loss: 0.3463 - accuracy: 0.8359\n",
      "Iteraion: 1.00. Test loss: 1.00. Test accuracy: 0.35%\n",
      "72/72 [==============================] - 0s 2ms/step - loss: 0.3425 - accuracy: 0.8211\n",
      "Iteraion: 2.00. Test loss: 2.00. Test accuracy: 0.34%\n",
      "72/72 [==============================] - 0s 2ms/step - loss: 0.3479 - accuracy: 0.8272\n",
      "Iteraion: 3.00. Test loss: 3.00. Test accuracy: 0.35%\n",
      "72/72 [==============================] - 0s 2ms/step - loss: 0.3529 - accuracy: 0.8298\n",
      "Iteraion: 4.00. Test loss: 4.00. Test accuracy: 0.35%\n",
      "72/72 [==============================] - 0s 2ms/step - loss: 0.3608 - accuracy: 0.8259\n",
      "Iteraion: 5.00. Test loss: 5.00. Test accuracy: 0.36%\n",
      "72/72 [==============================] - 0s 2ms/step - loss: 0.3483 - accuracy: 0.8337\n",
      "Iteraion: 6.00. Test loss: 6.00. Test accuracy: 0.35%\n",
      "72/72 [==============================] - 0s 2ms/step - loss: 0.3496 - accuracy: 0.8311\n",
      "Iteraion: 7.00. Test loss: 7.00. Test accuracy: 0.35%\n",
      "72/72 [==============================] - 0s 2ms/step - loss: 0.3723 - accuracy: 0.8311\n",
      "Iteraion: 8.00. Test loss: 8.00. Test accuracy: 0.37%\n",
      "72/72 [==============================] - 0s 2ms/step - loss: 0.3614 - accuracy: 0.8320\n",
      "Iteraion: 9.00. Test loss: 9.00. Test accuracy: 0.36%\n",
      "72/72 [==============================] - 0s 2ms/step - loss: 0.3344 - accuracy: 0.8276\n",
      "Iteraion: 10.00. Test loss: 10.00. Test accuracy: 0.33%\n",
      "72/72 [==============================] - 0s 3ms/step - loss: 0.3419 - accuracy: 0.8215\n",
      "Iteraion: 11.00. Test loss: 11.00. Test accuracy: 0.34%\n",
      "72/72 [==============================] - 0s 2ms/step - loss: 0.3694 - accuracy: 0.8102\n",
      "Iteraion: 12.00. Test loss: 12.00. Test accuracy: 0.37%\n",
      "72/72 [==============================] - 0s 2ms/step - loss: 0.3421 - accuracy: 0.8328\n",
      "Iteraion: 13.00. Test loss: 13.00. Test accuracy: 0.34%\n",
      "72/72 [==============================] - 0s 2ms/step - loss: 0.3419 - accuracy: 0.8272\n",
      "Iteraion: 14.00. Test loss: 14.00. Test accuracy: 0.34%\n",
      "72/72 [==============================] - 0s 2ms/step - loss: 0.3530 - accuracy: 0.8294\n",
      "Iteraion: 15.00. Test loss: 15.00. Test accuracy: 0.35%\n",
      "72/72 [==============================] - 0s 2ms/step - loss: 0.3344 - accuracy: 0.8346\n",
      "Iteraion: 16.00. Test loss: 16.00. Test accuracy: 0.33%\n",
      "72/72 [==============================] - 0s 2ms/step - loss: 0.3381 - accuracy: 0.8285\n",
      "Iteraion: 17.00. Test loss: 17.00. Test accuracy: 0.34%\n",
      "72/72 [==============================] - 0s 2ms/step - loss: 0.3299 - accuracy: 0.8354\n",
      "Iteraion: 18.00. Test loss: 18.00. Test accuracy: 0.33%\n",
      "72/72 [==============================] - 0s 2ms/step - loss: 0.3319 - accuracy: 0.8324\n",
      "Iteraion: 19.00. Test loss: 19.00. Test accuracy: 0.33%\n",
      "72/72 [==============================] - 0s 3ms/step - loss: 0.3510 - accuracy: 0.8267\n",
      "Iteraion: 20.00. Test loss: 20.00. Test accuracy: 0.35%\n",
      "72/72 [==============================] - 0s 2ms/step - loss: 0.3303 - accuracy: 0.8307\n",
      "Iteraion: 21.00. Test loss: 21.00. Test accuracy: 0.33%\n",
      "72/72 [==============================] - 0s 3ms/step - loss: 0.3369 - accuracy: 0.8207\n",
      "Iteraion: 22.00. Test loss: 22.00. Test accuracy: 0.34%\n",
      "72/72 [==============================] - 0s 2ms/step - loss: 0.3513 - accuracy: 0.8337\n",
      "Iteraion: 23.00. Test loss: 23.00. Test accuracy: 0.35%\n",
      "72/72 [==============================] - 0s 2ms/step - loss: 0.3306 - accuracy: 0.8307\n",
      "Iteraion: 24.00. Test loss: 24.00. Test accuracy: 0.33%\n",
      "72/72 [==============================] - 0s 2ms/step - loss: 0.3635 - accuracy: 0.8359\n",
      "Iteraion: 25.00. Test loss: 25.00. Test accuracy: 0.36%\n",
      "72/72 [==============================] - 0s 2ms/step - loss: 0.3325 - accuracy: 0.8328\n",
      "Iteraion: 26.00. Test loss: 26.00. Test accuracy: 0.33%\n",
      "72/72 [==============================] - 0s 2ms/step - loss: 0.3266 - accuracy: 0.8341\n",
      "Iteraion: 27.00. Test loss: 27.00. Test accuracy: 0.33%\n",
      "72/72 [==============================] - 0s 2ms/step - loss: 0.3311 - accuracy: 0.8272\n",
      "Iteraion: 28.00. Test loss: 28.00. Test accuracy: 0.33%\n",
      "72/72 [==============================] - 0s 2ms/step - loss: 0.3572 - accuracy: 0.8281\n",
      "Iteraion: 29.00. Test loss: 29.00. Test accuracy: 0.36%\n",
      "72/72 [==============================] - 0s 2ms/step - loss: 0.3628 - accuracy: 0.8272\n",
      "Iteraion: 30.00. Test loss: 30.00. Test accuracy: 0.36%\n",
      "72/72 [==============================] - 0s 2ms/step - loss: 0.3337 - accuracy: 0.8281\n",
      "Iteraion: 31.00. Test loss: 31.00. Test accuracy: 0.33%\n",
      "72/72 [==============================] - 0s 2ms/step - loss: 0.3536 - accuracy: 0.8320\n",
      "Iteraion: 32.00. Test loss: 32.00. Test accuracy: 0.35%\n",
      "72/72 [==============================] - 0s 2ms/step - loss: 0.3527 - accuracy: 0.8341\n",
      "Iteraion: 33.00. Test loss: 33.00. Test accuracy: 0.35%\n",
      "72/72 [==============================] - 0s 2ms/step - loss: 0.3320 - accuracy: 0.8307\n",
      "Iteraion: 34.00. Test loss: 34.00. Test accuracy: 0.33%\n",
      "72/72 [==============================] - 0s 2ms/step - loss: 0.3239 - accuracy: 0.8354\n",
      "Iteraion: 35.00. Test loss: 35.00. Test accuracy: 0.32%\n",
      "72/72 [==============================] - 0s 2ms/step - loss: 0.3682 - accuracy: 0.8263\n",
      "Iteraion: 36.00. Test loss: 36.00. Test accuracy: 0.37%\n",
      "72/72 [==============================] - 0s 3ms/step - loss: 0.3354 - accuracy: 0.8224\n",
      "Iteraion: 37.00. Test loss: 37.00. Test accuracy: 0.34%\n",
      "72/72 [==============================] - 0s 2ms/step - loss: 0.3557 - accuracy: 0.8259\n",
      "Iteraion: 38.00. Test loss: 38.00. Test accuracy: 0.36%\n",
      "72/72 [==============================] - 0s 2ms/step - loss: 0.3792 - accuracy: 0.8341\n",
      "Iteraion: 39.00. Test loss: 39.00. Test accuracy: 0.38%\n",
      "72/72 [==============================] - 0s 2ms/step - loss: 0.3588 - accuracy: 0.8311\n",
      "Iteraion: 40.00. Test loss: 40.00. Test accuracy: 0.36%\n",
      "72/72 [==============================] - 0s 2ms/step - loss: 0.3285 - accuracy: 0.8337\n",
      "Iteraion: 41.00. Test loss: 41.00. Test accuracy: 0.33%\n",
      "72/72 [==============================] - 0s 2ms/step - loss: 0.3305 - accuracy: 0.8324\n",
      "Iteraion: 42.00. Test loss: 42.00. Test accuracy: 0.33%\n",
      "72/72 [==============================] - 0s 3ms/step - loss: 0.3343 - accuracy: 0.8281\n",
      "Iteraion: 43.00. Test loss: 43.00. Test accuracy: 0.33%\n",
      "72/72 [==============================] - 0s 2ms/step - loss: 0.3646 - accuracy: 0.8294\n",
      "Iteraion: 44.00. Test loss: 44.00. Test accuracy: 0.36%\n",
      "72/72 [==============================] - 0s 3ms/step - loss: 0.3284 - accuracy: 0.8341\n",
      "Iteraion: 45.00. Test loss: 45.00. Test accuracy: 0.33%\n",
      "72/72 [==============================] - 0s 2ms/step - loss: 0.3557 - accuracy: 0.8324\n",
      "Iteraion: 46.00. Test loss: 46.00. Test accuracy: 0.36%\n",
      "72/72 [==============================] - 0s 2ms/step - loss: 0.3727 - accuracy: 0.8263\n",
      "Iteraion: 47.00. Test loss: 47.00. Test accuracy: 0.37%\n",
      "72/72 [==============================] - 0s 2ms/step - loss: 0.3292 - accuracy: 0.8354\n",
      "Iteraion: 48.00. Test loss: 48.00. Test accuracy: 0.33%\n",
      "72/72 [==============================] - 0s 3ms/step - loss: 0.3341 - accuracy: 0.8285\n",
      "Iteraion: 49.00. Test loss: 49.00. Test accuracy: 0.33%\n"
     ]
    }
   ],
   "source": [
    "k = []\n",
    "for i in range(50):\n",
    "    input_size = 10\n",
    "    output_size = 2\n",
    "    hidden_layer_size = 10\n",
    "    model = tf.keras.Sequential([tf.keras.layers.Dense(hidden_layer_size, activation='relu'), # 1st hidden layer\n",
    "                                 tf.keras.layers.Dense(hidden_layer_size, activation='relu'), # 2nd hidden layer\n",
    "                                 tf.keras.layers.Dense(hidden_layer_size, activation='relu'), # 3rd hidden layer\n",
    "                                 tf.keras.layers.Dense(output_size, activation='softmax')])\n",
    "    model.compile(optimizer='adam', loss='sparse_categorical_crossentropy', metrics=['accuracy'])\n",
    "\n",
    "    batch_size = 400\n",
    "    max_epochs = 100\n",
    "    early_stopping = tf.keras.callbacks.EarlyStopping(patience=3)\n",
    "    history = model.fit(train_inputs, train_targets, batch_size=batch_size, epochs=max_epochs, callbacks=[early_stopping],\n",
    "                        validation_data=(validation_inputs, validation_targets), verbose = 0)\n",
    "\n",
    "    test_loss, test_accuracy = model.evaluate(test_inputs, test_targets)\n",
    "    print('Iteraion: {0:.2f}. Test loss: {0:.2f}. Test accuracy: {1:.2f}%'.format(i, test_loss, test_accuracy*100.))\n",
    "    k.append(test_accuracy)"
   ]
  },
  {
   "cell_type": "code",
   "execution_count": 10,
   "metadata": {
    "colab": {
     "base_uri": "https://localhost:8080/",
     "height": 465
    },
    "id": "ye7BfFcOnMQy",
    "outputId": "e125268c-8556-4301-9465-a470558276c0"
   },
   "outputs": [
    {
     "name": "stdout",
     "output_type": "stream",
     "text": [
      "0.83\n",
      "0.005\n"
     ]
    },
    {
     "data": {
      "image/png": "[encoded data removed]",
      "text/plain": [
       "<Figure size 640x480 with 1 Axes>"
      ]
     },
     "metadata": {},
     "output_type": "display_data"
    }
   ],
   "source": [
    "plt.hist(k, color='cornflowerblue', edgecolor='white')\n",
    "print(np.round(np.mean(k),3))\n",
    "print(np.round(np.std(k),3))"
   ]
  }
 ],
 "metadata": {
  "colab": {
   "provenance": []
  },
  "kernelspec": {
   "display_name": "Python 3",
   "language": "python",
   "name": "python3"
  },
  "language_info": {
   "codemirror_mode": {
    "name": "ipython",
    "version": 3
   },
   "file_extension": ".py",
   "mimetype": "text/x-python",
   "name": "python",
   "nbconvert_exporter": "python",
   "pygments_lexer": "ipython3",
   "version": "3.8.5"
  }
 },
 "nbformat": 4,
 "nbformat_minor": 1
}
