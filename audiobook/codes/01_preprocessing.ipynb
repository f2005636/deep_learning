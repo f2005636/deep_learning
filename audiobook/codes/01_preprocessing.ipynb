{
 "cells": [
  {
   "cell_type": "markdown",
   "metadata": {
    "id": "B8mxLVbL6RPO"
   },
   "source": [
    "# 1. Audiobooks"
   ]
  },
  {
   "cell_type": "code",
   "execution_count": 1,
   "metadata": {
    "colab": {
     "base_uri": "https://localhost:8080/"
    },
    "executionInfo": {
     "elapsed": 3753,
     "status": "ok",
     "timestamp": 1700140507322,
     "user": {
      "displayName": "Rohit garg",
      "userId": "02417238952739470957"
     },
     "user_tz": -330
    },
    "id": "JHtzOqBe61QY",
    "outputId": "0bce15ba-37cb-4f01-8765-d221526b19fc"
   },
   "outputs": [
    {
     "name": "stdout",
     "output_type": "stream",
     "text": [
      "Drive already mounted at /content/drive; to attempt to forcibly remount, call drive.mount(\"/content/drive\", force_remount=True).\n",
      "/content/drive/MyDrive/peerkart\n"
     ]
    }
   ],
   "source": [
    "from google.colab import drive\n",
    "drive.mount('/content/drive')\n",
    "%cd /content/drive/MyDrive/peerkart"
   ]
  },
  {
   "cell_type": "code",
   "execution_count": 2,
   "metadata": {
    "executionInfo": {
     "elapsed": 651,
     "status": "ok",
     "timestamp": 1700140507970,
     "user": {
      "displayName": "Rohit garg",
      "userId": "02417238952739470957"
     },
     "user_tz": -330
    },
    "id": "oVtJP9DB6RPU"
   },
   "outputs": [],
   "source": [
    "import numpy as np\n",
    "import pandas as pd\n",
    "import datetime as dt"
   ]
  },
  {
   "cell_type": "code",
   "execution_count": 3,
   "metadata": {
    "executionInfo": {
     "elapsed": 969,
     "status": "ok",
     "timestamp": 1700140508934,
     "user": {
      "displayName": "Rohit garg",
      "userId": "02417238952739470957"
     },
     "user_tz": -330
    },
    "id": "NXDyV-vz6nm6"
   },
   "outputs": [],
   "source": [
    "from sklearn.preprocessing import StandardScaler"
   ]
  },
  {
   "cell_type": "markdown",
   "metadata": {
    "id": "wPdx_vuA_PH4"
   },
   "source": [
    "# 2. Import file\n",
    "* read the csv\n",
    "* make the ratio between 0 and 1 same\n",
    "* repeat y=1 five times"
   ]
  },
  {
   "cell_type": "code",
   "execution_count": 4,
   "metadata": {
    "colab": {
     "base_uri": "https://localhost:8080/",
     "height": 208
    },
    "executionInfo": {
     "elapsed": 13,
     "status": "ok",
     "timestamp": 1700140508934,
     "user": {
      "displayName": "Rohit garg",
      "userId": "02417238952739470957"
     },
     "user_tz": -330
    },
    "id": "w6Bhrc9S6ip9",
    "outputId": "a1d929cf-c18d-41e0-82ea-78e50def4973"
   },
   "outputs": [
    {
     "name": "stdout",
     "output_type": "stream",
     "text": [
      "(14084, 12)\n"
     ]
    },
    {
     "data": {
      "text/plain": [
       "11\n",
       "0     11847\n",
       "1      2237\n",
       "dtype: int64"
      ]
     },
     "metadata": {},
     "output_type": "display_data"
    },
    {
     "name": "stdout",
     "output_type": "stream",
     "text": [
      "\n",
      " (23032, 12)\n"
     ]
    },
    {
     "data": {
      "text/plain": [
       "11\n",
       "0     11847\n",
       "1     11185\n",
       "dtype: int64"
      ]
     },
     "metadata": {},
     "output_type": "display_data"
    }
   ],
   "source": [
    "df = pd.read_csv('Audiobooks_data.csv', header=None)\n",
    "print(df.shape)\n",
    "display(df[[11]].value_counts())\n",
    "\n",
    "df0 = df[df[11]==0]\n",
    "df1 = df[df[11]==1]\n",
    "df1 = pd.concat([df1,df1,df1,df1,df1])\n",
    "\n",
    "df = pd.concat([df1,df0]).reset_index(drop=True)\n",
    "print('\\n',df.shape)\n",
    "display(df[[11]].value_counts())"
   ]
  },
  {
   "cell_type": "markdown",
   "metadata": {
    "id": "QPlDVSgY_ixr"
   },
   "source": [
    "# 3. Split train, test and validation\n",
    "* train = 70%\n",
    "* test = 10%\n",
    "* validation = 20%"
   ]
  },
  {
   "cell_type": "code",
   "execution_count": 5,
   "metadata": {
    "colab": {
     "base_uri": "https://localhost:8080/",
     "height": 173
    },
    "executionInfo": {
     "elapsed": 9,
     "status": "ok",
     "timestamp": 1700140508934,
     "user": {
      "displayName": "Rohit garg",
      "userId": "02417238952739470957"
     },
     "user_tz": -330
    },
    "id": "pmDjC-sC_K2_",
    "outputId": "0d3a4f01-a7ba-40df-f3e1-b5879291ddb4"
   },
   "outputs": [
    {
     "data": {
      "text/plain": [
       "Training    16122\n",
       "Validate     4607\n",
       "Test         2303\n",
       "Name: flag, dtype: int64"
      ]
     },
     "metadata": {},
     "output_type": "display_data"
    },
    {
     "name": "stdout",
     "output_type": "stream",
     "text": [
      "\n",
      "\n",
      "16122 7830 48.57\n",
      "2303 1118 48.55\n",
      "4607 2237 48.56\n"
     ]
    }
   ],
   "source": [
    "df = df.reset_index()\n",
    "df['index'] = df['index']%10\n",
    "df['flag'] = np.where(df['index'].isin([9]), 'Test',\n",
    "                      np.where(df['index'].isin([0,5]), 'Validate', 'Training'))\n",
    "display(df['flag'].value_counts())\n",
    "\n",
    "train = df[df['flag']=='Training']\n",
    "test = df[df['flag']=='Test']\n",
    "val = df[df['flag']=='Validate']\n",
    "\n",
    "print('\\n')\n",
    "print(train.shape[0], np.sum(train[11]), np.round(np.sum(train[11]) / train.shape[0] * 100, 2))\n",
    "print(test.shape[0], np.sum(test[11]), np.round(np.sum(test[11]) / test.shape[0] * 100, 2))\n",
    "print(val.shape[0], np.sum(val[11]), np.round(np.sum(val[11]) / val.shape[0] * 100, 2))"
   ]
  },
  {
   "cell_type": "markdown",
   "metadata": {
    "id": "z-F2FopZB4-b"
   },
   "source": [
    "# 4. Data is Scaled\n",
    "* standard scalar is used\n",
    "* standard scalar is trained on training\n",
    "* applied on training, test and validation"
   ]
  },
  {
   "cell_type": "code",
   "execution_count": 6,
   "metadata": {
    "colab": {
     "base_uri": "https://localhost:8080/",
     "height": 363
    },
    "executionInfo": {
     "elapsed": 9,
     "status": "ok",
     "timestamp": 1700140508934,
     "user": {
      "displayName": "Rohit garg",
      "userId": "02417238952739470957"
     },
     "user_tz": -330
    },
    "id": "2RhJzVkC7xca",
    "outputId": "82b6e729-4060-47c4-e5ca-6521038d4573"
   },
   "outputs": [
    {
     "data": {
      "text/html": [
       "\n",
       "  <div id=\"df-0deb9b92-9f6a-4068-8997-cf8695b41eea\" class=\"colab-df-container\">\n",
       "    <div>\n",
       "<style scoped>\n",
       "    .dataframe tbody tr th:only-of-type {\n",
       "        vertical-align: middle;\n",
       "    }\n",
       "\n",
       "    .dataframe tbody tr th {\n",
       "        vertical-align: top;\n",
       "    }\n",
       "\n",
       "    .dataframe thead th {\n",
       "        text-align: right;\n",
       "    }\n",
       "</style>\n",
       "<table border=\"1\" class=\"dataframe\">\n",
       "  <thead>\n",
       "    <tr style=\"text-align: right;\">\n",
       "      <th></th>\n",
       "      <th>count</th>\n",
       "      <th>mean</th>\n",
       "      <th>std</th>\n",
       "      <th>min</th>\n",
       "      <th>25%</th>\n",
       "      <th>50%</th>\n",
       "      <th>75%</th>\n",
       "      <th>max</th>\n",
       "    </tr>\n",
       "  </thead>\n",
       "  <tbody>\n",
       "    <tr>\n",
       "      <th>0</th>\n",
       "      <td>23032.0</td>\n",
       "      <td>-0.005124</td>\n",
       "      <td>1.001958</td>\n",
       "      <td>-2.715024</td>\n",
       "      <td>-0.758204</td>\n",
       "      <td>0.111494</td>\n",
       "      <td>1.198616</td>\n",
       "      <td>1.198616</td>\n",
       "    </tr>\n",
       "    <tr>\n",
       "      <th>1</th>\n",
       "      <td>23032.0</td>\n",
       "      <td>-0.001333</td>\n",
       "      <td>1.001991</td>\n",
       "      <td>-1.869277</td>\n",
       "      <td>-0.743699</td>\n",
       "      <td>-0.243442</td>\n",
       "      <td>0.381880</td>\n",
       "      <td>6.009771</td>\n",
       "    </tr>\n",
       "    <tr>\n",
       "      <th>2</th>\n",
       "      <td>23032.0</td>\n",
       "      <td>0.000509</td>\n",
       "      <td>1.014955</td>\n",
       "      <td>-0.650070</td>\n",
       "      <td>-0.361271</td>\n",
       "      <td>-0.231606</td>\n",
       "      <td>0.163282</td>\n",
       "      <td>24.316296</td>\n",
       "    </tr>\n",
       "    <tr>\n",
       "      <th>3</th>\n",
       "      <td>23032.0</td>\n",
       "      <td>0.000775</td>\n",
       "      <td>1.003566</td>\n",
       "      <td>-0.692451</td>\n",
       "      <td>-0.473623</td>\n",
       "      <td>-0.268192</td>\n",
       "      <td>0.014647</td>\n",
       "      <td>18.225029</td>\n",
       "    </tr>\n",
       "    <tr>\n",
       "      <th>4</th>\n",
       "      <td>23032.0</td>\n",
       "      <td>-0.000947</td>\n",
       "      <td>0.999166</td>\n",
       "      <td>-0.444515</td>\n",
       "      <td>-0.444515</td>\n",
       "      <td>-0.444515</td>\n",
       "      <td>-0.444515</td>\n",
       "      <td>2.249645</td>\n",
       "    </tr>\n",
       "    <tr>\n",
       "      <th>5</th>\n",
       "      <td>23032.0</td>\n",
       "      <td>0.001322</td>\n",
       "      <td>0.990352</td>\n",
       "      <td>-11.473184</td>\n",
       "      <td>-0.009000</td>\n",
       "      <td>-0.009000</td>\n",
       "      <td>-0.009000</td>\n",
       "      <td>1.570768</td>\n",
       "    </tr>\n",
       "    <tr>\n",
       "      <th>6</th>\n",
       "      <td>23032.0</td>\n",
       "      <td>0.004063</td>\n",
       "      <td>1.004274</td>\n",
       "      <td>-0.385065</td>\n",
       "      <td>-0.385065</td>\n",
       "      <td>-0.385065</td>\n",
       "      <td>-0.334423</td>\n",
       "      <td>4.679063</td>\n",
       "    </tr>\n",
       "    <tr>\n",
       "      <th>7</th>\n",
       "      <td>23032.0</td>\n",
       "      <td>-0.000047</td>\n",
       "      <td>1.000112</td>\n",
       "      <td>-0.437885</td>\n",
       "      <td>-0.437885</td>\n",
       "      <td>-0.437885</td>\n",
       "      <td>-0.193407</td>\n",
       "      <td>7.548395</td>\n",
       "    </tr>\n",
       "    <tr>\n",
       "      <th>8</th>\n",
       "      <td>23032.0</td>\n",
       "      <td>0.000149</td>\n",
       "      <td>1.067278</td>\n",
       "      <td>-0.187311</td>\n",
       "      <td>-0.187311</td>\n",
       "      <td>-0.187311</td>\n",
       "      <td>-0.187311</td>\n",
       "      <td>67.521758</td>\n",
       "    </tr>\n",
       "    <tr>\n",
       "      <th>9</th>\n",
       "      <td>23032.0</td>\n",
       "      <td>0.003715</td>\n",
       "      <td>1.002320</td>\n",
       "      <td>-0.754531</td>\n",
       "      <td>-0.754531</td>\n",
       "      <td>-0.548691</td>\n",
       "      <td>0.621347</td>\n",
       "      <td>4.272299</td>\n",
       "    </tr>\n",
       "  </tbody>\n",
       "</table>\n",
       "</div>\n",
       "    <div class=\"colab-df-buttons\">\n",
       "\n",
       "  <div class=\"colab-df-container\">\n",
       "    <button class=\"colab-df-convert\" onclick=\"convertToInteractive('df-0deb9b92-9f6a-4068-8997-cf8695b41eea')\"\n",
       "            title=\"Convert this dataframe to an interactive table.\"\n",
       "            style=\"display:none;\">\n",
       "\n",
       "  <svg xmlns=\"http://www.w3.org/2000/svg\" height=\"24px\" viewBox=\"0 -960 960 960\">\n",
       "    <path d=\"M120-120v-720h720v720H120Zm60-500h600v-160H180v160Zm220 220h160v-160H400v160Zm0 220h160v-160H400v160ZM180-400h160v-160H180v160Zm440 0h160v-160H620v160ZM180-180h160v-160H180v160Zm440 0h160v-160H620v160Z\"/>\n",
       "  </svg>\n",
       "    </button>\n",
       "\n",
       "  <style>\n",
       "    .colab-df-container {\n",
       "      display:flex;\n",
       "      gap: 12px;\n",
       "    }\n",
       "\n",
       "    .colab-df-convert {\n",
       "      background-color: #E8F0FE;\n",
       "      border: none;\n",
       "      border-radius: 50%;\n",
       "      cursor: pointer;\n",
       "      display: none;\n",
       "      fill: #1967D2;\n",
       "      height: 32px;\n",
       "      padding: 0 0 0 0;\n",
       "      width: 32px;\n",
       "    }\n",
       "\n",
       "    .colab-df-convert:hover {\n",
       "      background-color: #E2EBFA;\n",
       "      box-shadow: 0px 1px 2px rgba(60, 64, 67, 0.3), 0px 1px 3px 1px rgba(60, 64, 67, 0.15);\n",
       "      fill: #174EA6;\n",
       "    }\n",
       "\n",
       "    .colab-df-buttons div {\n",
       "      margin-bottom: 4px;\n",
       "    }\n",
       "\n",
       "    [theme=dark] .colab-df-convert {\n",
       "      background-color: #3B4455;\n",
       "      fill: #D2E3FC;\n",
       "    }\n",
       "\n",
       "    [theme=dark] .colab-df-convert:hover {\n",
       "      background-color: #434B5C;\n",
       "      box-shadow: 0px 1px 3px 1px rgba(0, 0, 0, 0.15);\n",
       "      filter: drop-shadow(0px 1px 2px rgba(0, 0, 0, 0.3));\n",
       "      fill: #FFFFFF;\n",
       "    }\n",
       "  </style>\n",
       "\n",
       "    <script>\n",
       "      const buttonEl =\n",
       "        document.querySelector('#df-0deb9b92-9f6a-4068-8997-cf8695b41eea button.colab-df-convert');\n",
       "      buttonEl.style.display =\n",
       "        google.colab.kernel.accessAllowed ? 'block' : 'none';\n",
       "\n",
       "      async function convertToInteractive(key) {\n",
       "        const element = document.querySelector('#df-0deb9b92-9f6a-4068-8997-cf8695b41eea');\n",
       "        const dataTable =\n",
       "          await google.colab.kernel.invokeFunction('convertToInteractive',\n",
       "                                                    [key], {});\n",
       "        if (!dataTable) return;\n",
       "\n",
       "        const docLinkHtml = 'Like what you see? Visit the ' +\n",
       "          '<a target=\"_blank\" href=https://colab.research.google.com/notebooks/data_table.ipynb>data table notebook</a>'\n",
       "          + ' to learn more about interactive tables.';\n",
       "        element.innerHTML = '';\n",
       "        dataTable['output_type'] = 'display_data';\n",
       "        await google.colab.output.renderOutput(dataTable, element);\n",
       "        const docLink = document.createElement('div');\n",
       "        docLink.innerHTML = docLinkHtml;\n",
       "        element.appendChild(docLink);\n",
       "      }\n",
       "    </script>\n",
       "  </div>\n",
       "\n",
       "\n",
       "<div id=\"df-182c487b-6189-4dc6-a105-0c562e6aa0b8\">\n",
       "  <button class=\"colab-df-quickchart\" onclick=\"quickchart('df-182c487b-6189-4dc6-a105-0c562e6aa0b8')\"\n",
       "            title=\"Suggest charts\"\n",
       "            style=\"display:none;\">\n",
       "\n",
       "<svg xmlns=\"http://www.w3.org/2000/svg\" height=\"24px\"viewBox=\"0 0 24 24\"\n",
       "     width=\"24px\">\n",
       "    <g>\n",
       "        <path d=\"M19 3H5c-1.1 0-2 .9-2 2v14c0 1.1.9 2 2 2h14c1.1 0 2-.9 2-2V5c0-1.1-.9-2-2-2zM9 17H7v-7h2v7zm4 0h-2V7h2v10zm4 0h-2v-4h2v4z\"/>\n",
       "    </g>\n",
       "</svg>\n",
       "  </button>\n",
       "\n",
       "<style>\n",
       "  .colab-df-quickchart {\n",
       "      --bg-color: #E8F0FE;\n",
       "      --fill-color: #1967D2;\n",
       "      --hover-bg-color: #E2EBFA;\n",
       "      --hover-fill-color: #174EA6;\n",
       "      --disabled-fill-color: #AAA;\n",
       "      --disabled-bg-color: #DDD;\n",
       "  }\n",
       "\n",
       "  [theme=dark] .colab-df-quickchart {\n",
       "      --bg-color: #3B4455;\n",
       "      --fill-color: #D2E3FC;\n",
       "      --hover-bg-color: #434B5C;\n",
       "      --hover-fill-color: #FFFFFF;\n",
       "      --disabled-bg-color: #3B4455;\n",
       "      --disabled-fill-color: #666;\n",
       "  }\n",
       "\n",
       "  .colab-df-quickchart {\n",
       "    background-color: var(--bg-color);\n",
       "    border: none;\n",
       "    border-radius: 50%;\n",
       "    cursor: pointer;\n",
       "    display: none;\n",
       "    fill: var(--fill-color);\n",
       "    height: 32px;\n",
       "    padding: 0;\n",
       "    width: 32px;\n",
       "  }\n",
       "\n",
       "  .colab-df-quickchart:hover {\n",
       "    background-color: var(--hover-bg-color);\n",
       "    box-shadow: 0 1px 2px rgba(60, 64, 67, 0.3), 0 1px 3px 1px rgba(60, 64, 67, 0.15);\n",
       "    fill: var(--button-hover-fill-color);\n",
       "  }\n",
       "\n",
       "  .colab-df-quickchart-complete:disabled,\n",
       "  .colab-df-quickchart-complete:disabled:hover {\n",
       "    background-color: var(--disabled-bg-color);\n",
       "    fill: var(--disabled-fill-color);\n",
       "    box-shadow: none;\n",
       "  }\n",
       "\n",
       "  .colab-df-spinner {\n",
       "    border: 2px solid var(--fill-color);\n",
       "    border-color: transparent;\n",
       "    border-bottom-color: var(--fill-color);\n",
       "    animation:\n",
       "      spin 1s steps(1) infinite;\n",
       "  }\n",
       "\n",
       "  @keyframes spin {\n",
       "    0% {\n",
       "      border-color: transparent;\n",
       "      border-bottom-color: var(--fill-color);\n",
       "      border-left-color: var(--fill-color);\n",
       "    }\n",
       "    20% {\n",
       "      border-color: transparent;\n",
       "      border-left-color: var(--fill-color);\n",
       "      border-top-color: var(--fill-color);\n",
       "    }\n",
       "    30% {\n",
       "      border-color: transparent;\n",
       "      border-left-color: var(--fill-color);\n",
       "      border-top-color: var(--fill-color);\n",
       "      border-right-color: var(--fill-color);\n",
       "    }\n",
       "    40% {\n",
       "      border-color: transparent;\n",
       "      border-right-color: var(--fill-color);\n",
       "      border-top-color: var(--fill-color);\n",
       "    }\n",
       "    60% {\n",
       "      border-color: transparent;\n",
       "      border-right-color: var(--fill-color);\n",
       "    }\n",
       "    80% {\n",
       "      border-color: transparent;\n",
       "      border-right-color: var(--fill-color);\n",
       "      border-bottom-color: var(--fill-color);\n",
       "    }\n",
       "    90% {\n",
       "      border-color: transparent;\n",
       "      border-bottom-color: var(--fill-color);\n",
       "    }\n",
       "  }\n",
       "</style>\n",
       "\n",
       "  <script>\n",
       "    async function quickchart(key) {\n",
       "      const quickchartButtonEl =\n",
       "        document.querySelector('#' + key + ' button');\n",
       "      quickchartButtonEl.disabled = true;  // To prevent multiple clicks.\n",
       "      quickchartButtonEl.classList.add('colab-df-spinner');\n",
       "      try {\n",
       "        const charts = await google.colab.kernel.invokeFunction(\n",
       "            'suggestCharts', [key], {});\n",
       "      } catch (error) {\n",
       "        console.error('Error during call to suggestCharts:', error);\n",
       "      }\n",
       "      quickchartButtonEl.classList.remove('colab-df-spinner');\n",
       "      quickchartButtonEl.classList.add('colab-df-quickchart-complete');\n",
       "    }\n",
       "    (() => {\n",
       "      let quickchartButtonEl =\n",
       "        document.querySelector('#df-182c487b-6189-4dc6-a105-0c562e6aa0b8 button');\n",
       "      quickchartButtonEl.style.display =\n",
       "        google.colab.kernel.accessAllowed ? 'block' : 'none';\n",
       "    })();\n",
       "  </script>\n",
       "</div>\n",
       "    </div>\n",
       "  </div>\n"
      ],
      "text/plain": [
       "     count      mean       std        min       25%       50%       75%  \\\n",
       "0  23032.0 -0.005124  1.001958  -2.715024 -0.758204  0.111494  1.198616   \n",
       "1  23032.0 -0.001333  1.001991  -1.869277 -0.743699 -0.243442  0.381880   \n",
       "2  23032.0  0.000509  1.014955  -0.650070 -0.361271 -0.231606  0.163282   \n",
       "3  23032.0  0.000775  1.003566  -0.692451 -0.473623 -0.268192  0.014647   \n",
       "4  23032.0 -0.000947  0.999166  -0.444515 -0.444515 -0.444515 -0.444515   \n",
       "5  23032.0  0.001322  0.990352 -11.473184 -0.009000 -0.009000 -0.009000   \n",
       "6  23032.0  0.004063  1.004274  -0.385065 -0.385065 -0.385065 -0.334423   \n",
       "7  23032.0 -0.000047  1.000112  -0.437885 -0.437885 -0.437885 -0.193407   \n",
       "8  23032.0  0.000149  1.067278  -0.187311 -0.187311 -0.187311 -0.187311   \n",
       "9  23032.0  0.003715  1.002320  -0.754531 -0.754531 -0.548691  0.621347   \n",
       "\n",
       "         max  \n",
       "0   1.198616  \n",
       "1   6.009771  \n",
       "2  24.316296  \n",
       "3  18.225029  \n",
       "4   2.249645  \n",
       "5   1.570768  \n",
       "6   4.679063  \n",
       "7   7.548395  \n",
       "8  67.521758  \n",
       "9   4.272299  "
      ]
     },
     "metadata": {},
     "output_type": "display_data"
    }
   ],
   "source": [
    "trainx = train.drop(['index',0,11,'flag'], axis=1)\n",
    "trainy = train[[11]]\n",
    "scaler = StandardScaler()\n",
    "scaler.fit(trainx)\n",
    "trainx = pd.DataFrame(scaler.transform(trainx))\n",
    "trainx['flag'] = 'Training'\n",
    "\n",
    "testx = test.drop(['index',0,11,'flag'], axis=1)\n",
    "testy = test[[11]]\n",
    "testx = pd.DataFrame(scaler.transform(testx))\n",
    "testx['flag'] = 'Test'\n",
    "\n",
    "valx = val.drop(['index',0,11,'flag'], axis=1)\n",
    "valy = val[[11]]\n",
    "valx = pd.DataFrame(scaler.transform(valx))\n",
    "valx['flag'] = 'Validate'\n",
    "\n",
    "y = pd.concat([trainy, testy, valy]).reset_index(drop=True)\n",
    "x = pd.concat([trainx, testx, valx]).reset_index(drop=True)\n",
    "df = pd.concat([x,y], axis=1)\n",
    "display(x.describe().transpose())"
   ]
  },
  {
   "cell_type": "markdown",
   "metadata": {
    "id": "F_gkeYA26RPX"
   },
   "source": [
    "# 5. Save the datasets"
   ]
  },
  {
   "cell_type": "code",
   "execution_count": 7,
   "metadata": {
    "colab": {
     "base_uri": "https://localhost:8080/"
    },
    "collapsed": true,
    "executionInfo": {
     "elapsed": 408,
     "status": "ok",
     "timestamp": 1700140509334,
     "user": {
      "displayName": "Rohit garg",
      "userId": "02417238952739470957"
     },
     "user_tz": -330
    },
    "id": "ygvknDaf6RPY",
    "outputId": "02c29b4e-0d96-480d-a988-828bcdefb40d"
   },
   "outputs": [
    {
     "data": {
      "text/plain": [
       "(23032, 12)"
      ]
     },
     "execution_count": 7,
     "metadata": {},
     "output_type": "execute_result"
    }
   ],
   "source": [
    "df.to_csv('01_preprocessing.csv', index=False)\n",
    "df.shape"
   ]
  }
 ],
 "metadata": {
  "colab": {
   "provenance": []
  },
  "kernelspec": {
   "display_name": "Python 3",
   "language": "python",
   "name": "python3"
  },
  "language_info": {
   "codemirror_mode": {
    "name": "ipython",
    "version": 3
   },
   "file_extension": ".py",
   "mimetype": "text/x-python",
   "name": "python",
   "nbconvert_exporter": "python",
   "pygments_lexer": "ipython3",
   "version": "3.8.5"
  }
 },
 "nbformat": 4,
 "nbformat_minor": 1
}
