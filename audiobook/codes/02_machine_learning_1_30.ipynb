{
 "cells": [
  {
   "cell_type": "markdown",
   "metadata": {
    "id": "evi24tidFSR6"
   },
   "source": [
    "# 1. Audiobooks"
   ]
  },
  {
   "cell_type": "code",
   "execution_count": null,
   "metadata": {
    "colab": {
     "base_uri": "https://localhost:8080/"
    },
    "executionInfo": {
     "elapsed": 23724,
     "status": "ok",
     "timestamp": 1700250543545,
     "user": {
      "displayName": "Rohit garg",
      "userId": "02417238952739470957"
     },
     "user_tz": -330
    },
    "id": "gOqE9qUMF0kh",
    "outputId": "a6fa4c09-25b9-4f5e-a921-0f888255378f"
   },
   "outputs": [
    {
     "name": "stdout",
     "output_type": "stream",
     "text": [
      "Mounted at /content/drive\n",
      "/content/drive/MyDrive/peerkart\n"
     ]
    }
   ],
   "source": [
    "from google.colab import drive\n",
    "drive.mount('/content/drive')\n",
    "%cd /content/drive/MyDrive/peerkart"
   ]
  },
  {
   "cell_type": "code",
   "execution_count": null,
   "metadata": {
    "id": "6pL7oVAiF0ht"
   },
   "outputs": [],
   "source": [
    "import numpy as np\n",
    "import pandas as pd\n",
    "import datetime as dt\n",
    "import matplotlib.pyplot as plt\n",
    "%matplotlib inline"
   ]
  },
  {
   "cell_type": "code",
   "execution_count": null,
   "metadata": {
    "id": "E0hB6olPFSR8"
   },
   "outputs": [],
   "source": [
    "import tensorflow as tf"
   ]
  },
  {
   "cell_type": "markdown",
   "metadata": {
    "id": "1_po6HyzFSR9"
   },
   "source": [
    "# 2. Import file\n",
    "* read the csv file\n",
    "* do the train, test and vali split\n",
    "* create dataframes for inputs and targets"
   ]
  },
  {
   "cell_type": "code",
   "execution_count": null,
   "metadata": {
    "colab": {
     "base_uri": "https://localhost:8080/"
    },
    "executionInfo": {
     "elapsed": 674,
     "status": "ok",
     "timestamp": 1700250555719,
     "user": {
      "displayName": "Rohit garg",
      "userId": "02417238952739470957"
     },
     "user_tz": -330
    },
    "id": "b970yaN0GKlE",
    "outputId": "71126950-f106-4221-9d3e-1cd69cbb7953"
   },
   "outputs": [
    {
     "name": "stdout",
     "output_type": "stream",
     "text": [
      "(16122, 10)\n",
      "(2303, 10)\n",
      "(4607, 10)\n"
     ]
    }
   ],
   "source": [
    "df = pd.read_csv('01_preprocessing.csv')\n",
    "train_inputs = df[df['flag']=='Training'].drop(['flag','11'], axis=1)\n",
    "train_targets = df[df['flag']=='Training'][['11']]\n",
    "print(train_inputs.shape)\n",
    "\n",
    "df = pd.read_csv('01_preprocessing.csv')\n",
    "test_inputs = df[df['flag']=='Test'].drop(['flag','11'], axis=1)\n",
    "test_targets = df[df['flag']=='Test'][['11']]\n",
    "print(test_inputs.shape)\n",
    "\n",
    "df = pd.read_csv('01_preprocessing.csv')\n",
    "validation_inputs = df[df['flag']=='Validate'].drop(['flag','11'], axis=1)\n",
    "validation_targets = df[df['flag']=='Validate'][['11']]\n",
    "print(validation_inputs.shape)"
   ]
  },
  {
   "cell_type": "markdown",
   "metadata": {
    "id": "mL0O2BQbFSR9"
   },
   "source": [
    "# 3. Model\n",
    "Outline, optimizers, loss, early stopping and training"
   ]
  },
  {
   "cell_type": "code",
   "execution_count": null,
   "metadata": {
    "colab": {
     "base_uri": "https://localhost:8080/"
    },
    "executionInfo": {
     "elapsed": 11503,
     "status": "ok",
     "timestamp": 1700250567218,
     "user": {
      "displayName": "Rohit garg",
      "userId": "02417238952739470957"
     },
     "user_tz": -330
    },
    "id": "hA9txYSLFSR9",
    "outputId": "86c3719a-73d7-4d11-debb-778879c16cf4"
   },
   "outputs": [
    {
     "name": "stdout",
     "output_type": "stream",
     "text": [
      "Epoch 1/100\n",
      "41/41 - 2s - loss: 0.6525 - accuracy: 0.6393 - val_loss: 0.6045 - val_accuracy: 0.7235 - 2s/epoch - 43ms/step\n",
      "Epoch 2/100\n",
      "41/41 - 0s - loss: 0.5720 - accuracy: 0.7347 - val_loss: 0.5392 - val_accuracy: 0.7478 - 125ms/epoch - 3ms/step\n",
      "Epoch 3/100\n",
      "41/41 - 0s - loss: 0.5193 - accuracy: 0.7526 - val_loss: 0.4962 - val_accuracy: 0.7567 - 118ms/epoch - 3ms/step\n",
      "Epoch 4/100\n",
      "41/41 - 0s - loss: 0.4853 - accuracy: 0.7618 - val_loss: 0.4683 - val_accuracy: 0.7660 - 110ms/epoch - 3ms/step\n",
      "Epoch 5/100\n",
      "41/41 - 0s - loss: 0.4627 - accuracy: 0.7688 - val_loss: 0.4496 - val_accuracy: 0.7714 - 109ms/epoch - 3ms/step\n",
      "Epoch 6/100\n",
      "41/41 - 0s - loss: 0.4468 - accuracy: 0.7734 - val_loss: 0.4364 - val_accuracy: 0.7773 - 113ms/epoch - 3ms/step\n",
      "Epoch 7/100\n",
      "41/41 - 0s - loss: 0.4350 - accuracy: 0.7778 - val_loss: 0.4266 - val_accuracy: 0.7782 - 121ms/epoch - 3ms/step\n",
      "Epoch 8/100\n",
      "41/41 - 0s - loss: 0.4260 - accuracy: 0.7826 - val_loss: 0.4184 - val_accuracy: 0.7853 - 117ms/epoch - 3ms/step\n",
      "Epoch 9/100\n",
      "41/41 - 0s - loss: 0.4186 - accuracy: 0.7874 - val_loss: 0.4121 - val_accuracy: 0.7890 - 110ms/epoch - 3ms/step\n",
      "Epoch 10/100\n",
      "41/41 - 0s - loss: 0.4124 - accuracy: 0.7886 - val_loss: 0.4067 - val_accuracy: 0.7890 - 118ms/epoch - 3ms/step\n",
      "Epoch 11/100\n",
      "41/41 - 0s - loss: 0.4072 - accuracy: 0.7920 - val_loss: 0.4021 - val_accuracy: 0.7925 - 116ms/epoch - 3ms/step\n",
      "Epoch 12/100\n",
      "41/41 - 0s - loss: 0.4026 - accuracy: 0.7925 - val_loss: 0.3980 - val_accuracy: 0.7927 - 121ms/epoch - 3ms/step\n",
      "Epoch 13/100\n",
      "41/41 - 0s - loss: 0.3985 - accuracy: 0.7939 - val_loss: 0.3939 - val_accuracy: 0.7960 - 123ms/epoch - 3ms/step\n",
      "Epoch 14/100\n",
      "41/41 - 0s - loss: 0.3947 - accuracy: 0.7968 - val_loss: 0.3903 - val_accuracy: 0.7992 - 117ms/epoch - 3ms/step\n",
      "Epoch 15/100\n",
      "41/41 - 0s - loss: 0.3914 - accuracy: 0.7984 - val_loss: 0.3874 - val_accuracy: 0.7988 - 132ms/epoch - 3ms/step\n",
      "Epoch 16/100\n",
      "41/41 - 0s - loss: 0.3883 - accuracy: 0.8004 - val_loss: 0.3845 - val_accuracy: 0.8005 - 148ms/epoch - 4ms/step\n",
      "Epoch 17/100\n",
      "41/41 - 0s - loss: 0.3853 - accuracy: 0.8019 - val_loss: 0.3820 - val_accuracy: 0.8042 - 166ms/epoch - 4ms/step\n",
      "Epoch 18/100\n",
      "41/41 - 0s - loss: 0.3831 - accuracy: 0.8037 - val_loss: 0.3795 - val_accuracy: 0.8042 - 119ms/epoch - 3ms/step\n",
      "Epoch 19/100\n",
      "41/41 - 0s - loss: 0.3808 - accuracy: 0.8039 - val_loss: 0.3778 - val_accuracy: 0.8040 - 109ms/epoch - 3ms/step\n",
      "Epoch 20/100\n",
      "41/41 - 0s - loss: 0.3785 - accuracy: 0.8059 - val_loss: 0.3754 - val_accuracy: 0.8057 - 106ms/epoch - 3ms/step\n",
      "Epoch 21/100\n",
      "41/41 - 0s - loss: 0.3770 - accuracy: 0.8053 - val_loss: 0.3737 - val_accuracy: 0.8070 - 107ms/epoch - 3ms/step\n",
      "Epoch 22/100\n",
      "41/41 - 0s - loss: 0.3751 - accuracy: 0.8075 - val_loss: 0.3722 - val_accuracy: 0.8059 - 116ms/epoch - 3ms/step\n",
      "Epoch 23/100\n",
      "41/41 - 0s - loss: 0.3736 - accuracy: 0.8064 - val_loss: 0.3705 - val_accuracy: 0.8103 - 106ms/epoch - 3ms/step\n",
      "Epoch 24/100\n",
      "41/41 - 0s - loss: 0.3720 - accuracy: 0.8078 - val_loss: 0.3688 - val_accuracy: 0.8070 - 121ms/epoch - 3ms/step\n",
      "Epoch 25/100\n",
      "41/41 - 0s - loss: 0.3705 - accuracy: 0.8078 - val_loss: 0.3687 - val_accuracy: 0.8075 - 109ms/epoch - 3ms/step\n",
      "Epoch 26/100\n",
      "41/41 - 0s - loss: 0.3695 - accuracy: 0.8077 - val_loss: 0.3663 - val_accuracy: 0.8090 - 152ms/epoch - 4ms/step\n",
      "Epoch 27/100\n",
      "41/41 - 0s - loss: 0.3679 - accuracy: 0.8091 - val_loss: 0.3646 - val_accuracy: 0.8092 - 116ms/epoch - 3ms/step\n",
      "Epoch 28/100\n",
      "41/41 - 0s - loss: 0.3670 - accuracy: 0.8075 - val_loss: 0.3637 - val_accuracy: 0.8107 - 116ms/epoch - 3ms/step\n",
      "Epoch 29/100\n",
      "41/41 - 0s - loss: 0.3655 - accuracy: 0.8097 - val_loss: 0.3627 - val_accuracy: 0.8112 - 116ms/epoch - 3ms/step\n",
      "Epoch 30/100\n",
      "41/41 - 0s - loss: 0.3647 - accuracy: 0.8098 - val_loss: 0.3622 - val_accuracy: 0.8114 - 123ms/epoch - 3ms/step\n",
      "Epoch 31/100\n",
      "41/41 - 0s - loss: 0.3635 - accuracy: 0.8114 - val_loss: 0.3608 - val_accuracy: 0.8138 - 119ms/epoch - 3ms/step\n",
      "Epoch 32/100\n",
      "41/41 - 0s - loss: 0.3624 - accuracy: 0.8114 - val_loss: 0.3598 - val_accuracy: 0.8127 - 130ms/epoch - 3ms/step\n",
      "Epoch 33/100\n",
      "41/41 - 0s - loss: 0.3617 - accuracy: 0.8114 - val_loss: 0.3590 - val_accuracy: 0.8155 - 114ms/epoch - 3ms/step\n",
      "Epoch 34/100\n",
      "41/41 - 0s - loss: 0.3605 - accuracy: 0.8122 - val_loss: 0.3583 - val_accuracy: 0.8142 - 125ms/epoch - 3ms/step\n",
      "Epoch 35/100\n",
      "41/41 - 0s - loss: 0.3602 - accuracy: 0.8128 - val_loss: 0.3575 - val_accuracy: 0.8144 - 114ms/epoch - 3ms/step\n",
      "Epoch 36/100\n",
      "41/41 - 0s - loss: 0.3591 - accuracy: 0.8124 - val_loss: 0.3574 - val_accuracy: 0.8144 - 111ms/epoch - 3ms/step\n",
      "Epoch 37/100\n",
      "41/41 - 0s - loss: 0.3587 - accuracy: 0.8133 - val_loss: 0.3563 - val_accuracy: 0.8170 - 110ms/epoch - 3ms/step\n",
      "Epoch 38/100\n",
      "41/41 - 0s - loss: 0.3580 - accuracy: 0.8146 - val_loss: 0.3554 - val_accuracy: 0.8153 - 120ms/epoch - 3ms/step\n",
      "Epoch 39/100\n",
      "41/41 - 0s - loss: 0.3570 - accuracy: 0.8134 - val_loss: 0.3545 - val_accuracy: 0.8153 - 110ms/epoch - 3ms/step\n",
      "Epoch 40/100\n",
      "41/41 - 0s - loss: 0.3571 - accuracy: 0.8142 - val_loss: 0.3542 - val_accuracy: 0.8144 - 119ms/epoch - 3ms/step\n",
      "Epoch 41/100\n",
      "41/41 - 0s - loss: 0.3557 - accuracy: 0.8147 - val_loss: 0.3541 - val_accuracy: 0.8183 - 109ms/epoch - 3ms/step\n",
      "Epoch 42/100\n",
      "41/41 - 0s - loss: 0.3555 - accuracy: 0.8147 - val_loss: 0.3532 - val_accuracy: 0.8168 - 118ms/epoch - 3ms/step\n",
      "Epoch 43/100\n",
      "41/41 - 0s - loss: 0.3548 - accuracy: 0.8140 - val_loss: 0.3530 - val_accuracy: 0.8146 - 110ms/epoch - 3ms/step\n",
      "Epoch 44/100\n",
      "41/41 - 0s - loss: 0.3541 - accuracy: 0.8135 - val_loss: 0.3518 - val_accuracy: 0.8170 - 113ms/epoch - 3ms/step\n",
      "Epoch 45/100\n",
      "41/41 - 0s - loss: 0.3536 - accuracy: 0.8143 - val_loss: 0.3517 - val_accuracy: 0.8179 - 106ms/epoch - 3ms/step\n",
      "Epoch 46/100\n",
      "41/41 - 0s - loss: 0.3533 - accuracy: 0.8135 - val_loss: 0.3509 - val_accuracy: 0.8175 - 112ms/epoch - 3ms/step\n",
      "Epoch 47/100\n",
      "41/41 - 0s - loss: 0.3526 - accuracy: 0.8156 - val_loss: 0.3504 - val_accuracy: 0.8194 - 110ms/epoch - 3ms/step\n",
      "Epoch 48/100\n",
      "41/41 - 0s - loss: 0.3528 - accuracy: 0.8146 - val_loss: 0.3503 - val_accuracy: 0.8181 - 107ms/epoch - 3ms/step\n",
      "Epoch 49/100\n",
      "41/41 - 0s - loss: 0.3519 - accuracy: 0.8160 - val_loss: 0.3496 - val_accuracy: 0.8188 - 121ms/epoch - 3ms/step\n",
      "Epoch 50/100\n",
      "41/41 - 0s - loss: 0.3517 - accuracy: 0.8148 - val_loss: 0.3500 - val_accuracy: 0.8168 - 120ms/epoch - 3ms/step\n",
      "Epoch 51/100\n",
      "41/41 - 0s - loss: 0.3512 - accuracy: 0.8162 - val_loss: 0.3488 - val_accuracy: 0.8198 - 112ms/epoch - 3ms/step\n",
      "Epoch 52/100\n",
      "41/41 - 0s - loss: 0.3505 - accuracy: 0.8158 - val_loss: 0.3484 - val_accuracy: 0.8201 - 121ms/epoch - 3ms/step\n",
      "Epoch 53/100\n",
      "41/41 - 0s - loss: 0.3501 - accuracy: 0.8158 - val_loss: 0.3481 - val_accuracy: 0.8181 - 110ms/epoch - 3ms/step\n",
      "Epoch 54/100\n",
      "41/41 - 0s - loss: 0.3501 - accuracy: 0.8160 - val_loss: 0.3479 - val_accuracy: 0.8198 - 111ms/epoch - 3ms/step\n",
      "Epoch 55/100\n",
      "41/41 - 0s - loss: 0.3495 - accuracy: 0.8155 - val_loss: 0.3476 - val_accuracy: 0.8188 - 109ms/epoch - 3ms/step\n",
      "Epoch 56/100\n",
      "41/41 - 0s - loss: 0.3494 - accuracy: 0.8167 - val_loss: 0.3471 - val_accuracy: 0.8179 - 106ms/epoch - 3ms/step\n",
      "Epoch 57/100\n",
      "41/41 - 0s - loss: 0.3490 - accuracy: 0.8153 - val_loss: 0.3471 - val_accuracy: 0.8214 - 115ms/epoch - 3ms/step\n",
      "Epoch 58/100\n",
      "41/41 - 0s - loss: 0.3483 - accuracy: 0.8168 - val_loss: 0.3464 - val_accuracy: 0.8185 - 121ms/epoch - 3ms/step\n",
      "Epoch 59/100\n",
      "41/41 - 0s - loss: 0.3483 - accuracy: 0.8170 - val_loss: 0.3472 - val_accuracy: 0.8185 - 111ms/epoch - 3ms/step\n",
      "Epoch 60/100\n",
      "41/41 - 0s - loss: 0.3478 - accuracy: 0.8175 - val_loss: 0.3469 - val_accuracy: 0.8220 - 113ms/epoch - 3ms/step\n",
      "Epoch 61/100\n",
      "41/41 - 0s - loss: 0.3473 - accuracy: 0.8182 - val_loss: 0.3464 - val_accuracy: 0.8192 - 114ms/epoch - 3ms/step\n",
      "Epoch 62/100\n",
      "41/41 - 0s - loss: 0.3476 - accuracy: 0.8169 - val_loss: 0.3459 - val_accuracy: 0.8205 - 107ms/epoch - 3ms/step\n",
      "Epoch 63/100\n",
      "41/41 - 0s - loss: 0.3470 - accuracy: 0.8175 - val_loss: 0.3458 - val_accuracy: 0.8203 - 110ms/epoch - 3ms/step\n",
      "Epoch 64/100\n",
      "41/41 - 0s - loss: 0.3469 - accuracy: 0.8171 - val_loss: 0.3459 - val_accuracy: 0.8227 - 116ms/epoch - 3ms/step\n",
      "Epoch 65/100\n",
      "41/41 - 0s - loss: 0.3472 - accuracy: 0.8175 - val_loss: 0.3451 - val_accuracy: 0.8222 - 111ms/epoch - 3ms/step\n",
      "Epoch 66/100\n",
      "41/41 - 0s - loss: 0.3465 - accuracy: 0.8163 - val_loss: 0.3448 - val_accuracy: 0.8218 - 154ms/epoch - 4ms/step\n",
      "Epoch 67/100\n",
      "41/41 - 0s - loss: 0.3461 - accuracy: 0.8166 - val_loss: 0.3445 - val_accuracy: 0.8216 - 109ms/epoch - 3ms/step\n",
      "Epoch 68/100\n",
      "41/41 - 0s - loss: 0.3458 - accuracy: 0.8168 - val_loss: 0.3442 - val_accuracy: 0.8214 - 114ms/epoch - 3ms/step\n",
      "Epoch 69/100\n",
      "41/41 - 0s - loss: 0.3458 - accuracy: 0.8190 - val_loss: 0.3443 - val_accuracy: 0.8218 - 113ms/epoch - 3ms/step\n",
      "Epoch 70/100\n",
      "41/41 - 0s - loss: 0.3452 - accuracy: 0.8183 - val_loss: 0.3451 - val_accuracy: 0.8175 - 111ms/epoch - 3ms/step\n",
      "Epoch 71/100\n",
      "41/41 - 0s - loss: 0.3455 - accuracy: 0.8178 - val_loss: 0.3441 - val_accuracy: 0.8216 - 112ms/epoch - 3ms/step\n",
      "Epoch 72/100\n",
      "41/41 - 0s - loss: 0.3446 - accuracy: 0.8177 - val_loss: 0.3432 - val_accuracy: 0.8209 - 112ms/epoch - 3ms/step\n",
      "Epoch 73/100\n",
      "41/41 - 0s - loss: 0.3448 - accuracy: 0.8190 - val_loss: 0.3431 - val_accuracy: 0.8214 - 108ms/epoch - 3ms/step\n",
      "Epoch 74/100\n",
      "41/41 - 0s - loss: 0.3447 - accuracy: 0.8199 - val_loss: 0.3432 - val_accuracy: 0.8229 - 114ms/epoch - 3ms/step\n",
      "Epoch 75/100\n",
      "41/41 - 0s - loss: 0.3443 - accuracy: 0.8185 - val_loss: 0.3426 - val_accuracy: 0.8220 - 124ms/epoch - 3ms/step\n",
      "Epoch 76/100\n",
      "41/41 - 0s - loss: 0.3442 - accuracy: 0.8195 - val_loss: 0.3429 - val_accuracy: 0.8224 - 114ms/epoch - 3ms/step\n",
      "Epoch 77/100\n",
      "41/41 - 0s - loss: 0.3441 - accuracy: 0.8176 - val_loss: 0.3428 - val_accuracy: 0.8227 - 119ms/epoch - 3ms/step\n",
      "Epoch 78/100\n",
      "41/41 - 0s - loss: 0.3440 - accuracy: 0.8191 - val_loss: 0.3436 - val_accuracy: 0.8214 - 111ms/epoch - 3ms/step\n"
     ]
    }
   ],
   "source": [
    "input_size = 10\n",
    "output_size = 2\n",
    "hidden_layer_size = 30\n",
    "model = tf.keras.Sequential([tf.keras.layers.Dense(hidden_layer_size, activation='relu'), # 1st hidden layer\n",
    "                             tf.keras.layers.Dense(output_size, activation='softmax') # output layer\n",
    "                             ])\n",
    "\n",
    "model.compile(optimizer='adam', loss='sparse_categorical_crossentropy', metrics=['accuracy'])\n",
    "\n",
    "batch_size = 400\n",
    "max_epochs = 100\n",
    "early_stopping = tf.keras.callbacks.EarlyStopping(patience=3)\n",
    "tf.keras.utils.set_random_seed(42)\n",
    "tf.config.experimental.enable_op_determinism()\n",
    "\n",
    "history = model.fit(train_inputs, train_targets, batch_size=batch_size, epochs=max_epochs, callbacks=[early_stopping],\n",
    "                    validation_data=(validation_inputs, validation_targets), verbose = 2)"
   ]
  },
  {
   "cell_type": "markdown",
   "metadata": {
    "id": "BhsVYRxoV0ye"
   },
   "source": [
    "# 4. Model Loss"
   ]
  },
  {
   "cell_type": "code",
   "execution_count": null,
   "metadata": {
    "colab": {
     "base_uri": "https://localhost:8080/",
     "height": 472
    },
    "executionInfo": {
     "elapsed": 944,
     "status": "ok",
     "timestamp": 1700250568130,
     "user": {
      "displayName": "Rohit garg",
      "userId": "02417238952739470957"
     },
     "user_tz": -330
    },
    "id": "KtYu1EFrS8vT",
    "outputId": "8f7f8c62-dac6-4f95-cb00-66e1cf8466eb"
   },
   "outputs": [
    {
     "data": {
      "image/png": "[encoded data removed]",
      "text/plain": [
       "<Figure size 640x480 with 1 Axes>"
      ]
     },
     "metadata": {},
     "output_type": "display_data"
    }
   ],
   "source": [
    "plt.plot(history.history['loss'], color='powderblue')\n",
    "plt.plot(history.history['val_loss'], color='cornflowerblue')\n",
    "plt.title('model loss')\n",
    "plt.ylabel('loss')\n",
    "plt.xlabel('epoch')\n",
    "plt.legend(['train', 'validation'], loc='upper right')\n",
    "plt.show()"
   ]
  },
  {
   "cell_type": "markdown",
   "metadata": {
    "id": "QWGEmLtIFSR-"
   },
   "source": [
    "# 5. Test"
   ]
  },
  {
   "cell_type": "code",
   "execution_count": null,
   "metadata": {
    "colab": {
     "base_uri": "https://localhost:8080/"
    },
    "executionInfo": {
     "elapsed": 17,
     "status": "ok",
     "timestamp": 1700250568131,
     "user": {
      "displayName": "Rohit garg",
      "userId": "02417238952739470957"
     },
     "user_tz": -330
    },
    "id": "SqtUNbmhFSR_",
    "outputId": "6424026a-d153-4c93-947f-255895e1e9b7"
   },
   "outputs": [
    {
     "name": "stdout",
     "output_type": "stream",
     "text": [
      "72/72 [==============================] - 0s 2ms/step - loss: 0.3279 - accuracy: 0.8324\n",
      "\n",
      "Test loss: 0.33. Test accuracy: 83.24%\n"
     ]
    }
   ],
   "source": [
    "test_loss, test_accuracy = model.evaluate(test_inputs, test_targets)\n",
    "print('\\nTest loss: {0:.2f}. Test accuracy: {1:.2f}%'.format(test_loss, test_accuracy*100.))"
   ]
  }
 ],
 "metadata": {
  "colab": {
   "provenance": []
  },
  "kernelspec": {
   "display_name": "Python 3",
   "language": "python",
   "name": "python3"
  },
  "language_info": {
   "codemirror_mode": {
    "name": "ipython",
    "version": 3
   },
   "file_extension": ".py",
   "mimetype": "text/x-python",
   "name": "python",
   "nbconvert_exporter": "python",
   "pygments_lexer": "ipython3",
   "version": "3.8.5"
  }
 },
 "nbformat": 4,
 "nbformat_minor": 1
}
