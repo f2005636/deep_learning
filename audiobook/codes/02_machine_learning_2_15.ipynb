{
 "cells": [
  {
   "cell_type": "markdown",
   "metadata": {
    "id": "evi24tidFSR6"
   },
   "source": [
    "# 1. Audiobooks"
   ]
  },
  {
   "cell_type": "code",
   "execution_count": null,
   "metadata": {
    "colab": {
     "base_uri": "https://localhost:8080/"
    },
    "executionInfo": {
     "elapsed": 3562,
     "status": "ok",
     "timestamp": 1700225232914,
     "user": {
      "displayName": "Rohit garg",
      "userId": "02417238952739470957"
     },
     "user_tz": -330
    },
    "id": "gOqE9qUMF0kh",
    "outputId": "51c7a885-9f9b-4c42-846c-8040eccb36bd"
   },
   "outputs": [
    {
     "name": "stdout",
     "output_type": "stream",
     "text": [
      "Drive already mounted at /content/drive; to attempt to forcibly remount, call drive.mount(\"/content/drive\", force_remount=True).\n",
      "/content/drive/MyDrive/peerkart\n"
     ]
    }
   ],
   "source": [
    "from google.colab import drive\n",
    "drive.mount('/content/drive')\n",
    "%cd /content/drive/MyDrive/peerkart"
   ]
  },
  {
   "cell_type": "code",
   "execution_count": null,
   "metadata": {
    "id": "6pL7oVAiF0ht"
   },
   "outputs": [],
   "source": [
    "import numpy as np\n",
    "import pandas as pd\n",
    "import datetime as dt\n",
    "import matplotlib.pyplot as plt\n",
    "%matplotlib inline"
   ]
  },
  {
   "cell_type": "code",
   "execution_count": null,
   "metadata": {
    "id": "E0hB6olPFSR8"
   },
   "outputs": [],
   "source": [
    "import tensorflow as tf"
   ]
  },
  {
   "cell_type": "markdown",
   "metadata": {
    "id": "1_po6HyzFSR9"
   },
   "source": [
    "# 2. Import file\n",
    "* read the csv file\n",
    "* do the train, test and vali split\n",
    "* create dataframes for inputs and targets"
   ]
  },
  {
   "cell_type": "code",
   "execution_count": null,
   "metadata": {
    "colab": {
     "base_uri": "https://localhost:8080/"
    },
    "executionInfo": {
     "elapsed": 502,
     "status": "ok",
     "timestamp": 1700225235892,
     "user": {
      "displayName": "Rohit garg",
      "userId": "02417238952739470957"
     },
     "user_tz": -330
    },
    "id": "b970yaN0GKlE",
    "outputId": "ca2c33f4-f913-4c08-ff5a-4f48e1a9e1f6"
   },
   "outputs": [
    {
     "name": "stdout",
     "output_type": "stream",
     "text": [
      "(16122, 10)\n",
      "(2303, 10)\n",
      "(4607, 10)\n"
     ]
    }
   ],
   "source": [
    "df = pd.read_csv('01_preprocessing.csv')\n",
    "train_inputs = df[df['flag']=='Training'].drop(['flag','11'], axis=1)\n",
    "train_targets = df[df['flag']=='Training'][['11']]\n",
    "print(train_inputs.shape)\n",
    "\n",
    "df = pd.read_csv('01_preprocessing.csv')\n",
    "test_inputs = df[df['flag']=='Test'].drop(['flag','11'], axis=1)\n",
    "test_targets = df[df['flag']=='Test'][['11']]\n",
    "print(test_inputs.shape)\n",
    "\n",
    "df = pd.read_csv('01_preprocessing.csv')\n",
    "validation_inputs = df[df['flag']=='Validate'].drop(['flag','11'], axis=1)\n",
    "validation_targets = df[df['flag']=='Validate'][['11']]\n",
    "print(validation_inputs.shape)"
   ]
  },
  {
   "cell_type": "markdown",
   "metadata": {
    "id": "mL0O2BQbFSR9"
   },
   "source": [
    "# 3. Model\n",
    "Outline, optimizers, loss, early stopping and training"
   ]
  },
  {
   "cell_type": "code",
   "execution_count": null,
   "metadata": {
    "colab": {
     "base_uri": "https://localhost:8080/"
    },
    "executionInfo": {
     "elapsed": 11495,
     "status": "ok",
     "timestamp": 1700225247383,
     "user": {
      "displayName": "Rohit garg",
      "userId": "02417238952739470957"
     },
     "user_tz": -330
    },
    "id": "hA9txYSLFSR9",
    "outputId": "f78385d8-a8ad-4633-efdc-1464b9e6bb5c"
   },
   "outputs": [
    {
     "name": "stdout",
     "output_type": "stream",
     "text": [
      "Epoch 1/100\n",
      "41/41 - 2s - loss: 0.7025 - accuracy: 0.5455 - val_loss: 0.6380 - val_accuracy: 0.6418 - 2s/epoch - 45ms/step\n",
      "Epoch 2/100\n",
      "41/41 - 0s - loss: 0.6020 - accuracy: 0.6931 - val_loss: 0.5574 - val_accuracy: 0.7356 - 292ms/epoch - 7ms/step\n",
      "Epoch 3/100\n",
      "41/41 - 0s - loss: 0.5284 - accuracy: 0.7458 - val_loss: 0.4933 - val_accuracy: 0.7619 - 225ms/epoch - 5ms/step\n",
      "Epoch 4/100\n",
      "41/41 - 0s - loss: 0.4739 - accuracy: 0.7640 - val_loss: 0.4483 - val_accuracy: 0.7779 - 209ms/epoch - 5ms/step\n",
      "Epoch 5/100\n",
      "41/41 - 0s - loss: 0.4390 - accuracy: 0.7793 - val_loss: 0.4232 - val_accuracy: 0.7853 - 233ms/epoch - 6ms/step\n",
      "Epoch 6/100\n",
      "41/41 - 0s - loss: 0.4194 - accuracy: 0.7864 - val_loss: 0.4079 - val_accuracy: 0.7912 - 216ms/epoch - 5ms/step\n",
      "Epoch 7/100\n",
      "41/41 - 0s - loss: 0.4066 - accuracy: 0.7892 - val_loss: 0.3976 - val_accuracy: 0.7953 - 275ms/epoch - 7ms/step\n",
      "Epoch 8/100\n",
      "41/41 - 0s - loss: 0.3973 - accuracy: 0.7954 - val_loss: 0.3897 - val_accuracy: 0.7970 - 240ms/epoch - 6ms/step\n",
      "Epoch 9/100\n",
      "41/41 - 0s - loss: 0.3900 - accuracy: 0.7950 - val_loss: 0.3845 - val_accuracy: 0.7955 - 215ms/epoch - 5ms/step\n",
      "Epoch 10/100\n",
      "41/41 - 0s - loss: 0.3846 - accuracy: 0.7975 - val_loss: 0.3795 - val_accuracy: 0.8029 - 222ms/epoch - 5ms/step\n",
      "Epoch 11/100\n",
      "41/41 - 0s - loss: 0.3803 - accuracy: 0.8018 - val_loss: 0.3760 - val_accuracy: 0.8066 - 230ms/epoch - 6ms/step\n",
      "Epoch 12/100\n",
      "41/41 - 0s - loss: 0.3772 - accuracy: 0.8010 - val_loss: 0.3735 - val_accuracy: 0.8057 - 169ms/epoch - 4ms/step\n",
      "Epoch 13/100\n",
      "41/41 - 0s - loss: 0.3734 - accuracy: 0.8040 - val_loss: 0.3703 - val_accuracy: 0.8046 - 280ms/epoch - 7ms/step\n",
      "Epoch 14/100\n",
      "41/41 - 0s - loss: 0.3709 - accuracy: 0.8056 - val_loss: 0.3692 - val_accuracy: 0.8094 - 230ms/epoch - 6ms/step\n",
      "Epoch 15/100\n",
      "41/41 - 0s - loss: 0.3690 - accuracy: 0.8055 - val_loss: 0.3665 - val_accuracy: 0.8070 - 271ms/epoch - 7ms/step\n",
      "Epoch 16/100\n",
      "41/41 - 0s - loss: 0.3666 - accuracy: 0.8067 - val_loss: 0.3655 - val_accuracy: 0.8070 - 330ms/epoch - 8ms/step\n",
      "Epoch 17/100\n",
      "41/41 - 0s - loss: 0.3652 - accuracy: 0.8077 - val_loss: 0.3628 - val_accuracy: 0.8096 - 184ms/epoch - 4ms/step\n",
      "Epoch 18/100\n",
      "41/41 - 0s - loss: 0.3629 - accuracy: 0.8081 - val_loss: 0.3622 - val_accuracy: 0.8081 - 201ms/epoch - 5ms/step\n",
      "Epoch 19/100\n",
      "41/41 - 0s - loss: 0.3614 - accuracy: 0.8085 - val_loss: 0.3596 - val_accuracy: 0.8125 - 235ms/epoch - 6ms/step\n",
      "Epoch 20/100\n",
      "41/41 - 0s - loss: 0.3594 - accuracy: 0.8098 - val_loss: 0.3597 - val_accuracy: 0.8109 - 164ms/epoch - 4ms/step\n",
      "Epoch 21/100\n",
      "41/41 - 0s - loss: 0.3587 - accuracy: 0.8109 - val_loss: 0.3578 - val_accuracy: 0.8131 - 197ms/epoch - 5ms/step\n",
      "Epoch 22/100\n",
      "41/41 - 0s - loss: 0.3572 - accuracy: 0.8110 - val_loss: 0.3559 - val_accuracy: 0.8135 - 184ms/epoch - 4ms/step\n",
      "Epoch 23/100\n",
      "41/41 - 0s - loss: 0.3564 - accuracy: 0.8117 - val_loss: 0.3551 - val_accuracy: 0.8148 - 143ms/epoch - 3ms/step\n",
      "Epoch 24/100\n",
      "41/41 - 0s - loss: 0.3555 - accuracy: 0.8143 - val_loss: 0.3567 - val_accuracy: 0.8181 - 156ms/epoch - 4ms/step\n",
      "Epoch 25/100\n",
      "41/41 - 0s - loss: 0.3553 - accuracy: 0.8107 - val_loss: 0.3545 - val_accuracy: 0.8103 - 165ms/epoch - 4ms/step\n",
      "Epoch 26/100\n",
      "41/41 - 0s - loss: 0.3536 - accuracy: 0.8137 - val_loss: 0.3522 - val_accuracy: 0.8168 - 129ms/epoch - 3ms/step\n",
      "Epoch 27/100\n",
      "41/41 - 0s - loss: 0.3527 - accuracy: 0.8131 - val_loss: 0.3517 - val_accuracy: 0.8155 - 292ms/epoch - 7ms/step\n",
      "Epoch 28/100\n",
      "41/41 - 0s - loss: 0.3525 - accuracy: 0.8137 - val_loss: 0.3508 - val_accuracy: 0.8157 - 135ms/epoch - 3ms/step\n",
      "Epoch 29/100\n",
      "41/41 - 0s - loss: 0.3512 - accuracy: 0.8157 - val_loss: 0.3492 - val_accuracy: 0.8177 - 133ms/epoch - 3ms/step\n",
      "Epoch 30/100\n",
      "41/41 - 0s - loss: 0.3501 - accuracy: 0.8148 - val_loss: 0.3496 - val_accuracy: 0.8181 - 129ms/epoch - 3ms/step\n",
      "Epoch 31/100\n",
      "41/41 - 0s - loss: 0.3494 - accuracy: 0.8154 - val_loss: 0.3481 - val_accuracy: 0.8161 - 116ms/epoch - 3ms/step\n",
      "Epoch 32/100\n",
      "41/41 - 0s - loss: 0.3491 - accuracy: 0.8165 - val_loss: 0.3474 - val_accuracy: 0.8185 - 111ms/epoch - 3ms/step\n",
      "Epoch 33/100\n",
      "41/41 - 0s - loss: 0.3486 - accuracy: 0.8164 - val_loss: 0.3485 - val_accuracy: 0.8205 - 112ms/epoch - 3ms/step\n",
      "Epoch 34/100\n",
      "41/41 - 0s - loss: 0.3489 - accuracy: 0.8171 - val_loss: 0.3483 - val_accuracy: 0.8183 - 119ms/epoch - 3ms/step\n",
      "Epoch 35/100\n",
      "41/41 - 0s - loss: 0.3484 - accuracy: 0.8144 - val_loss: 0.3468 - val_accuracy: 0.8205 - 153ms/epoch - 4ms/step\n",
      "Epoch 36/100\n",
      "41/41 - 0s - loss: 0.3465 - accuracy: 0.8170 - val_loss: 0.3454 - val_accuracy: 0.8201 - 151ms/epoch - 4ms/step\n",
      "Epoch 37/100\n",
      "41/41 - 0s - loss: 0.3470 - accuracy: 0.8158 - val_loss: 0.3455 - val_accuracy: 0.8198 - 147ms/epoch - 4ms/step\n",
      "Epoch 38/100\n",
      "41/41 - 0s - loss: 0.3460 - accuracy: 0.8180 - val_loss: 0.3447 - val_accuracy: 0.8192 - 157ms/epoch - 4ms/step\n",
      "Epoch 39/100\n",
      "41/41 - 0s - loss: 0.3469 - accuracy: 0.8165 - val_loss: 0.3448 - val_accuracy: 0.8196 - 113ms/epoch - 3ms/step\n",
      "Epoch 40/100\n",
      "41/41 - 0s - loss: 0.3456 - accuracy: 0.8167 - val_loss: 0.3448 - val_accuracy: 0.8222 - 120ms/epoch - 3ms/step\n",
      "Epoch 41/100\n",
      "41/41 - 0s - loss: 0.3445 - accuracy: 0.8188 - val_loss: 0.3438 - val_accuracy: 0.8198 - 189ms/epoch - 5ms/step\n",
      "Epoch 42/100\n",
      "41/41 - 0s - loss: 0.3446 - accuracy: 0.8178 - val_loss: 0.3443 - val_accuracy: 0.8203 - 128ms/epoch - 3ms/step\n",
      "Epoch 43/100\n",
      "41/41 - 0s - loss: 0.3446 - accuracy: 0.8186 - val_loss: 0.3459 - val_accuracy: 0.8175 - 140ms/epoch - 3ms/step\n",
      "Epoch 44/100\n",
      "41/41 - 0s - loss: 0.3440 - accuracy: 0.8181 - val_loss: 0.3434 - val_accuracy: 0.8222 - 170ms/epoch - 4ms/step\n",
      "Epoch 45/100\n",
      "41/41 - 0s - loss: 0.3437 - accuracy: 0.8191 - val_loss: 0.3433 - val_accuracy: 0.8240 - 289ms/epoch - 7ms/step\n",
      "Epoch 46/100\n",
      "41/41 - 0s - loss: 0.3434 - accuracy: 0.8187 - val_loss: 0.3436 - val_accuracy: 0.8242 - 151ms/epoch - 4ms/step\n",
      "Epoch 47/100\n",
      "41/41 - 0s - loss: 0.3431 - accuracy: 0.8186 - val_loss: 0.3425 - val_accuracy: 0.8209 - 147ms/epoch - 4ms/step\n",
      "Epoch 48/100\n",
      "41/41 - 0s - loss: 0.3427 - accuracy: 0.8192 - val_loss: 0.3426 - val_accuracy: 0.8227 - 130ms/epoch - 3ms/step\n",
      "Epoch 49/100\n",
      "41/41 - 0s - loss: 0.3446 - accuracy: 0.8166 - val_loss: 0.3430 - val_accuracy: 0.8220 - 134ms/epoch - 3ms/step\n",
      "Epoch 50/100\n",
      "41/41 - 0s - loss: 0.3431 - accuracy: 0.8184 - val_loss: 0.3432 - val_accuracy: 0.8198 - 139ms/epoch - 3ms/step\n"
     ]
    }
   ],
   "source": [
    "input_size = 10\n",
    "output_size = 2\n",
    "hidden_layer_size = 15\n",
    "model = tf.keras.Sequential([tf.keras.layers.Dense(hidden_layer_size, activation='relu'), # 1st hidden layer\n",
    "                             tf.keras.layers.Dense(hidden_layer_size, activation='relu'), # 2nd hidden layer\n",
    "                             tf.keras.layers.Dense(output_size, activation='softmax') # output layer\n",
    "                             ])\n",
    "\n",
    "model.compile(optimizer='adam', loss='sparse_categorical_crossentropy', metrics=['accuracy'])\n",
    "\n",
    "batch_size = 400\n",
    "max_epochs = 100\n",
    "early_stopping = tf.keras.callbacks.EarlyStopping(patience=3)\n",
    "tf.keras.utils.set_random_seed(108)\n",
    "tf.config.experimental.enable_op_determinism()\n",
    "\n",
    "history = model.fit(train_inputs, train_targets, batch_size=batch_size, epochs=max_epochs, callbacks=[early_stopping],\n",
    "                    validation_data=(validation_inputs, validation_targets), verbose = 2)"
   ]
  },
  {
   "cell_type": "markdown",
   "metadata": {
    "id": "BhsVYRxoV0ye"
   },
   "source": [
    "# 4. Model Loss"
   ]
  },
  {
   "cell_type": "code",
   "execution_count": null,
   "metadata": {
    "colab": {
     "base_uri": "https://localhost:8080/",
     "height": 472
    },
    "executionInfo": {
     "elapsed": 8,
     "status": "ok",
     "timestamp": 1700225247383,
     "user": {
      "displayName": "Rohit garg",
      "userId": "02417238952739470957"
     },
     "user_tz": -330
    },
    "id": "KtYu1EFrS8vT",
    "outputId": "93a9c52c-02cd-4f04-e4ac-eeea1309a9c7"
   },
   "outputs": [
    {
     "data": {
      "image/png": "[encoded data removed]",
      "text/plain": [
       "<Figure size 640x480 with 1 Axes>"
      ]
     },
     "metadata": {},
     "output_type": "display_data"
    }
   ],
   "source": [
    "plt.plot(history.history['loss'], color='powderblue')\n",
    "plt.plot(history.history['val_loss'], color='cornflowerblue')\n",
    "plt.title('model loss')\n",
    "plt.ylabel('loss')\n",
    "plt.xlabel('epoch')\n",
    "plt.legend(['train', 'validation'], loc='upper right')\n",
    "plt.show()"
   ]
  },
  {
   "cell_type": "markdown",
   "metadata": {
    "id": "QWGEmLtIFSR-"
   },
   "source": [
    "# 5. Test"
   ]
  },
  {
   "cell_type": "code",
   "execution_count": null,
   "metadata": {
    "colab": {
     "base_uri": "https://localhost:8080/"
    },
    "executionInfo": {
     "elapsed": 5,
     "status": "ok",
     "timestamp": 1700225248047,
     "user": {
      "displayName": "Rohit garg",
      "userId": "02417238952739470957"
     },
     "user_tz": -330
    },
    "id": "SqtUNbmhFSR_",
    "outputId": "5d425e61-2fbc-42a8-f0a8-4d4f9468a04f"
   },
   "outputs": [
    {
     "name": "stdout",
     "output_type": "stream",
     "text": [
      "72/72 [==============================] - 0s 3ms/step - loss: 0.3244 - accuracy: 0.8328\n",
      "\n",
      "Test loss: 0.32. Test accuracy: 83.28%\n"
     ]
    }
   ],
   "source": [
    "test_loss, test_accuracy = model.evaluate(test_inputs, test_targets)\n",
    "print('\\nTest loss: {0:.2f}. Test accuracy: {1:.2f}%'.format(test_loss, test_accuracy*100.))"
   ]
  }
 ],
 "metadata": {
  "colab": {
   "provenance": []
  },
  "kernelspec": {
   "display_name": "Python 3",
   "language": "python",
   "name": "python3"
  },
  "language_info": {
   "codemirror_mode": {
    "name": "ipython",
    "version": 3
   },
   "file_extension": ".py",
   "mimetype": "text/x-python",
   "name": "python",
   "nbconvert_exporter": "python",
   "pygments_lexer": "ipython3",
   "version": "3.8.5"
  }
 },
 "nbformat": 4,
 "nbformat_minor": 1
}
