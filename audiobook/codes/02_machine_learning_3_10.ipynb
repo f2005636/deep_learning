{
 "cells": [
  {
   "cell_type": "markdown",
   "metadata": {
    "id": "evi24tidFSR6"
   },
   "source": [
    "# 1. Audiobooks"
   ]
  },
  {
   "cell_type": "code",
   "execution_count": null,
   "metadata": {
    "colab": {
     "base_uri": "https://localhost:8080/"
    },
    "executionInfo": {
     "elapsed": 4028,
     "status": "ok",
     "timestamp": 1700225238507,
     "user": {
      "displayName": "Rohit garg",
      "userId": "02417238952739470957"
     },
     "user_tz": -330
    },
    "id": "gOqE9qUMF0kh",
    "outputId": "8b90cfd3-5066-4054-9145-18a0461ee6ad"
   },
   "outputs": [
    {
     "name": "stdout",
     "output_type": "stream",
     "text": [
      "Drive already mounted at /content/drive; to attempt to forcibly remount, call drive.mount(\"/content/drive\", force_remount=True).\n",
      "/content/drive/MyDrive/peerkart\n"
     ]
    }
   ],
   "source": [
    "from google.colab import drive\n",
    "drive.mount('/content/drive')\n",
    "%cd /content/drive/MyDrive/peerkart"
   ]
  },
  {
   "cell_type": "code",
   "execution_count": null,
   "metadata": {
    "id": "6pL7oVAiF0ht"
   },
   "outputs": [],
   "source": [
    "import numpy as np\n",
    "import pandas as pd\n",
    "import datetime as dt\n",
    "import matplotlib.pyplot as plt\n",
    "%matplotlib inline"
   ]
  },
  {
   "cell_type": "code",
   "execution_count": null,
   "metadata": {
    "id": "E0hB6olPFSR8"
   },
   "outputs": [],
   "source": [
    "import tensorflow as tf"
   ]
  },
  {
   "cell_type": "markdown",
   "metadata": {
    "id": "1_po6HyzFSR9"
   },
   "source": [
    "# 2. Import file\n",
    "* read the csv file\n",
    "* do the train, test and vali split\n",
    "* create dataframes for inputs and targets"
   ]
  },
  {
   "cell_type": "code",
   "execution_count": null,
   "metadata": {
    "colab": {
     "base_uri": "https://localhost:8080/"
    },
    "executionInfo": {
     "elapsed": 5,
     "status": "ok",
     "timestamp": 1700225248369,
     "user": {
      "displayName": "Rohit garg",
      "userId": "02417238952739470957"
     },
     "user_tz": -330
    },
    "id": "b970yaN0GKlE",
    "outputId": "98129a5e-f490-4a9a-9a45-c4e1d4918c83"
   },
   "outputs": [
    {
     "name": "stdout",
     "output_type": "stream",
     "text": [
      "(16122, 10)\n",
      "(2303, 10)\n",
      "(4607, 10)\n"
     ]
    }
   ],
   "source": [
    "df = pd.read_csv('01_preprocessing.csv')\n",
    "train_inputs = df[df['flag']=='Training'].drop(['flag','11'], axis=1)\n",
    "train_targets = df[df['flag']=='Training'][['11']]\n",
    "print(train_inputs.shape)\n",
    "\n",
    "df = pd.read_csv('01_preprocessing.csv')\n",
    "test_inputs = df[df['flag']=='Test'].drop(['flag','11'], axis=1)\n",
    "test_targets = df[df['flag']=='Test'][['11']]\n",
    "print(test_inputs.shape)\n",
    "\n",
    "df = pd.read_csv('01_preprocessing.csv')\n",
    "validation_inputs = df[df['flag']=='Validate'].drop(['flag','11'], axis=1)\n",
    "validation_targets = df[df['flag']=='Validate'][['11']]\n",
    "print(validation_inputs.shape)"
   ]
  },
  {
   "cell_type": "markdown",
   "metadata": {
    "id": "mL0O2BQbFSR9"
   },
   "source": [
    "# 3. Model\n",
    "Outline, optimizers, loss, early stopping and training"
   ]
  },
  {
   "cell_type": "code",
   "execution_count": null,
   "metadata": {
    "colab": {
     "base_uri": "https://localhost:8080/"
    },
    "executionInfo": {
     "elapsed": 19823,
     "status": "ok",
     "timestamp": 1700225268189,
     "user": {
      "displayName": "Rohit garg",
      "userId": "02417238952739470957"
     },
     "user_tz": -330
    },
    "id": "hA9txYSLFSR9",
    "outputId": "b64330a6-bcb9-493c-e32b-91d2e65a7029"
   },
   "outputs": [
    {
     "name": "stdout",
     "output_type": "stream",
     "text": [
      "Epoch 1/100\n",
      "41/41 - 3s - loss: 0.6968 - accuracy: 0.5422 - val_loss: 0.6754 - val_accuracy: 0.6065 - 3s/epoch - 76ms/step\n",
      "Epoch 2/100\n",
      "41/41 - 0s - loss: 0.6549 - accuracy: 0.6455 - val_loss: 0.6239 - val_accuracy: 0.6931 - 231ms/epoch - 6ms/step\n",
      "Epoch 3/100\n",
      "41/41 - 0s - loss: 0.5897 - accuracy: 0.7098 - val_loss: 0.5495 - val_accuracy: 0.7321 - 213ms/epoch - 5ms/step\n",
      "Epoch 4/100\n",
      "41/41 - 0s - loss: 0.5224 - accuracy: 0.7435 - val_loss: 0.4891 - val_accuracy: 0.7645 - 220ms/epoch - 5ms/step\n",
      "Epoch 5/100\n",
      "41/41 - 0s - loss: 0.4747 - accuracy: 0.7596 - val_loss: 0.4503 - val_accuracy: 0.7801 - 395ms/epoch - 10ms/step\n",
      "Epoch 6/100\n",
      "41/41 - 0s - loss: 0.4423 - accuracy: 0.7795 - val_loss: 0.4236 - val_accuracy: 0.7925 - 241ms/epoch - 6ms/step\n",
      "Epoch 7/100\n",
      "41/41 - 0s - loss: 0.4192 - accuracy: 0.7879 - val_loss: 0.4056 - val_accuracy: 0.7999 - 257ms/epoch - 6ms/step\n",
      "Epoch 8/100\n",
      "41/41 - 0s - loss: 0.4031 - accuracy: 0.7947 - val_loss: 0.3931 - val_accuracy: 0.8064 - 232ms/epoch - 6ms/step\n",
      "Epoch 9/100\n",
      "41/41 - 0s - loss: 0.3920 - accuracy: 0.8016 - val_loss: 0.3833 - val_accuracy: 0.8118 - 370ms/epoch - 9ms/step\n",
      "Epoch 10/100\n",
      "41/41 - 0s - loss: 0.3835 - accuracy: 0.8049 - val_loss: 0.3770 - val_accuracy: 0.8116 - 257ms/epoch - 6ms/step\n",
      "Epoch 11/100\n",
      "41/41 - 0s - loss: 0.3770 - accuracy: 0.8070 - val_loss: 0.3721 - val_accuracy: 0.8127 - 238ms/epoch - 6ms/step\n",
      "Epoch 12/100\n",
      "41/41 - 0s - loss: 0.3730 - accuracy: 0.8091 - val_loss: 0.3695 - val_accuracy: 0.8170 - 241ms/epoch - 6ms/step\n",
      "Epoch 13/100\n",
      "41/41 - 0s - loss: 0.3690 - accuracy: 0.8092 - val_loss: 0.3652 - val_accuracy: 0.8166 - 343ms/epoch - 8ms/step\n",
      "Epoch 14/100\n",
      "41/41 - 0s - loss: 0.3662 - accuracy: 0.8109 - val_loss: 0.3624 - val_accuracy: 0.8188 - 240ms/epoch - 6ms/step\n",
      "Epoch 15/100\n",
      "41/41 - 0s - loss: 0.3641 - accuracy: 0.8121 - val_loss: 0.3612 - val_accuracy: 0.8164 - 246ms/epoch - 6ms/step\n",
      "Epoch 16/100\n",
      "41/41 - 0s - loss: 0.3615 - accuracy: 0.8129 - val_loss: 0.3579 - val_accuracy: 0.8201 - 477ms/epoch - 12ms/step\n",
      "Epoch 17/100\n",
      "41/41 - 0s - loss: 0.3605 - accuracy: 0.8137 - val_loss: 0.3568 - val_accuracy: 0.8190 - 427ms/epoch - 10ms/step\n",
      "Epoch 18/100\n",
      "41/41 - 0s - loss: 0.3580 - accuracy: 0.8131 - val_loss: 0.3568 - val_accuracy: 0.8194 - 421ms/epoch - 10ms/step\n",
      "Epoch 19/100\n",
      "41/41 - 0s - loss: 0.3571 - accuracy: 0.8135 - val_loss: 0.3532 - val_accuracy: 0.8201 - 478ms/epoch - 12ms/step\n",
      "Epoch 20/100\n",
      "41/41 - 1s - loss: 0.3555 - accuracy: 0.8161 - val_loss: 0.3541 - val_accuracy: 0.8194 - 588ms/epoch - 14ms/step\n",
      "Epoch 21/100\n",
      "41/41 - 0s - loss: 0.3553 - accuracy: 0.8145 - val_loss: 0.3527 - val_accuracy: 0.8229 - 471ms/epoch - 11ms/step\n",
      "Epoch 22/100\n",
      "41/41 - 0s - loss: 0.3539 - accuracy: 0.8139 - val_loss: 0.3506 - val_accuracy: 0.8220 - 441ms/epoch - 11ms/step\n",
      "Epoch 23/100\n",
      "41/41 - 1s - loss: 0.3530 - accuracy: 0.8168 - val_loss: 0.3505 - val_accuracy: 0.8231 - 535ms/epoch - 13ms/step\n",
      "Epoch 24/100\n",
      "41/41 - 0s - loss: 0.3527 - accuracy: 0.8155 - val_loss: 0.3545 - val_accuracy: 0.8196 - 481ms/epoch - 12ms/step\n",
      "Epoch 25/100\n",
      "41/41 - 1s - loss: 0.3533 - accuracy: 0.8151 - val_loss: 0.3505 - val_accuracy: 0.8192 - 549ms/epoch - 13ms/step\n",
      "Epoch 26/100\n",
      "41/41 - 1s - loss: 0.3517 - accuracy: 0.8154 - val_loss: 0.3497 - val_accuracy: 0.8231 - 516ms/epoch - 13ms/step\n",
      "Epoch 27/100\n",
      "41/41 - 0s - loss: 0.3506 - accuracy: 0.8165 - val_loss: 0.3483 - val_accuracy: 0.8229 - 450ms/epoch - 11ms/step\n",
      "Epoch 28/100\n",
      "41/41 - 1s - loss: 0.3522 - accuracy: 0.8146 - val_loss: 0.3487 - val_accuracy: 0.8229 - 500ms/epoch - 12ms/step\n",
      "Epoch 29/100\n",
      "41/41 - 0s - loss: 0.3504 - accuracy: 0.8166 - val_loss: 0.3467 - val_accuracy: 0.8233 - 437ms/epoch - 11ms/step\n",
      "Epoch 30/100\n",
      "41/41 - 0s - loss: 0.3492 - accuracy: 0.8177 - val_loss: 0.3495 - val_accuracy: 0.8240 - 397ms/epoch - 10ms/step\n",
      "Epoch 31/100\n",
      "41/41 - 0s - loss: 0.3488 - accuracy: 0.8178 - val_loss: 0.3461 - val_accuracy: 0.8248 - 301ms/epoch - 7ms/step\n",
      "Epoch 32/100\n",
      "41/41 - 0s - loss: 0.3480 - accuracy: 0.8176 - val_loss: 0.3460 - val_accuracy: 0.8235 - 362ms/epoch - 9ms/step\n",
      "Epoch 33/100\n",
      "41/41 - 0s - loss: 0.3478 - accuracy: 0.8175 - val_loss: 0.3456 - val_accuracy: 0.8240 - 476ms/epoch - 12ms/step\n",
      "Epoch 34/100\n",
      "41/41 - 0s - loss: 0.3492 - accuracy: 0.8170 - val_loss: 0.3526 - val_accuracy: 0.8179 - 239ms/epoch - 6ms/step\n",
      "Epoch 35/100\n",
      "41/41 - 0s - loss: 0.3479 - accuracy: 0.8168 - val_loss: 0.3455 - val_accuracy: 0.8250 - 290ms/epoch - 7ms/step\n",
      "Epoch 36/100\n",
      "41/41 - 0s - loss: 0.3466 - accuracy: 0.8180 - val_loss: 0.3438 - val_accuracy: 0.8233 - 284ms/epoch - 7ms/step\n",
      "Epoch 37/100\n",
      "41/41 - 0s - loss: 0.3476 - accuracy: 0.8164 - val_loss: 0.3466 - val_accuracy: 0.8242 - 280ms/epoch - 7ms/step\n",
      "Epoch 38/100\n",
      "41/41 - 0s - loss: 0.3464 - accuracy: 0.8171 - val_loss: 0.3434 - val_accuracy: 0.8242 - 283ms/epoch - 7ms/step\n",
      "Epoch 39/100\n",
      "41/41 - 0s - loss: 0.3467 - accuracy: 0.8177 - val_loss: 0.3460 - val_accuracy: 0.8237 - 246ms/epoch - 6ms/step\n",
      "Epoch 40/100\n",
      "41/41 - 1s - loss: 0.3453 - accuracy: 0.8189 - val_loss: 0.3433 - val_accuracy: 0.8233 - 563ms/epoch - 14ms/step\n",
      "Epoch 41/100\n",
      "41/41 - 1s - loss: 0.3459 - accuracy: 0.8176 - val_loss: 0.3430 - val_accuracy: 0.8255 - 608ms/epoch - 15ms/step\n",
      "Epoch 42/100\n",
      "41/41 - 0s - loss: 0.3451 - accuracy: 0.8174 - val_loss: 0.3421 - val_accuracy: 0.8235 - 342ms/epoch - 8ms/step\n",
      "Epoch 43/100\n",
      "41/41 - 0s - loss: 0.3450 - accuracy: 0.8183 - val_loss: 0.3439 - val_accuracy: 0.8214 - 217ms/epoch - 5ms/step\n",
      "Epoch 44/100\n",
      "41/41 - 0s - loss: 0.3448 - accuracy: 0.8191 - val_loss: 0.3427 - val_accuracy: 0.8231 - 126ms/epoch - 3ms/step\n",
      "Epoch 45/100\n",
      "41/41 - 0s - loss: 0.3443 - accuracy: 0.8186 - val_loss: 0.3416 - val_accuracy: 0.8233 - 170ms/epoch - 4ms/step\n",
      "Epoch 46/100\n",
      "41/41 - 0s - loss: 0.3442 - accuracy: 0.8171 - val_loss: 0.3422 - val_accuracy: 0.8242 - 127ms/epoch - 3ms/step\n",
      "Epoch 47/100\n",
      "41/41 - 0s - loss: 0.3444 - accuracy: 0.8178 - val_loss: 0.3442 - val_accuracy: 0.8237 - 129ms/epoch - 3ms/step\n",
      "Epoch 48/100\n",
      "41/41 - 0s - loss: 0.3431 - accuracy: 0.8191 - val_loss: 0.3429 - val_accuracy: 0.8244 - 129ms/epoch - 3ms/step\n"
     ]
    }
   ],
   "source": [
    "input_size = 10\n",
    "output_size = 2\n",
    "hidden_layer_size = 10\n",
    "model = tf.keras.Sequential([tf.keras.layers.Dense(hidden_layer_size, activation='relu'), # 1st hidden layer\n",
    "                             tf.keras.layers.Dense(hidden_layer_size, activation='relu'), # 2nd hidden layer\n",
    "                             tf.keras.layers.Dense(hidden_layer_size, activation='relu'), # 3rd hidden layer\n",
    "                             tf.keras.layers.Dense(output_size, activation='softmax') # output layer\n",
    "                             ])\n",
    "model.compile(optimizer='adam', loss='sparse_categorical_crossentropy', metrics=['accuracy'])\n",
    "\n",
    "batch_size = 400\n",
    "max_epochs = 100\n",
    "early_stopping = tf.keras.callbacks.EarlyStopping(patience=3)\n",
    "tf.keras.utils.set_random_seed(108)\n",
    "tf.config.experimental.enable_op_determinism()\n",
    "\n",
    "history = model.fit(train_inputs, train_targets, batch_size=batch_size, epochs=max_epochs, callbacks=[early_stopping],\n",
    "                    validation_data=(validation_inputs, validation_targets), verbose=2)"
   ]
  },
  {
   "cell_type": "markdown",
   "metadata": {
    "id": "BhsVYRxoV0ye"
   },
   "source": [
    "# 4. Model Loss"
   ]
  },
  {
   "cell_type": "code",
   "execution_count": null,
   "metadata": {
    "colab": {
     "base_uri": "https://localhost:8080/",
     "height": 472
    },
    "executionInfo": {
     "elapsed": 1191,
     "status": "ok",
     "timestamp": 1700225269377,
     "user": {
      "displayName": "Rohit garg",
      "userId": "02417238952739470957"
     },
     "user_tz": -330
    },
    "id": "KtYu1EFrS8vT",
    "outputId": "8c806e1a-30ee-4415-94a7-50590be6a7cf"
   },
   "outputs": [
    {
     "data": {
      "image/png": "[encoded data removed]",
      "text/plain": [
       "<Figure size 640x480 with 1 Axes>"
      ]
     },
     "metadata": {},
     "output_type": "display_data"
    }
   ],
   "source": [
    "plt.plot(history.history['loss'], color='powderblue')\n",
    "plt.plot(history.history['val_loss'], color='cornflowerblue')\n",
    "plt.title('model loss')\n",
    "plt.ylabel('loss')\n",
    "plt.xlabel('epoch')\n",
    "plt.legend(['train', 'validation'], loc='upper right')\n",
    "plt.show()"
   ]
  },
  {
   "cell_type": "markdown",
   "metadata": {
    "id": "QWGEmLtIFSR-"
   },
   "source": [
    "# 5. Test"
   ]
  },
  {
   "cell_type": "code",
   "execution_count": null,
   "metadata": {
    "colab": {
     "base_uri": "https://localhost:8080/"
    },
    "executionInfo": {
     "elapsed": 6,
     "status": "ok",
     "timestamp": 1700225269378,
     "user": {
      "displayName": "Rohit garg",
      "userId": "02417238952739470957"
     },
     "user_tz": -330
    },
    "id": "SqtUNbmhFSR_",
    "outputId": "3670ecf0-a889-4527-ee9d-a2cc138c3055"
   },
   "outputs": [
    {
     "name": "stdout",
     "output_type": "stream",
     "text": [
      "72/72 [==============================] - 0s 2ms/step - loss: 0.3316 - accuracy: 0.8350\n",
      "\n",
      "Test loss: 0.33. Test accuracy: 83.50%\n"
     ]
    }
   ],
   "source": [
    "test_loss, test_accuracy = model.evaluate(test_inputs, test_targets)\n",
    "print('\\nTest loss: {0:.2f}. Test accuracy: {1:.2f}%'.format(test_loss, test_accuracy*100.))"
   ]
  }
 ],
 "metadata": {
  "colab": {
   "provenance": []
  },
  "kernelspec": {
   "display_name": "Python 3",
   "language": "python",
   "name": "python3"
  },
  "language_info": {
   "codemirror_mode": {
    "name": "ipython",
    "version": 3
   },
   "file_extension": ".py",
   "mimetype": "text/x-python",
   "name": "python",
   "nbconvert_exporter": "python",
   "pygments_lexer": "ipython3",
   "version": "3.8.5"
  }
 },
 "nbformat": 4,
 "nbformat_minor": 1
}
