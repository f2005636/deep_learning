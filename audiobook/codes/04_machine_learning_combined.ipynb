{
 "cells": [
  {
   "cell_type": "markdown",
   "metadata": {
    "id": "evi24tidFSR6"
   },
   "source": [
    "# 1. Audiobooks"
   ]
  },
  {
   "cell_type": "code",
   "execution_count": 1,
   "metadata": {
    "colab": {
     "base_uri": "https://localhost:8080/"
    },
    "executionInfo": {
     "elapsed": 4098,
     "status": "ok",
     "timestamp": 1700252012455,
     "user": {
      "displayName": "Rohit garg",
      "userId": "02417238952739470957"
     },
     "user_tz": -330
    },
    "id": "gOqE9qUMF0kh",
    "outputId": "0c9a9224-3e57-4c59-8519-e432680754c3"
   },
   "outputs": [
    {
     "name": "stdout",
     "output_type": "stream",
     "text": [
      "Drive already mounted at /content/drive; to attempt to forcibly remount, call drive.mount(\"/content/drive\", force_remount=True).\n",
      "/content/drive/MyDrive/peerkart\n"
     ]
    }
   ],
   "source": [
    "from google.colab import drive\n",
    "drive.mount('/content/drive')\n",
    "%cd /content/drive/MyDrive/peerkart"
   ]
  },
  {
   "cell_type": "code",
   "execution_count": 2,
   "metadata": {
    "executionInfo": {
     "elapsed": 893,
     "status": "ok",
     "timestamp": 1700252013344,
     "user": {
      "displayName": "Rohit garg",
      "userId": "02417238952739470957"
     },
     "user_tz": -330
    },
    "id": "6pL7oVAiF0ht"
   },
   "outputs": [],
   "source": [
    "import numpy as np\n",
    "import pandas as pd\n",
    "import datetime as dt\n",
    "import matplotlib.pyplot as plt\n",
    "%matplotlib inline"
   ]
  },
  {
   "cell_type": "code",
   "execution_count": 3,
   "metadata": {
    "executionInfo": {
     "elapsed": 8018,
     "status": "ok",
     "timestamp": 1700252021359,
     "user": {
      "displayName": "Rohit garg",
      "userId": "02417238952739470957"
     },
     "user_tz": -330
    },
    "id": "E0hB6olPFSR8"
   },
   "outputs": [],
   "source": [
    "import tensorflow as tf\n",
    "from sklearn.metrics import accuracy_score"
   ]
  },
  {
   "cell_type": "markdown",
   "metadata": {
    "id": "1_po6HyzFSR9"
   },
   "source": [
    "# 2. Import file\n",
    "* read the csv file\n",
    "* do the train, test and vali split\n",
    "* create dataframes for inputs and targets"
   ]
  },
  {
   "cell_type": "code",
   "execution_count": 4,
   "metadata": {
    "colab": {
     "base_uri": "https://localhost:8080/"
    },
    "executionInfo": {
     "elapsed": 34,
     "status": "ok",
     "timestamp": 1700252021360,
     "user": {
      "displayName": "Rohit garg",
      "userId": "02417238952739470957"
     },
     "user_tz": -330
    },
    "id": "b970yaN0GKlE",
    "outputId": "42fe5cb5-e0a4-4d32-9d97-85d5d2d16660"
   },
   "outputs": [
    {
     "name": "stdout",
     "output_type": "stream",
     "text": [
      "(16122, 10)\n",
      "(2303, 10)\n",
      "(4607, 10)\n"
     ]
    }
   ],
   "source": [
    "df = pd.read_csv('01_preprocessing.csv')\n",
    "train_inputs = df[df['flag']=='Training'].drop(['flag','11'], axis=1)\n",
    "train_targets = df[df['flag']=='Training'][['11']]\n",
    "print(train_inputs.shape)\n",
    "\n",
    "df = pd.read_csv('01_preprocessing.csv')\n",
    "test_inputs = df[df['flag']=='Test'].drop(['flag','11'], axis=1)\n",
    "test_targets = df[df['flag']=='Test'][['11']]\n",
    "print(test_inputs.shape)\n",
    "\n",
    "df = pd.read_csv('01_preprocessing.csv')\n",
    "validation_inputs = df[df['flag']=='Validate'].drop(['flag','11'], axis=1)\n",
    "validation_targets = df[df['flag']=='Validate'][['11']]\n",
    "print(validation_inputs.shape)"
   ]
  },
  {
   "cell_type": "markdown",
   "metadata": {
    "id": "mL0O2BQbFSR9"
   },
   "source": [
    "# 3. Model\n",
    "single layer"
   ]
  },
  {
   "cell_type": "code",
   "execution_count": 5,
   "metadata": {
    "executionInfo": {
     "elapsed": 23655,
     "status": "ok",
     "timestamp": 1700252044987,
     "user": {
      "displayName": "Rohit garg",
      "userId": "02417238952739470957"
     },
     "user_tz": -330
    },
    "id": "sqyKdvDB2HYB"
   },
   "outputs": [],
   "source": [
    "input_size = 10\n",
    "output_size = 2\n",
    "hidden_layer_size = 30\n",
    "model = tf.keras.Sequential([tf.keras.layers.Dense(hidden_layer_size, activation='relu'), # 1st hidden layer\n",
    "                             tf.keras.layers.Dense(output_size, activation='softmax') # output layer\n",
    "                             ])\n",
    "\n",
    "model.compile(optimizer='adam', loss='sparse_categorical_crossentropy', metrics=['accuracy'])\n",
    "\n",
    "batch_size = 400\n",
    "max_epochs = 100\n",
    "early_stopping = tf.keras.callbacks.EarlyStopping(patience=3)\n",
    "tf.keras.utils.set_random_seed(42)\n",
    "tf.config.experimental.enable_op_determinism()\n",
    "\n",
    "history = model.fit(train_inputs, train_targets, batch_size=batch_size, epochs=max_epochs, callbacks=[early_stopping],\n",
    "                    validation_data=(validation_inputs, validation_targets), verbose = 0)"
   ]
  },
  {
   "cell_type": "code",
   "execution_count": 6,
   "metadata": {
    "colab": {
     "base_uri": "https://localhost:8080/"
    },
    "executionInfo": {
     "elapsed": 20154,
     "status": "ok",
     "timestamp": 1700252065106,
     "user": {
      "displayName": "Rohit garg",
      "userId": "02417238952739470957"
     },
     "user_tz": -330
    },
    "id": "hA9txYSLFSR9",
    "outputId": "2bf9e28c-111c-4cc6-b5e8-c0e2efc56bd2"
   },
   "outputs": [
    {
     "name": "stdout",
     "output_type": "stream",
     "text": [
      "72/72 [==============================] - 0s 3ms/step\n"
     ]
    },
    {
     "data": {
      "text/plain": [
       "(2303,)"
      ]
     },
     "execution_count": 6,
     "metadata": {},
     "output_type": "execute_result"
    }
   ],
   "source": [
    "pred1 = pd.DataFrame(model.predict(test_inputs))[1]\n",
    "pred1.columns = [1]\n",
    "pred1.shape"
   ]
  },
  {
   "cell_type": "markdown",
   "metadata": {
    "id": "BhsVYRxoV0ye"
   },
   "source": [
    "# 4. Model\n",
    "double layer"
   ]
  },
  {
   "cell_type": "code",
   "execution_count": 7,
   "metadata": {
    "executionInfo": {
     "elapsed": 9827,
     "status": "ok",
     "timestamp": 1700252074902,
     "user": {
      "displayName": "Rohit garg",
      "userId": "02417238952739470957"
     },
     "user_tz": -330
    },
    "id": "KtYu1EFrS8vT"
   },
   "outputs": [],
   "source": [
    "input_size = 10\n",
    "output_size = 2\n",
    "hidden_layer_size = 15\n",
    "model = tf.keras.Sequential([tf.keras.layers.Dense(hidden_layer_size, activation='relu'), # 1st hidden layer\n",
    "                             tf.keras.layers.Dense(hidden_layer_size, activation='relu'), # 2nd hidden layer\n",
    "                             tf.keras.layers.Dense(output_size, activation='softmax') # output layer\n",
    "                             ])\n",
    "\n",
    "model.compile(optimizer='adam', loss='sparse_categorical_crossentropy', metrics=['accuracy'])\n",
    "\n",
    "batch_size = 400\n",
    "max_epochs = 100\n",
    "early_stopping = tf.keras.callbacks.EarlyStopping(patience=3)\n",
    "tf.keras.utils.set_random_seed(108)\n",
    "tf.config.experimental.enable_op_determinism()\n",
    "\n",
    "history = model.fit(train_inputs, train_targets, batch_size=batch_size, epochs=max_epochs, callbacks=[early_stopping],\n",
    "                    validation_data=(validation_inputs, validation_targets), verbose = 0)"
   ]
  },
  {
   "cell_type": "code",
   "execution_count": 8,
   "metadata": {
    "colab": {
     "base_uri": "https://localhost:8080/"
    },
    "executionInfo": {
     "elapsed": 3300,
     "status": "ok",
     "timestamp": 1700252078177,
     "user": {
      "displayName": "Rohit garg",
      "userId": "02417238952739470957"
     },
     "user_tz": -330
    },
    "id": "gV5BP7abnLiF",
    "outputId": "0f0bdb0c-2c02-452c-ce97-3c518b2f9f4e"
   },
   "outputs": [
    {
     "name": "stdout",
     "output_type": "stream",
     "text": [
      "72/72 [==============================] - 0s 2ms/step\n"
     ]
    },
    {
     "data": {
      "text/plain": [
       "(2303,)"
      ]
     },
     "execution_count": 8,
     "metadata": {},
     "output_type": "execute_result"
    }
   ],
   "source": [
    "pred2 = pd.DataFrame(model.predict(test_inputs))[1]\n",
    "pred2.columns = [2]\n",
    "pred2.shape"
   ]
  },
  {
   "cell_type": "markdown",
   "metadata": {
    "id": "QWGEmLtIFSR-"
   },
   "source": [
    "# 5. Model\n",
    "tripe layer"
   ]
  },
  {
   "cell_type": "code",
   "execution_count": 9,
   "metadata": {
    "executionInfo": {
     "elapsed": 10971,
     "status": "ok",
     "timestamp": 1700252089118,
     "user": {
      "displayName": "Rohit garg",
      "userId": "02417238952739470957"
     },
     "user_tz": -330
    },
    "id": "SqtUNbmhFSR_"
   },
   "outputs": [],
   "source": [
    "input_size = 10\n",
    "output_size = 2\n",
    "hidden_layer_size = 10\n",
    "model = tf.keras.Sequential([tf.keras.layers.Dense(hidden_layer_size, activation='relu'), # 1st hidden layer\n",
    "                             tf.keras.layers.Dense(hidden_layer_size, activation='relu'), # 2nd hidden layer\n",
    "                             tf.keras.layers.Dense(hidden_layer_size, activation='relu'), # 3rd hidden layer\n",
    "                             tf.keras.layers.Dense(output_size, activation='softmax') # output layer\n",
    "                             ])\n",
    "model.compile(optimizer='adam', loss='sparse_categorical_crossentropy', metrics=['accuracy'])\n",
    "\n",
    "batch_size = 400\n",
    "max_epochs = 100\n",
    "early_stopping = tf.keras.callbacks.EarlyStopping(patience=3)\n",
    "tf.keras.utils.set_random_seed(108)\n",
    "tf.config.experimental.enable_op_determinism()\n",
    "\n",
    "history = model.fit(train_inputs, train_targets, batch_size=batch_size, epochs=max_epochs, callbacks=[early_stopping],\n",
    "                    validation_data=(validation_inputs, validation_targets), verbose=0)"
   ]
  },
  {
   "cell_type": "code",
   "execution_count": 10,
   "metadata": {
    "colab": {
     "base_uri": "https://localhost:8080/"
    },
    "executionInfo": {
     "elapsed": 45,
     "status": "ok",
     "timestamp": 1700252089119,
     "user": {
      "displayName": "Rohit garg",
      "userId": "02417238952739470957"
     },
     "user_tz": -330
    },
    "id": "ye7BfFcOnMQy",
    "outputId": "d2a21279-761d-4223-b90b-3288ab4af203"
   },
   "outputs": [
    {
     "name": "stdout",
     "output_type": "stream",
     "text": [
      "72/72 [==============================] - 0s 2ms/step\n"
     ]
    },
    {
     "data": {
      "text/plain": [
       "(2303,)"
      ]
     },
     "execution_count": 10,
     "metadata": {},
     "output_type": "execute_result"
    }
   ],
   "source": [
    "pred3 = pd.DataFrame(model.predict(test_inputs))[1]\n",
    "pred3.columns = [3]\n",
    "pred3.shape"
   ]
  },
  {
   "cell_type": "markdown",
   "metadata": {
    "id": "Hd5_r25h6Re3"
   },
   "source": [
    "# 6. Ensemble - equal weights"
   ]
  },
  {
   "cell_type": "code",
   "execution_count": 11,
   "metadata": {
    "colab": {
     "base_uri": "https://localhost:8080/"
    },
    "executionInfo": {
     "elapsed": 39,
     "status": "ok",
     "timestamp": 1700252089119,
     "user": {
      "displayName": "Rohit garg",
      "userId": "02417238952739470957"
     },
     "user_tz": -330
    },
    "id": "Jt_94bST4EsM",
    "outputId": "202f967c-8a8e-4a81-da51-1a374a263e81"
   },
   "outputs": [
    {
     "data": {
      "text/plain": [
       "(2303, 5)"
      ]
     },
     "execution_count": 11,
     "metadata": {},
     "output_type": "execute_result"
    }
   ],
   "source": [
    "pred = pd.concat([pred1,pred2,pred3], axis=1)\n",
    "pred.columns = [1,2,3]\n",
    "pred['avg'] = np.mean(pred, axis=1)\n",
    "pred['flag'] = np.where(pred['avg']>0.5,1,0)\n",
    "pred.shape"
   ]
  },
  {
   "cell_type": "code",
   "execution_count": 12,
   "metadata": {
    "colab": {
     "base_uri": "https://localhost:8080/"
    },
    "executionInfo": {
     "elapsed": 36,
     "status": "ok",
     "timestamp": 1700252089120,
     "user": {
      "displayName": "Rohit garg",
      "userId": "02417238952739470957"
     },
     "user_tz": -330
    },
    "id": "z2gT-XJS4EeZ",
    "outputId": "74cf22c5-e24d-4020-b543-67f65f886ecf"
   },
   "outputs": [
    {
     "name": "stdout",
     "output_type": "stream",
     "text": [
      "\n",
      "Test accuracy:  83.37%\n"
     ]
    }
   ],
   "source": [
    "print('\\nTest accuracy: {0: .2f}%'.format(accuracy_score(test_targets, pred['flag'])*100))"
   ]
  }
 ],
 "metadata": {
  "colab": {
   "provenance": []
  },
  "kernelspec": {
   "display_name": "Python 3",
   "language": "python",
   "name": "python3"
  },
  "language_info": {
   "codemirror_mode": {
    "name": "ipython",
    "version": 3
   },
   "file_extension": ".py",
   "mimetype": "text/x-python",
   "name": "python",
   "nbconvert_exporter": "python",
   "pygments_lexer": "ipython3",
   "version": "3.8.5"
  }
 },
 "nbformat": 4,
 "nbformat_minor": 1
}
