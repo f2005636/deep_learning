{
 "cells": [
  {
   "cell_type": "markdown",
   "metadata": {
    "id": "FHFv1ivtNAtq"
   },
   "source": [
    "# 1. Import libraries"
   ]
  },
  {
   "cell_type": "code",
   "execution_count": 1,
   "metadata": {},
   "outputs": [],
   "source": [
    "import warnings\n",
    "warnings.filterwarnings(\"ignore\")\n",
    "from sklearn.metrics import roc_auc_score, confusion_matrix"
   ]
  },
  {
   "cell_type": "code",
   "execution_count": 2,
   "metadata": {},
   "outputs": [],
   "source": [
    "import numpy as np\n",
    "import pandas as pd\n",
    "import datetime as dt\n",
    "import statsmodels.api as sm"
   ]
  },
  {
   "cell_type": "code",
   "execution_count": 3,
   "metadata": {
    "id": "iMiQhN-FMZKj"
   },
   "outputs": [],
   "source": [
    "import matplotlib.pyplot as plt\n",
    "import seaborn as sns\n",
    "%matplotlib inline\n",
    "plt.style.use('seaborn-white')\n",
    "plt.rcParams['figure.figsize'] = 10,5"
   ]
  },
  {
   "cell_type": "markdown",
   "metadata": {
    "id": "9piNfcDfNQ-_"
   },
   "source": [
    "# 2. Import datasets"
   ]
  },
  {
   "cell_type": "code",
   "execution_count": 4,
   "metadata": {
    "colab": {
     "base_uri": "https://localhost:8080/"
    },
    "id": "8_-6QqIByhqm",
    "outputId": "fdfadef5-36c3-4a1c-b9b4-4252251b013a"
   },
   "outputs": [
    {
     "data": {
      "text/plain": [
       "(9578, 13)"
      ]
     },
     "execution_count": 4,
     "metadata": {},
     "output_type": "execute_result"
    }
   ],
   "source": [
    "df = pd.read_csv(\"../inputs/1_Bins.csv\")\n",
    "df.shape"
   ]
  },
  {
   "cell_type": "markdown",
   "metadata": {
    "id": "xqyst4luaJu5"
   },
   "source": [
    "# 3. Model - initial"
   ]
  },
  {
   "cell_type": "code",
   "execution_count": 5,
   "metadata": {
    "id": "X8VZKH0qSBI1"
   },
   "outputs": [],
   "source": [
    "y = df['Def']\n",
    "x = df.drop(['delinq_2yrs_bin','int_rate_bin','Def'], axis=1)"
   ]
  },
  {
   "cell_type": "code",
   "execution_count": 6,
   "metadata": {
    "colab": {
     "base_uri": "https://localhost:8080/"
    },
    "id": "axFVhlbuagzu",
    "outputId": "1c10c4ca-3691-423d-c7b1-dee2df3352c2"
   },
   "outputs": [
    {
     "name": "stdout",
     "output_type": "stream",
     "text": [
      "Optimization terminated successfully.\n",
      "         Current function value: 0.412925\n",
      "         Iterations 6\n",
      "                           Logit Regression Results                           \n",
      "==============================================================================\n",
      "Dep. Variable:                    Def   No. Observations:                 9578\n",
      "Model:                          Logit   Df Residuals:                     9567\n",
      "Method:                           MLE   Df Model:                           10\n",
      "Date:                Fri, 27 Oct 2023   Pseudo R-squ.:                 0.06102\n",
      "Time:                        01:14:51   Log-Likelihood:                -3955.0\n",
      "converged:                       True   LL-Null:                       -4212.0\n",
      "Covariance Type:            nonrobust   LLR p-value:                4.395e-104\n",
      "=========================================================================================\n",
      "                            coef    std err          z      P>|z|      [0.025      0.975]\n",
      "-----------------------------------------------------------------------------------------\n",
      "const                    -8.3008      0.513    -16.188      0.000      -9.306      -7.296\n",
      "purpose_bin               6.3452      0.729      8.703      0.000       4.916       7.774\n",
      "credit_policy_bin         0.5035      0.668      0.753      0.451      -0.807       1.814\n",
      "log_annual_inc_bin        4.4820      1.296      3.457      0.001       1.941       7.023\n",
      "installment_bin           4.4744      1.044      4.285      0.000       2.428       6.521\n",
      "fico_bin                  5.8305      0.586      9.943      0.000       4.681       6.980\n",
      "days_with_cr_line_bin     2.3283      1.381      1.686      0.092      -0.379       5.035\n",
      "revol_bal_bin             3.9615      1.554      2.549      0.011       0.915       7.008\n",
      "revol_util_bin            4.0987      1.442      2.842      0.004       1.272       6.925\n",
      "inq_last_6mths_bin        4.5674      0.538      8.496      0.000       3.514       5.621\n",
      "pub_rec_bin               4.1576      1.163      3.576      0.000       1.879       6.436\n",
      "=========================================================================================\n"
     ]
    }
   ],
   "source": [
    "x = sm.add_constant(x)\n",
    "log_reg = sm.Logit(y, x).fit()\n",
    "print(log_reg.summary())"
   ]
  },
  {
   "cell_type": "code",
   "execution_count": 7,
   "metadata": {},
   "outputs": [
    {
     "name": "stdout",
     "output_type": "stream",
     "text": [
      "AUROC: 0.674\n"
     ]
    }
   ],
   "source": [
    "pred_values = log_reg.predict(x)\n",
    "pred_values = pd.DataFrame(pred_values)[0]\n",
    "print('AUROC:',np.round(roc_auc_score(y, pred_values), 3))"
   ]
  },
  {
   "cell_type": "code",
   "execution_count": 8,
   "metadata": {},
   "outputs": [
    {
     "name": "stdout",
     "output_type": "stream",
     "text": [
      "Gini: 0.348\n"
     ]
    }
   ],
   "source": [
    "auroc = roc_auc_score(y, pred_values)\n",
    "gini = 2 * auroc - 1\n",
    "print('Gini:',np.round(gini, 3))"
   ]
  },
  {
   "cell_type": "markdown",
   "metadata": {
    "id": "tKFQtsB6467c"
   },
   "source": [
    "# 4. Model - final"
   ]
  },
  {
   "cell_type": "code",
   "execution_count": 9,
   "metadata": {
    "colab": {
     "base_uri": "https://localhost:8080/"
    },
    "id": "UtXKKFtk3qQg",
    "outputId": "1282137c-603a-466a-ffad-f2668ccb986c"
   },
   "outputs": [],
   "source": [
    "y = df['Def']\n",
    "x = df[['purpose_bin','credit_policy_bin','inq_last_6mths_bin','fico_bin']]"
   ]
  },
  {
   "cell_type": "code",
   "execution_count": 10,
   "metadata": {
    "colab": {
     "base_uri": "https://localhost:8080/"
    },
    "id": "J9ABFVpy49_s",
    "outputId": "1a471b22-71cf-4f08-9c1c-c0d074bbab0d"
   },
   "outputs": [
    {
     "name": "stdout",
     "output_type": "stream",
     "text": [
      "Optimization terminated successfully.\n",
      "         Current function value: 0.416333\n",
      "         Iterations 6\n",
      "                           Logit Regression Results                           \n",
      "==============================================================================\n",
      "Dep. Variable:                    Def   No. Observations:                 9578\n",
      "Model:                          Logit   Df Residuals:                     9573\n",
      "Method:                           MLE   Df Model:                            4\n",
      "Date:                Fri, 27 Oct 2023   Pseudo R-squ.:                 0.05327\n",
      "Time:                        01:14:51   Log-Likelihood:                -3987.6\n",
      "converged:                       True   LL-Null:                       -4212.0\n",
      "Covariance Type:            nonrobust   LLR p-value:                 8.052e-96\n",
      "======================================================================================\n",
      "                         coef    std err          z      P>|z|      [0.025      0.975]\n",
      "--------------------------------------------------------------------------------------\n",
      "const                 -4.6978      0.165    -28.401      0.000      -5.022      -4.374\n",
      "purpose_bin            6.8362      0.719      9.502      0.000       5.426       8.246\n",
      "credit_policy_bin      1.4831      0.607      2.443      0.015       0.293       2.673\n",
      "inq_last_6mths_bin     4.2550      0.520      8.180      0.000       3.235       5.275\n",
      "fico_bin               5.7573      0.568     10.129      0.000       4.643       6.871\n",
      "======================================================================================\n"
     ]
    }
   ],
   "source": [
    "x = sm.add_constant(x)\n",
    "log_reg = sm.Logit(y, x).fit()\n",
    "print(log_reg.summary())"
   ]
  },
  {
   "cell_type": "code",
   "execution_count": 11,
   "metadata": {},
   "outputs": [
    {
     "name": "stdout",
     "output_type": "stream",
     "text": [
      "AUROC: 0.665\n"
     ]
    }
   ],
   "source": [
    "pred_values = log_reg.predict(x)\n",
    "pred_values = pd.DataFrame(pred_values)[0]\n",
    "print('AUROC:',np.round(roc_auc_score(y, pred_values), 3))"
   ]
  },
  {
   "cell_type": "code",
   "execution_count": 12,
   "metadata": {},
   "outputs": [
    {
     "name": "stdout",
     "output_type": "stream",
     "text": [
      "Gini: 0.331\n"
     ]
    }
   ],
   "source": [
    "auroc = roc_auc_score(y, pred_values)\n",
    "gini = 2 * auroc - 1\n",
    "print('Gini:',np.round(gini, 3))"
   ]
  },
  {
   "cell_type": "markdown",
   "metadata": {
    "id": "gynddTte4-mY"
   },
   "source": [
    "# 5. Confusion Matrix"
   ]
  },
  {
   "cell_type": "code",
   "execution_count": 13,
   "metadata": {
    "id": "QNkuHJ6t4u8x"
   },
   "outputs": [],
   "source": [
    "train_dict = {'actuals':y, 'predicted':pred_values}\n",
    "test_calc = pd.DataFrame(train_dict)"
   ]
  },
  {
   "cell_type": "code",
   "execution_count": 14,
   "metadata": {
    "colab": {
     "base_uri": "https://localhost:8080/",
     "height": 347
    },
    "id": "6cZW7gT54yCa",
    "outputId": "9dc3bee7-600b-4b8a-b170-46b75e17c062"
   },
   "outputs": [
    {
     "name": "stdout",
     "output_type": "stream",
     "text": [
      "max f:  0.15\n"
     ]
    },
    {
     "data": {
      "image/png": "[encoded data removed]",
      "text/plain": [
       "<Figure size 720x360 with 1 Axes>"
      ]
     },
     "metadata": {},
     "output_type": "display_data"
    }
   ],
   "source": [
    "c = [0.05,0.1,0.15,0.2,0.25,0.3,0.35,0.4,0.45,0.5,0.55,0.6,0.65,0.7,0.75,0.8,0.85,0.9,0.95]\n",
    "f = [0.05,0.1,0.15,0.2,0.25,0.3,0.35,0.4,0.45,0.5,0.55,0.6,0.65,0.7,0.75,0.8,0.85,0.9,0.95]\n",
    "i = 0\n",
    "for j in c:\n",
    "    def flag(x):\n",
    "        if x > j: return 1\n",
    "        else: return 0\n",
    "    test_calc['flag'] = test_calc['predicted'].apply(flag)\n",
    "    df_table = confusion_matrix(test_calc['actuals'],test_calc['flag'])\n",
    "    p = df_table[1,1] / (df_table[1,1] + df_table[0,1])\n",
    "    r = df_table[1,1] / (df_table[1,1] + df_table[1,0])\n",
    "    f[i] = (2 * p * r) / (p + r)\n",
    "    i = i+1\n",
    "\n",
    "df_decision = pd.concat([pd.DataFrame(c),pd.DataFrame(f)],axis=1)\n",
    "df_decision.columns = ['c','f']\n",
    "f_max = df_decision[df_decision['f']==df_decision['f'].max()].head(1)\n",
    "max_f = float(f_max['c'])\n",
    "\n",
    "df_decision.plot(x='c',y='f',marker=\"o\", color='orangered')\n",
    "print (\"max f: \",max_f)"
   ]
  },
  {
   "cell_type": "markdown",
   "metadata": {},
   "source": [
    "# 6. Accuracy and F1"
   ]
  },
  {
   "cell_type": "code",
   "execution_count": 15,
   "metadata": {
    "colab": {
     "base_uri": "https://localhost:8080/"
    },
    "id": "3Rs0mhLs4Qrw",
    "outputId": "e32a2e4a-eee5-42ef-d3cd-0b9e55a78ce7"
   },
   "outputs": [
    {
     "name": "stdout",
     "output_type": "stream",
     "text": [
      "[[5579 2466]\n",
      " [ 708  825]]\n"
     ]
    }
   ],
   "source": [
    "def cut_off (x):\n",
    "    if x > 0.15: return 1\n",
    "    else: return 0\n",
    "test_calc['flag'] = test_calc['predicted'].apply(cut_off)\n",
    "print(confusion_matrix(test_calc['actuals'],test_calc['flag']))"
   ]
  },
  {
   "cell_type": "code",
   "execution_count": 16,
   "metadata": {
    "colab": {
     "base_uri": "https://localhost:8080/"
    },
    "id": "Cy5H9JGN5Nlf",
    "outputId": "0e49a311-54c9-4dff-92fb-83267f26fbb7"
   },
   "outputs": [
    {
     "name": "stdout",
     "output_type": "stream",
     "text": [
      "Accuracy: 0.669\n"
     ]
    }
   ],
   "source": [
    "c = confusion_matrix(test_calc['actuals'],test_calc['flag'])\n",
    "print('Accuracy:',np.round((c[0][0] + c[1][1]) / c.sum(),3))"
   ]
  },
  {
   "cell_type": "code",
   "execution_count": 17,
   "metadata": {
    "colab": {
     "base_uri": "https://localhost:8080/"
    },
    "id": "dFsgpHOD5Nb-",
    "outputId": "135c085a-39b9-460b-e102-a7e1a5fed420"
   },
   "outputs": [
    {
     "name": "stdout",
     "output_type": "stream",
     "text": [
      "F1 Score: 0.342\n"
     ]
    }
   ],
   "source": [
    "p = c[1][1] / (c[1][1] + c[0][1])\n",
    "r = c[1][1] / (c[1][1] + c[1][0])\n",
    "print('F1 Score:',np.round((2 * p * r) / (p + r),3))"
   ]
  },
  {
   "cell_type": "markdown",
   "metadata": {},
   "source": [
    "# 7. KS"
   ]
  },
  {
   "cell_type": "code",
   "execution_count": 18,
   "metadata": {},
   "outputs": [
    {
     "name": "stdout",
     "output_type": "stream",
     "text": [
      "  bins       def   non_def            KS\n",
      "0    0  0.379048  0.168666  2.103818e-01\n",
      "1    1  0.705812  0.508513  1.972983e-01\n",
      "2    2  0.842130  0.690493  1.516367e-01\n",
      "3    3  0.907985  0.799261  1.087237e-01\n",
      "4    4  1.000000  1.000000  2.220446e-16\n",
      "\n",
      " KS: 0.21\n"
     ]
    }
   ],
   "source": [
    "test_calc = test_calc.sort_values('predicted', ascending=False)\n",
    "test_calc['def'] = test_calc['predicted']\n",
    "test_calc['non_def'] = 1-test_calc['predicted']\n",
    "test_calc['bins'] = pd.qcut(test_calc['non_def'], 5, labels=[0,1,2,3,4])\n",
    "\n",
    "test_calc = test_calc.groupby('bins').agg({'def':'sum', 'non_def':'sum'}).reset_index()\n",
    "test_calc = test_calc.sort_values('bins')\n",
    "test_calc['def'] = test_calc['def'] / test_calc['def'].sum()\n",
    "test_calc['non_def'] = test_calc['non_def'] / test_calc['non_def'].sum()\n",
    "\n",
    "test_calc['def'] = test_calc['def'].cumsum()\n",
    "test_calc['non_def'] = test_calc['non_def'].cumsum()\n",
    "test_calc['KS'] = test_calc['def'] - test_calc['non_def']\n",
    "print(test_calc)\n",
    "print('\\n KS:',np.round(test_calc['KS'].max(),3))"
   ]
  },
  {
   "cell_type": "code",
   "execution_count": 19,
   "metadata": {
    "scrolled": true
   },
   "outputs": [
    {
     "data": {
      "image/png": "[encoded data removed]",
      "text/plain": [
       "<Figure size 720x360 with 1 Axes>"
      ]
     },
     "metadata": {},
     "output_type": "display_data"
    }
   ],
   "source": [
    "train_dict = {'bins':[-1],'def':[0],'non_def':[0],'KS':[0]}\n",
    "train_dict = pd.DataFrame.from_dict(train_dict)\n",
    "test_calc = pd.concat([train_dict,test_calc]).reset_index()\n",
    "\n",
    "plt.plot(test_calc['def'], color='darkblue', label='def')\n",
    "plt.plot(test_calc['non_def'], color='lightblue', label='non_def')\n",
    "plt.legend();"
   ]
  }
 ],
 "metadata": {
  "colab": {
   "collapsed_sections": [],
   "name": "05 Logistic Reg",
   "provenance": []
  },
  "kernelspec": {
   "display_name": "Python 3",
   "language": "python",
   "name": "python3"
  },
  "language_info": {
   "codemirror_mode": {
    "name": "ipython",
    "version": 3
   },
   "file_extension": ".py",
   "mimetype": "text/x-python",
   "name": "python",
   "nbconvert_exporter": "python",
   "pygments_lexer": "ipython3",
   "version": "3.8.5"
  }
 },
 "nbformat": 4,
 "nbformat_minor": 1
}
