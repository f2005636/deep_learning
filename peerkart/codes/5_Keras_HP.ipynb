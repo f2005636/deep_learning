{
 "cells": [
  {
   "cell_type": "markdown",
   "metadata": {
    "id": "FHFv1ivtNAtq"
   },
   "source": [
    "# 1. Import libraries"
   ]
  },
  {
   "cell_type": "code",
   "execution_count": 1,
   "metadata": {},
   "outputs": [],
   "source": [
    "import warnings\n",
    "warnings.filterwarnings(\"ignore\")\n",
    "from sklearn.metrics import roc_auc_score, confusion_matrix\n",
    "from IPython.display import clear_output"
   ]
  },
  {
   "cell_type": "code",
   "execution_count": 2,
   "metadata": {
    "id": "iMiQhN-FMZKj"
   },
   "outputs": [],
   "source": [
    "import numpy as np\n",
    "import pandas as pd\n",
    "import datetime as dt\n",
    "import tensorflow as tf"
   ]
  },
  {
   "cell_type": "code",
   "execution_count": 3,
   "metadata": {
    "colab": {
     "base_uri": "https://localhost:8080/"
    },
    "id": "g3kyPLtLQiRG",
    "outputId": "975c4c77-aedd-4525-a68a-9002fbf4ab4e"
   },
   "outputs": [],
   "source": [
    "from keras.models import Sequential\n",
    "from keras.layers import Dense, Activation, Dropout\n",
    "from keras.callbacks import EarlyStopping\n",
    "from keras.regularizers import l2"
   ]
  },
  {
   "cell_type": "markdown",
   "metadata": {
    "id": "9piNfcDfNQ-_"
   },
   "source": [
    "# 2. Import datasets"
   ]
  },
  {
   "cell_type": "code",
   "execution_count": 4,
   "metadata": {
    "colab": {
     "base_uri": "https://localhost:8080/"
    },
    "id": "8_-6QqIByhqm",
    "outputId": "fdfadef5-36c3-4a1c-b9b4-4252251b013a"
   },
   "outputs": [
    {
     "data": {
      "text/plain": [
       "(9578, 13)"
      ]
     },
     "execution_count": 4,
     "metadata": {},
     "output_type": "execute_result"
    }
   ],
   "source": [
    "df = pd.read_csv(\"../inputs/1_Bins.csv\")\n",
    "df0 = df[df['Def']==0].reset_index(drop=True)\n",
    "df1 = df[df['Def']==1].reset_index(drop=True)\n",
    "\n",
    "df01 = df0[:][:3000]\n",
    "df02 = df0[:][3000:6000]\n",
    "df03 = df0[:][6000:]\n",
    "\n",
    "df11 = df1[:][:500]\n",
    "df12 = df1[:][500:1000]\n",
    "df13 = df1[:][1000:]\n",
    "\n",
    "df1 = pd.concat([df01,df11])\n",
    "df2 = pd.concat([df02,df12])\n",
    "df3 = pd.concat([df03,df13])\n",
    "\n",
    "del df0, df01, df02, df03, df11, df12, df13\n",
    "df.shape"
   ]
  },
  {
   "cell_type": "markdown",
   "metadata": {
    "id": "xqyst4luaJu5"
   },
   "source": [
    "# 3. Model - 1st"
   ]
  },
  {
   "cell_type": "code",
   "execution_count": 5,
   "metadata": {},
   "outputs": [],
   "source": [
    "np.random.seed(108)\n",
    "activation_c = []\n",
    "optimizer_c = []\n",
    "l2_c = []\n",
    "dropout_c = []\n",
    "epochs_c = []\n",
    "batch_size_c = []\n",
    "auc_c = []"
   ]
  },
  {
   "cell_type": "code",
   "execution_count": 6,
   "metadata": {},
   "outputs": [
    {
     "name": "stdout",
     "output_type": "stream",
     "text": [
      "activation\toptimizer\tl2\tdropout\tepochs\tbatch_size\tauc\n",
      "tanh \t\t adam \t\t 0.01 \t 0.01 \t 5000 \t 500 \t\t 0.498\n"
     ]
    }
   ],
   "source": [
    "print('activation\\toptimizer\\tl2\\tdropout\\tepochs\\tbatch_size\\tauc')\n",
    "for a in ['tanh']:\n",
    "    for o in ['adam']:\n",
    "        for l in [0.0001,0.001, 0.01]:\n",
    "            for d in [0.0001,0.001, 0.01]:\n",
    "                for e in [500, 1000, 5000]:\n",
    "                    for b in [50, 100, 500]:\n",
    "                        model = Sequential() \n",
    "                        model.add(Dense(10, activation=a, input_dim=10, kernel_regularizer=l2(l))) \n",
    "                        model.add(Dropout(d))\n",
    "                        model.add(Dense(10, activation=a, kernel_regularizer=l2(l)))\n",
    "                        model.add(Dropout(d))\n",
    "                        model.add(Dense(1, activation='sigmoid', kernel_regularizer=l2(l)))\n",
    "                        model.compile(optimizer=o, loss='binary_crossentropy', metrics='AUC') \n",
    "                        \n",
    "                        h = []\n",
    "                        for i in [0,1,2]:\n",
    "                            if i==0: train=pd.concat([df1,df2])\n",
    "                            elif i==2: train=pd.concat([df2,df3])\n",
    "                            else: train=pd.concat([df3,df1])\n",
    "                            y = train['Def']\n",
    "                            x = train.drop(['delinq_2yrs_bin','int_rate_bin','Def'], axis=1)\n",
    "                            model.fit(x,y,epochs=e,batch_size=b,verbose=0,callbacks=EarlyStopping(monitor='loss',patience=3))\n",
    "                            \n",
    "                            if i==0: test=df3\n",
    "                            elif i==2: test=df1\n",
    "                            else: test=df2\n",
    "                            y = test['Def']\n",
    "                            x = test.drop(['delinq_2yrs_bin','int_rate_bin','Def'], axis=1)\n",
    "                            pred_values = model.predict(x,batch_size=b,verbose=0)\n",
    "                            \n",
    "                            pred_values = pd.DataFrame(pred_values)[0]\n",
    "                            h.append(np.round(roc_auc_score(y, pred_values), 3))\n",
    "                        clear_output(wait=False)\n",
    "                        print('activation\\toptimizer\\tl2\\tdropout\\tepochs\\tbatch_size\\tauc')\n",
    "                        print(a,'\\t\\t',o,'\\t\\t',l,'\\t',d,'\\t',e,'\\t',b,'\\t\\t',np.round(np.mean(h), 3))\n",
    "                        \n",
    "                        activation_c.append(a)\n",
    "                        optimizer_c.append(o)\n",
    "                        l2_c.append(l)\n",
    "                        dropout_c.append(d)\n",
    "                        epochs_c.append(e)\n",
    "                        batch_size_c.append(b)\n",
    "                        auc_c.append(np.round(np.mean(h), 3))"
   ]
  },
  {
   "cell_type": "code",
   "execution_count": 7,
   "metadata": {},
   "outputs": [
    {
     "data": {
      "text/html": [
       "<div>\n",
       "<style scoped>\n",
       "    .dataframe tbody tr th:only-of-type {\n",
       "        vertical-align: middle;\n",
       "    }\n",
       "\n",
       "    .dataframe tbody tr th {\n",
       "        vertical-align: top;\n",
       "    }\n",
       "\n",
       "    .dataframe thead th {\n",
       "        text-align: right;\n",
       "    }\n",
       "</style>\n",
       "<table border=\"1\" class=\"dataframe\">\n",
       "  <thead>\n",
       "    <tr style=\"text-align: right;\">\n",
       "      <th></th>\n",
       "      <th>activation</th>\n",
       "      <th>optimizer</th>\n",
       "      <th>l2</th>\n",
       "      <th>dropout</th>\n",
       "      <th>epochs</th>\n",
       "      <th>batch_size</th>\n",
       "      <th>auc</th>\n",
       "    </tr>\n",
       "  </thead>\n",
       "  <tbody>\n",
       "    <tr>\n",
       "      <th>27</th>\n",
       "      <td>tanh</td>\n",
       "      <td>adam</td>\n",
       "      <td>0.001</td>\n",
       "      <td>0.0001</td>\n",
       "      <td>500</td>\n",
       "      <td>50</td>\n",
       "      <td>0.659</td>\n",
       "    </tr>\n",
       "    <tr>\n",
       "      <th>30</th>\n",
       "      <td>tanh</td>\n",
       "      <td>adam</td>\n",
       "      <td>0.001</td>\n",
       "      <td>0.0001</td>\n",
       "      <td>1000</td>\n",
       "      <td>50</td>\n",
       "      <td>0.659</td>\n",
       "    </tr>\n",
       "  </tbody>\n",
       "</table>\n",
       "</div>"
      ],
      "text/plain": [
       "   activation optimizer     l2  dropout  epochs  batch_size    auc\n",
       "27       tanh      adam  0.001   0.0001     500          50  0.659\n",
       "30       tanh      adam  0.001   0.0001    1000          50  0.659"
      ]
     },
     "execution_count": 7,
     "metadata": {},
     "output_type": "execute_result"
    }
   ],
   "source": [
    "train = pd.DataFrame({'activation':activation_c, 'optimizer':optimizer_c, 'l2':l2_c, 'dropout':dropout_c,\n",
    "                      'epochs':epochs_c, 'batch_size':batch_size_c, 'auc':auc_c})\n",
    "test = train[train['auc']==train['auc'].max()]\n",
    "test"
   ]
  },
  {
   "cell_type": "markdown",
   "metadata": {},
   "source": [
    "# 4. Model - 2nd"
   ]
  },
  {
   "cell_type": "code",
   "execution_count": 8,
   "metadata": {},
   "outputs": [],
   "source": [
    "np.random.seed(108)\n",
    "activation_c = []\n",
    "optimizer_c = []\n",
    "l2_c = []\n",
    "dropout_c = []\n",
    "epochs_c = []\n",
    "batch_size_c = []\n",
    "auc_c = []"
   ]
  },
  {
   "cell_type": "code",
   "execution_count": 9,
   "metadata": {},
   "outputs": [
    {
     "name": "stdout",
     "output_type": "stream",
     "text": [
      "activation\toptimizer\tl2\tdropout\tepochs\tbatch_size\tauc\n",
      "tanh \t\t adam \t\t 0.001 \t 0.001 \t 5000 \t 500 \t\t 0.634\n"
     ]
    }
   ],
   "source": [
    "for a in ['tanh']:\n",
    "    for o in ['adam']:\n",
    "        for l in [0.001]:\n",
    "            for d in [0.0001,0.0005,0.001]:\n",
    "                for e in [500, 1000, 5000]:\n",
    "                    for b in [50, 100, 500]:\n",
    "                        model = Sequential() \n",
    "                        model.add(Dense(10, activation=a, input_dim=10, kernel_regularizer=l2(l))) \n",
    "                        model.add(Dropout(d))\n",
    "                        model.add(Dense(10, activation=a, kernel_regularizer=l2(l)))\n",
    "                        model.add(Dropout(d))\n",
    "                        model.add(Dense(1, activation='sigmoid', kernel_regularizer=l2(l)))\n",
    "                        model.compile(optimizer=o, loss='binary_crossentropy', metrics='AUC') \n",
    "                        \n",
    "                        h = []\n",
    "                        for i in [0,1,2]:\n",
    "                            if i==0: train=pd.concat([df1,df2])\n",
    "                            elif i==2: train=pd.concat([df2,df3])\n",
    "                            else: train=pd.concat([df3,df1])\n",
    "                            y = train['Def']\n",
    "                            x = train.drop(['delinq_2yrs_bin','int_rate_bin','Def'], axis=1)\n",
    "                            model.fit(x,y,epochs=e,batch_size=b,verbose=0,callbacks=EarlyStopping(monitor='loss',patience=3))\n",
    "                            \n",
    "                            if i==0: test=df3\n",
    "                            elif i==2: test=df1\n",
    "                            else: test=df2\n",
    "                            y = test['Def']\n",
    "                            x = test.drop(['delinq_2yrs_bin','int_rate_bin','Def'], axis=1)\n",
    "                            pred_values = model.predict(x,batch_size=b,verbose=0)\n",
    "                            \n",
    "                            pred_values = pd.DataFrame(pred_values)[0]\n",
    "                            h.append(np.round(roc_auc_score(y, pred_values), 3))\n",
    "                        clear_output(wait=False)\n",
    "                        print('activation\\toptimizer\\tl2\\tdropout\\tepochs\\tbatch_size\\tauc')\n",
    "                        print(a,'\\t\\t',o,'\\t\\t',l,'\\t',d,'\\t',e,'\\t',b,'\\t\\t',np.round(np.mean(h), 3))\n",
    "                        \n",
    "                        activation_c.append(a)\n",
    "                        optimizer_c.append(o)\n",
    "                        l2_c.append(l)\n",
    "                        dropout_c.append(d)\n",
    "                        epochs_c.append(e)\n",
    "                        batch_size_c.append(b)\n",
    "                        auc_c.append(np.round(np.mean(h), 3))"
   ]
  },
  {
   "cell_type": "code",
   "execution_count": 10,
   "metadata": {},
   "outputs": [
    {
     "data": {
      "text/html": [
       "<div>\n",
       "<style scoped>\n",
       "    .dataframe tbody tr th:only-of-type {\n",
       "        vertical-align: middle;\n",
       "    }\n",
       "\n",
       "    .dataframe tbody tr th {\n",
       "        vertical-align: top;\n",
       "    }\n",
       "\n",
       "    .dataframe thead th {\n",
       "        text-align: right;\n",
       "    }\n",
       "</style>\n",
       "<table border=\"1\" class=\"dataframe\">\n",
       "  <thead>\n",
       "    <tr style=\"text-align: right;\">\n",
       "      <th></th>\n",
       "      <th>activation</th>\n",
       "      <th>optimizer</th>\n",
       "      <th>l2</th>\n",
       "      <th>dropout</th>\n",
       "      <th>epochs</th>\n",
       "      <th>batch_size</th>\n",
       "      <th>auc</th>\n",
       "    </tr>\n",
       "  </thead>\n",
       "  <tbody>\n",
       "    <tr>\n",
       "      <th>0</th>\n",
       "      <td>tanh</td>\n",
       "      <td>adam</td>\n",
       "      <td>0.001</td>\n",
       "      <td>0.0001</td>\n",
       "      <td>500</td>\n",
       "      <td>50</td>\n",
       "      <td>0.659</td>\n",
       "    </tr>\n",
       "    <tr>\n",
       "      <th>12</th>\n",
       "      <td>tanh</td>\n",
       "      <td>adam</td>\n",
       "      <td>0.001</td>\n",
       "      <td>0.0005</td>\n",
       "      <td>1000</td>\n",
       "      <td>50</td>\n",
       "      <td>0.659</td>\n",
       "    </tr>\n",
       "  </tbody>\n",
       "</table>\n",
       "</div>"
      ],
      "text/plain": [
       "   activation optimizer     l2  dropout  epochs  batch_size    auc\n",
       "0        tanh      adam  0.001   0.0001     500          50  0.659\n",
       "12       tanh      adam  0.001   0.0005    1000          50  0.659"
      ]
     },
     "execution_count": 10,
     "metadata": {},
     "output_type": "execute_result"
    }
   ],
   "source": [
    "train = pd.DataFrame({'activation':activation_c, 'optimizer':optimizer_c, 'l2':l2_c, 'dropout':dropout_c,\n",
    "                      'epochs':epochs_c, 'batch_size':batch_size_c, 'auc':auc_c})\n",
    "test = train[train['auc']==train['auc'].max()]\n",
    "test"
   ]
  },
  {
   "cell_type": "markdown",
   "metadata": {},
   "source": [
    "# 5. Model - 3rd"
   ]
  },
  {
   "cell_type": "code",
   "execution_count": 11,
   "metadata": {},
   "outputs": [],
   "source": [
    "np.random.seed(108)\n",
    "activation_c = []\n",
    "optimizer_c = []\n",
    "l2_c = []\n",
    "dropout_c = []\n",
    "epochs_c = []\n",
    "batch_size_c = []\n",
    "auc_c = []"
   ]
  },
  {
   "cell_type": "code",
   "execution_count": 12,
   "metadata": {},
   "outputs": [
    {
     "name": "stdout",
     "output_type": "stream",
     "text": [
      "activation\toptimizer\tl2\tdropout\tepochs\tbatch_size\tauc\n",
      "tanh \t\t adam \t\t 0.001 \t 0.0005 \t 1000 \t 200 \t\t 0.655\n"
     ]
    }
   ],
   "source": [
    "for a in ['tanh']:\n",
    "    for o in ['adam']:\n",
    "        for l in [0.001]:\n",
    "            for d in [0.0005]:\n",
    "                for e in [100,200,500,700,1000]:\n",
    "                    for b in [50,100,200]:\n",
    "                        model = Sequential() \n",
    "                        model.add(Dense(10, activation=a, input_dim=10, kernel_regularizer=l2(l))) \n",
    "                        model.add(Dropout(d))\n",
    "                        model.add(Dense(10, activation=a, kernel_regularizer=l2(l)))\n",
    "                        model.add(Dropout(d))\n",
    "                        model.add(Dense(1, activation='sigmoid', kernel_regularizer=l2(l)))\n",
    "                        model.compile(optimizer=o, loss='binary_crossentropy', metrics='AUC') \n",
    "                        \n",
    "                        h = []\n",
    "                        for i in [0,1,2]:\n",
    "                            if i==0: train=pd.concat([df1,df2])\n",
    "                            elif i==2: train=pd.concat([df2,df3])\n",
    "                            else: train=pd.concat([df3,df1])\n",
    "                            y = train['Def']\n",
    "                            x = train.drop(['delinq_2yrs_bin','int_rate_bin','Def'], axis=1)\n",
    "                            model.fit(x,y,epochs=e,batch_size=b,verbose=0,callbacks=EarlyStopping(monitor='loss',patience=3))\n",
    "                            \n",
    "                            if i==0: test=df3\n",
    "                            elif i==2: test=df1\n",
    "                            else: test=df2\n",
    "                            y = test['Def']\n",
    "                            x = test.drop(['delinq_2yrs_bin','int_rate_bin','Def'], axis=1)\n",
    "                            pred_values = model.predict(x,batch_size=b,verbose=0)\n",
    "                            \n",
    "                            pred_values = pd.DataFrame(pred_values)[0]\n",
    "                            h.append(np.round(roc_auc_score(y, pred_values), 3))\n",
    "                        clear_output(wait=False)\n",
    "                        print('activation\\toptimizer\\tl2\\tdropout\\tepochs\\tbatch_size\\tauc')\n",
    "                        print(a,'\\t\\t',o,'\\t\\t',l,'\\t',d,'\\t',e,'\\t',b,'\\t\\t',np.round(np.mean(h), 3))\n",
    "                        \n",
    "                        activation_c.append(a)\n",
    "                        optimizer_c.append(o)\n",
    "                        l2_c.append(l)\n",
    "                        dropout_c.append(d)\n",
    "                        epochs_c.append(e)\n",
    "                        batch_size_c.append(b)\n",
    "                        auc_c.append(np.round(np.mean(h), 3))"
   ]
  },
  {
   "cell_type": "code",
   "execution_count": 13,
   "metadata": {},
   "outputs": [
    {
     "data": {
      "text/html": [
       "<div>\n",
       "<style scoped>\n",
       "    .dataframe tbody tr th:only-of-type {\n",
       "        vertical-align: middle;\n",
       "    }\n",
       "\n",
       "    .dataframe tbody tr th {\n",
       "        vertical-align: top;\n",
       "    }\n",
       "\n",
       "    .dataframe thead th {\n",
       "        text-align: right;\n",
       "    }\n",
       "</style>\n",
       "<table border=\"1\" class=\"dataframe\">\n",
       "  <thead>\n",
       "    <tr style=\"text-align: right;\">\n",
       "      <th></th>\n",
       "      <th>activation</th>\n",
       "      <th>optimizer</th>\n",
       "      <th>l2</th>\n",
       "      <th>dropout</th>\n",
       "      <th>epochs</th>\n",
       "      <th>batch_size</th>\n",
       "      <th>auc</th>\n",
       "    </tr>\n",
       "  </thead>\n",
       "  <tbody>\n",
       "    <tr>\n",
       "      <th>7</th>\n",
       "      <td>tanh</td>\n",
       "      <td>adam</td>\n",
       "      <td>0.001</td>\n",
       "      <td>0.0005</td>\n",
       "      <td>500</td>\n",
       "      <td>100</td>\n",
       "      <td>0.657</td>\n",
       "    </tr>\n",
       "  </tbody>\n",
       "</table>\n",
       "</div>"
      ],
      "text/plain": [
       "  activation optimizer     l2  dropout  epochs  batch_size    auc\n",
       "7       tanh      adam  0.001   0.0005     500         100  0.657"
      ]
     },
     "execution_count": 13,
     "metadata": {},
     "output_type": "execute_result"
    }
   ],
   "source": [
    "train = pd.DataFrame({'activation':activation_c, 'optimizer':optimizer_c, 'l2':l2_c, 'dropout':dropout_c,\n",
    "                      'epochs':epochs_c, 'batch_size':batch_size_c, 'auc':auc_c})\n",
    "test = train[train['auc']==train['auc'].max()]\n",
    "test"
   ]
  }
 ],
 "metadata": {
  "colab": {
   "collapsed_sections": [],
   "name": "05 Logistic Reg",
   "provenance": []
  },
  "kernelspec": {
   "display_name": "Python 3",
   "language": "python",
   "name": "python3"
  },
  "language_info": {
   "codemirror_mode": {
    "name": "ipython",
    "version": 3
   },
   "file_extension": ".py",
   "mimetype": "text/x-python",
   "name": "python",
   "nbconvert_exporter": "python",
   "pygments_lexer": "ipython3",
   "version": "3.8.5"
  }
 },
 "nbformat": 4,
 "nbformat_minor": 1
}
