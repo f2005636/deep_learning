{
 "cells": [
  {
   "cell_type": "markdown",
   "metadata": {
    "id": "FHFv1ivtNAtq"
   },
   "source": [
    "# 1. Import libraries"
   ]
  },
  {
   "cell_type": "code",
   "execution_count": 1,
   "metadata": {},
   "outputs": [],
   "source": [
    "import warnings\n",
    "warnings.filterwarnings(\"ignore\")\n",
    "from sklearn import tree"
   ]
  },
  {
   "cell_type": "code",
   "execution_count": 2,
   "metadata": {},
   "outputs": [],
   "source": [
    "import numpy as np\n",
    "import pandas as pd\n",
    "import datetime as dt"
   ]
  },
  {
   "cell_type": "code",
   "execution_count": 3,
   "metadata": {},
   "outputs": [],
   "source": [
    "def num_var(x,y,z,i,j):\n",
    "    temp = df[df[x].notnull()]\n",
    "    dtree = tree.DecisionTreeClassifier(random_state=42, max_depth=i, min_samples_leaf=j)\n",
    "    dtree = dtree.fit(temp[[x]],temp[y])\n",
    "    temp[z] = dtree.apply(temp[[x]])\n",
    "    gb = temp.groupby(z).agg({'not.fully.paid':'count', x:['min','max'], y:'mean'}).reset_index()\n",
    "\n",
    "    temp = df[df[x].isnull()]\n",
    "    temp[z] = 'MISSING'\n",
    "    temp = temp.groupby(z).agg({'not.fully.paid':'count', y:'mean'}).reset_index()\n",
    "    gb.columns = [z, 'count', 'min', 'max', 'Y']\n",
    "    temp.columns = [z, 'count', 'Y']\n",
    "\n",
    "    gb = pd.concat([gb, temp], axis=0, ignore_index=True)\n",
    "    display(gb)"
   ]
  },
  {
   "cell_type": "code",
   "execution_count": 4,
   "metadata": {},
   "outputs": [],
   "source": [
    "def cat_var(x,y):\n",
    "    df[x] = df[x].fillna('MISSING')\n",
    "    gb = df.groupby(x).agg({'not.fully.paid':'count',y:'mean'}).reset_index()\n",
    "    display(gb)"
   ]
  },
  {
   "cell_type": "markdown",
   "metadata": {
    "id": "9piNfcDfNQ-_"
   },
   "source": [
    "# 2. Import datasets"
   ]
  },
  {
   "cell_type": "code",
   "execution_count": 5,
   "metadata": {},
   "outputs": [
    {
     "data": {
      "text/plain": [
       "(9578, 15)"
      ]
     },
     "execution_count": 5,
     "metadata": {},
     "output_type": "execute_result"
    }
   ],
   "source": [
    "df = pd.read_csv(\"../inputs/input.csv\")\n",
    "df['Def'] = np.where(df['not.fully.paid']=='Paid', 0, 1)\n",
    "df.shape"
   ]
  },
  {
   "cell_type": "markdown",
   "metadata": {
    "id": "lYF3sRPIzZeO"
   },
   "source": [
    "# 3. Categorical"
   ]
  },
  {
   "cell_type": "code",
   "execution_count": 6,
   "metadata": {
    "scrolled": false
   },
   "outputs": [
    {
     "data": {
      "text/html": [
       "<div>\n",
       "<style scoped>\n",
       "    .dataframe tbody tr th:only-of-type {\n",
       "        vertical-align: middle;\n",
       "    }\n",
       "\n",
       "    .dataframe tbody tr th {\n",
       "        vertical-align: top;\n",
       "    }\n",
       "\n",
       "    .dataframe thead th {\n",
       "        text-align: right;\n",
       "    }\n",
       "</style>\n",
       "<table border=\"1\" class=\"dataframe\">\n",
       "  <thead>\n",
       "    <tr style=\"text-align: right;\">\n",
       "      <th></th>\n",
       "      <th>purpose_bin</th>\n",
       "      <th>not.fully.paid</th>\n",
       "      <th>Def</th>\n",
       "    </tr>\n",
       "  </thead>\n",
       "  <tbody>\n",
       "    <tr>\n",
       "      <th>0</th>\n",
       "      <td>0.115</td>\n",
       "      <td>1699</td>\n",
       "      <td>0.114773</td>\n",
       "    </tr>\n",
       "    <tr>\n",
       "      <th>1</th>\n",
       "      <td>0.161</td>\n",
       "      <td>7260</td>\n",
       "      <td>0.160606</td>\n",
       "    </tr>\n",
       "    <tr>\n",
       "      <th>2</th>\n",
       "      <td>0.278</td>\n",
       "      <td>619</td>\n",
       "      <td>0.277868</td>\n",
       "    </tr>\n",
       "  </tbody>\n",
       "</table>\n",
       "</div>"
      ],
      "text/plain": [
       "   purpose_bin  not.fully.paid       Def\n",
       "0        0.115            1699  0.114773\n",
       "1        0.161            7260  0.160606\n",
       "2        0.278             619  0.277868"
      ]
     },
     "metadata": {},
     "output_type": "display_data"
    }
   ],
   "source": [
    "df['purpose_bin'] = np.where(df['purpose'].isin(['major_purchase','credit_card']), 0.115, \n",
    "                             np.where(df['purpose'].isin(['small_business']), 0.278, 0.161))\n",
    "cat_var('purpose_bin','Def')"
   ]
  },
  {
   "cell_type": "markdown",
   "metadata": {},
   "source": [
    "# 4. Numerical"
   ]
  },
  {
   "cell_type": "code",
   "execution_count": 7,
   "metadata": {},
   "outputs": [
    {
     "data": {
      "text/html": [
       "<div>\n",
       "<style scoped>\n",
       "    .dataframe tbody tr th:only-of-type {\n",
       "        vertical-align: middle;\n",
       "    }\n",
       "\n",
       "    .dataframe tbody tr th {\n",
       "        vertical-align: top;\n",
       "    }\n",
       "\n",
       "    .dataframe thead th {\n",
       "        text-align: right;\n",
       "    }\n",
       "</style>\n",
       "<table border=\"1\" class=\"dataframe\">\n",
       "  <thead>\n",
       "    <tr style=\"text-align: right;\">\n",
       "      <th></th>\n",
       "      <th>credit_policy_bin</th>\n",
       "      <th>not.fully.paid</th>\n",
       "      <th>Def</th>\n",
       "    </tr>\n",
       "  </thead>\n",
       "  <tbody>\n",
       "    <tr>\n",
       "      <th>0</th>\n",
       "      <td>0.132</td>\n",
       "      <td>7710</td>\n",
       "      <td>0.131518</td>\n",
       "    </tr>\n",
       "    <tr>\n",
       "      <th>1</th>\n",
       "      <td>0.278</td>\n",
       "      <td>1868</td>\n",
       "      <td>0.277837</td>\n",
       "    </tr>\n",
       "  </tbody>\n",
       "</table>\n",
       "</div>"
      ],
      "text/plain": [
       "   credit_policy_bin  not.fully.paid       Def\n",
       "0              0.132            7710  0.131518\n",
       "1              0.278            1868  0.277837"
      ]
     },
     "metadata": {},
     "output_type": "display_data"
    },
    {
     "data": {
      "text/html": [
       "<div>\n",
       "<style scoped>\n",
       "    .dataframe tbody tr th:only-of-type {\n",
       "        vertical-align: middle;\n",
       "    }\n",
       "\n",
       "    .dataframe tbody tr th {\n",
       "        vertical-align: top;\n",
       "    }\n",
       "\n",
       "    .dataframe thead th {\n",
       "        text-align: right;\n",
       "    }\n",
       "</style>\n",
       "<table border=\"1\" class=\"dataframe\">\n",
       "  <thead>\n",
       "    <tr style=\"text-align: right;\">\n",
       "      <th></th>\n",
       "      <th>int_rate_bin</th>\n",
       "      <th>not.fully.paid</th>\n",
       "      <th>Def</th>\n",
       "    </tr>\n",
       "  </thead>\n",
       "  <tbody>\n",
       "    <tr>\n",
       "      <th>0</th>\n",
       "      <td>0.056</td>\n",
       "      <td>1676</td>\n",
       "      <td>0.056086</td>\n",
       "    </tr>\n",
       "    <tr>\n",
       "      <th>1</th>\n",
       "      <td>0.159</td>\n",
       "      <td>5477</td>\n",
       "      <td>0.159394</td>\n",
       "    </tr>\n",
       "    <tr>\n",
       "      <th>2</th>\n",
       "      <td>0.213</td>\n",
       "      <td>1864</td>\n",
       "      <td>0.212983</td>\n",
       "    </tr>\n",
       "    <tr>\n",
       "      <th>3</th>\n",
       "      <td>0.301</td>\n",
       "      <td>561</td>\n",
       "      <td>0.301248</td>\n",
       "    </tr>\n",
       "  </tbody>\n",
       "</table>\n",
       "</div>"
      ],
      "text/plain": [
       "   int_rate_bin  not.fully.paid       Def\n",
       "0         0.056            1676  0.056086\n",
       "1         0.159            5477  0.159394\n",
       "2         0.213            1864  0.212983\n",
       "3         0.301             561  0.301248"
      ]
     },
     "metadata": {},
     "output_type": "display_data"
    },
    {
     "data": {
      "text/html": [
       "<div>\n",
       "<style scoped>\n",
       "    .dataframe tbody tr th:only-of-type {\n",
       "        vertical-align: middle;\n",
       "    }\n",
       "\n",
       "    .dataframe tbody tr th {\n",
       "        vertical-align: top;\n",
       "    }\n",
       "\n",
       "    .dataframe thead th {\n",
       "        text-align: right;\n",
       "    }\n",
       "</style>\n",
       "<table border=\"1\" class=\"dataframe\">\n",
       "  <thead>\n",
       "    <tr style=\"text-align: right;\">\n",
       "      <th></th>\n",
       "      <th>log_annual_inc_bin</th>\n",
       "      <th>not.fully.paid</th>\n",
       "      <th>Def</th>\n",
       "    </tr>\n",
       "  </thead>\n",
       "  <tbody>\n",
       "    <tr>\n",
       "      <th>0</th>\n",
       "      <td>0.155</td>\n",
       "      <td>9000</td>\n",
       "      <td>0.154889</td>\n",
       "    </tr>\n",
       "    <tr>\n",
       "      <th>1</th>\n",
       "      <td>0.240</td>\n",
       "      <td>578</td>\n",
       "      <td>0.240484</td>\n",
       "    </tr>\n",
       "  </tbody>\n",
       "</table>\n",
       "</div>"
      ],
      "text/plain": [
       "   log_annual_inc_bin  not.fully.paid       Def\n",
       "0               0.155            9000  0.154889\n",
       "1               0.240             578  0.240484"
      ]
     },
     "metadata": {},
     "output_type": "display_data"
    },
    {
     "data": {
      "text/html": [
       "<div>\n",
       "<style scoped>\n",
       "    .dataframe tbody tr th:only-of-type {\n",
       "        vertical-align: middle;\n",
       "    }\n",
       "\n",
       "    .dataframe tbody tr th {\n",
       "        vertical-align: top;\n",
       "    }\n",
       "\n",
       "    .dataframe thead th {\n",
       "        text-align: right;\n",
       "    }\n",
       "</style>\n",
       "<table border=\"1\" class=\"dataframe\">\n",
       "  <thead>\n",
       "    <tr style=\"text-align: right;\">\n",
       "      <th></th>\n",
       "      <th>installment_bin</th>\n",
       "      <th>not.fully.paid</th>\n",
       "      <th>Def</th>\n",
       "    </tr>\n",
       "  </thead>\n",
       "  <tbody>\n",
       "    <tr>\n",
       "      <th>0</th>\n",
       "      <td>0.105</td>\n",
       "      <td>344</td>\n",
       "      <td>0.104651</td>\n",
       "    </tr>\n",
       "    <tr>\n",
       "      <th>1</th>\n",
       "      <td>0.158</td>\n",
       "      <td>8972</td>\n",
       "      <td>0.158382</td>\n",
       "    </tr>\n",
       "    <tr>\n",
       "      <th>2</th>\n",
       "      <td>0.290</td>\n",
       "      <td>262</td>\n",
       "      <td>0.290076</td>\n",
       "    </tr>\n",
       "  </tbody>\n",
       "</table>\n",
       "</div>"
      ],
      "text/plain": [
       "   installment_bin  not.fully.paid       Def\n",
       "0            0.105             344  0.104651\n",
       "1            0.158            8972  0.158382\n",
       "2            0.290             262  0.290076"
      ]
     },
     "metadata": {},
     "output_type": "display_data"
    },
    {
     "data": {
      "text/html": [
       "<div>\n",
       "<style scoped>\n",
       "    .dataframe tbody tr th:only-of-type {\n",
       "        vertical-align: middle;\n",
       "    }\n",
       "\n",
       "    .dataframe tbody tr th {\n",
       "        vertical-align: top;\n",
       "    }\n",
       "\n",
       "    .dataframe thead th {\n",
       "        text-align: right;\n",
       "    }\n",
       "</style>\n",
       "<table border=\"1\" class=\"dataframe\">\n",
       "  <thead>\n",
       "    <tr style=\"text-align: right;\">\n",
       "      <th></th>\n",
       "      <th>fico_bin</th>\n",
       "      <th>not.fully.paid</th>\n",
       "      <th>Def</th>\n",
       "    </tr>\n",
       "  </thead>\n",
       "  <tbody>\n",
       "    <tr>\n",
       "      <th>0</th>\n",
       "      <td>0.081</td>\n",
       "      <td>2230</td>\n",
       "      <td>0.081166</td>\n",
       "    </tr>\n",
       "    <tr>\n",
       "      <th>1</th>\n",
       "      <td>0.165</td>\n",
       "      <td>5612</td>\n",
       "      <td>0.164647</td>\n",
       "    </tr>\n",
       "    <tr>\n",
       "      <th>2</th>\n",
       "      <td>0.222</td>\n",
       "      <td>1247</td>\n",
       "      <td>0.222133</td>\n",
       "    </tr>\n",
       "    <tr>\n",
       "      <th>3</th>\n",
       "      <td>0.309</td>\n",
       "      <td>489</td>\n",
       "      <td>0.308793</td>\n",
       "    </tr>\n",
       "  </tbody>\n",
       "</table>\n",
       "</div>"
      ],
      "text/plain": [
       "   fico_bin  not.fully.paid       Def\n",
       "0     0.081            2230  0.081166\n",
       "1     0.165            5612  0.164647\n",
       "2     0.222            1247  0.222133\n",
       "3     0.309             489  0.308793"
      ]
     },
     "metadata": {},
     "output_type": "display_data"
    },
    {
     "data": {
      "text/html": [
       "<div>\n",
       "<style scoped>\n",
       "    .dataframe tbody tr th:only-of-type {\n",
       "        vertical-align: middle;\n",
       "    }\n",
       "\n",
       "    .dataframe tbody tr th {\n",
       "        vertical-align: top;\n",
       "    }\n",
       "\n",
       "    .dataframe thead th {\n",
       "        text-align: right;\n",
       "    }\n",
       "</style>\n",
       "<table border=\"1\" class=\"dataframe\">\n",
       "  <thead>\n",
       "    <tr style=\"text-align: right;\">\n",
       "      <th></th>\n",
       "      <th>days_with_cr_line_bin</th>\n",
       "      <th>not.fully.paid</th>\n",
       "      <th>Def</th>\n",
       "    </tr>\n",
       "  </thead>\n",
       "  <tbody>\n",
       "    <tr>\n",
       "      <th>0</th>\n",
       "      <td>0.157</td>\n",
       "      <td>9293</td>\n",
       "      <td>0.156677</td>\n",
       "    </tr>\n",
       "    <tr>\n",
       "      <th>1</th>\n",
       "      <td>0.270</td>\n",
       "      <td>285</td>\n",
       "      <td>0.270175</td>\n",
       "    </tr>\n",
       "  </tbody>\n",
       "</table>\n",
       "</div>"
      ],
      "text/plain": [
       "   days_with_cr_line_bin  not.fully.paid       Def\n",
       "0                  0.157            9293  0.156677\n",
       "1                  0.270             285  0.270175"
      ]
     },
     "metadata": {},
     "output_type": "display_data"
    },
    {
     "data": {
      "text/html": [
       "<div>\n",
       "<style scoped>\n",
       "    .dataframe tbody tr th:only-of-type {\n",
       "        vertical-align: middle;\n",
       "    }\n",
       "\n",
       "    .dataframe tbody tr th {\n",
       "        vertical-align: top;\n",
       "    }\n",
       "\n",
       "    .dataframe thead th {\n",
       "        text-align: right;\n",
       "    }\n",
       "</style>\n",
       "<table border=\"1\" class=\"dataframe\">\n",
       "  <thead>\n",
       "    <tr style=\"text-align: right;\">\n",
       "      <th></th>\n",
       "      <th>revol_bal_bin</th>\n",
       "      <th>not.fully.paid</th>\n",
       "      <th>Def</th>\n",
       "    </tr>\n",
       "  </thead>\n",
       "  <tbody>\n",
       "    <tr>\n",
       "      <th>0</th>\n",
       "      <td>0.157</td>\n",
       "      <td>9281</td>\n",
       "      <td>0.156987</td>\n",
       "    </tr>\n",
       "    <tr>\n",
       "      <th>1</th>\n",
       "      <td>0.256</td>\n",
       "      <td>297</td>\n",
       "      <td>0.255892</td>\n",
       "    </tr>\n",
       "  </tbody>\n",
       "</table>\n",
       "</div>"
      ],
      "text/plain": [
       "   revol_bal_bin  not.fully.paid       Def\n",
       "0          0.157            9281  0.156987\n",
       "1          0.256             297  0.255892"
      ]
     },
     "metadata": {},
     "output_type": "display_data"
    },
    {
     "data": {
      "text/html": [
       "<div>\n",
       "<style scoped>\n",
       "    .dataframe tbody tr th:only-of-type {\n",
       "        vertical-align: middle;\n",
       "    }\n",
       "\n",
       "    .dataframe tbody tr th {\n",
       "        vertical-align: top;\n",
       "    }\n",
       "\n",
       "    .dataframe thead th {\n",
       "        text-align: right;\n",
       "    }\n",
       "</style>\n",
       "<table border=\"1\" class=\"dataframe\">\n",
       "  <thead>\n",
       "    <tr style=\"text-align: right;\">\n",
       "      <th></th>\n",
       "      <th>revol_util_bin</th>\n",
       "      <th>not.fully.paid</th>\n",
       "      <th>Def</th>\n",
       "    </tr>\n",
       "  </thead>\n",
       "  <tbody>\n",
       "    <tr>\n",
       "      <th>0</th>\n",
       "      <td>0.157</td>\n",
       "      <td>9304</td>\n",
       "      <td>0.157137</td>\n",
       "    </tr>\n",
       "    <tr>\n",
       "      <th>1</th>\n",
       "      <td>0.259</td>\n",
       "      <td>274</td>\n",
       "      <td>0.259124</td>\n",
       "    </tr>\n",
       "  </tbody>\n",
       "</table>\n",
       "</div>"
      ],
      "text/plain": [
       "   revol_util_bin  not.fully.paid       Def\n",
       "0           0.157            9304  0.157137\n",
       "1           0.259             274  0.259124"
      ]
     },
     "metadata": {},
     "output_type": "display_data"
    },
    {
     "data": {
      "text/html": [
       "<div>\n",
       "<style scoped>\n",
       "    .dataframe tbody tr th:only-of-type {\n",
       "        vertical-align: middle;\n",
       "    }\n",
       "\n",
       "    .dataframe tbody tr th {\n",
       "        vertical-align: top;\n",
       "    }\n",
       "\n",
       "    .dataframe thead th {\n",
       "        text-align: right;\n",
       "    }\n",
       "</style>\n",
       "<table border=\"1\" class=\"dataframe\">\n",
       "  <thead>\n",
       "    <tr style=\"text-align: right;\">\n",
       "      <th></th>\n",
       "      <th>inq_last_6mths_bin</th>\n",
       "      <th>not.fully.paid</th>\n",
       "      <th>Def</th>\n",
       "    </tr>\n",
       "  </thead>\n",
       "  <tbody>\n",
       "    <tr>\n",
       "      <th>0</th>\n",
       "      <td>0.117</td>\n",
       "      <td>3637</td>\n",
       "      <td>0.117404</td>\n",
       "    </tr>\n",
       "    <tr>\n",
       "      <th>1</th>\n",
       "      <td>0.148</td>\n",
       "      <td>3846</td>\n",
       "      <td>0.148206</td>\n",
       "    </tr>\n",
       "    <tr>\n",
       "      <th>2</th>\n",
       "      <td>0.218</td>\n",
       "      <td>1339</td>\n",
       "      <td>0.218073</td>\n",
       "    </tr>\n",
       "    <tr>\n",
       "      <th>3</th>\n",
       "      <td>0.273</td>\n",
       "      <td>278</td>\n",
       "      <td>0.273381</td>\n",
       "    </tr>\n",
       "    <tr>\n",
       "      <th>4</th>\n",
       "      <td>0.351</td>\n",
       "      <td>478</td>\n",
       "      <td>0.351464</td>\n",
       "    </tr>\n",
       "  </tbody>\n",
       "</table>\n",
       "</div>"
      ],
      "text/plain": [
       "   inq_last_6mths_bin  not.fully.paid       Def\n",
       "0               0.117            3637  0.117404\n",
       "1               0.148            3846  0.148206\n",
       "2               0.218            1339  0.218073\n",
       "3               0.273             278  0.273381\n",
       "4               0.351             478  0.351464"
      ]
     },
     "metadata": {},
     "output_type": "display_data"
    },
    {
     "data": {
      "text/html": [
       "<div>\n",
       "<style scoped>\n",
       "    .dataframe tbody tr th:only-of-type {\n",
       "        vertical-align: middle;\n",
       "    }\n",
       "\n",
       "    .dataframe tbody tr th {\n",
       "        vertical-align: top;\n",
       "    }\n",
       "\n",
       "    .dataframe thead th {\n",
       "        text-align: right;\n",
       "    }\n",
       "</style>\n",
       "<table border=\"1\" class=\"dataframe\">\n",
       "  <thead>\n",
       "    <tr style=\"text-align: right;\">\n",
       "      <th></th>\n",
       "      <th>delinq_2yrs_bin</th>\n",
       "      <th>not.fully.paid</th>\n",
       "      <th>Def</th>\n",
       "    </tr>\n",
       "  </thead>\n",
       "  <tbody>\n",
       "    <tr>\n",
       "      <th>0</th>\n",
       "      <td>0.158</td>\n",
       "      <td>8458</td>\n",
       "      <td>0.158075</td>\n",
       "    </tr>\n",
       "    <tr>\n",
       "      <th>1</th>\n",
       "      <td>0.175</td>\n",
       "      <td>1120</td>\n",
       "      <td>0.175000</td>\n",
       "    </tr>\n",
       "  </tbody>\n",
       "</table>\n",
       "</div>"
      ],
      "text/plain": [
       "   delinq_2yrs_bin  not.fully.paid       Def\n",
       "0            0.158            8458  0.158075\n",
       "1            0.175            1120  0.175000"
      ]
     },
     "metadata": {},
     "output_type": "display_data"
    },
    {
     "data": {
      "text/html": [
       "<div>\n",
       "<style scoped>\n",
       "    .dataframe tbody tr th:only-of-type {\n",
       "        vertical-align: middle;\n",
       "    }\n",
       "\n",
       "    .dataframe tbody tr th {\n",
       "        vertical-align: top;\n",
       "    }\n",
       "\n",
       "    .dataframe thead th {\n",
       "        text-align: right;\n",
       "    }\n",
       "</style>\n",
       "<table border=\"1\" class=\"dataframe\">\n",
       "  <thead>\n",
       "    <tr style=\"text-align: right;\">\n",
       "      <th></th>\n",
       "      <th>pub_rec_bin</th>\n",
       "      <th>not.fully.paid</th>\n",
       "      <th>Def</th>\n",
       "    </tr>\n",
       "  </thead>\n",
       "  <tbody>\n",
       "    <tr>\n",
       "      <th>0</th>\n",
       "      <td>0.155</td>\n",
       "      <td>9019</td>\n",
       "      <td>0.154673</td>\n",
       "    </tr>\n",
       "    <tr>\n",
       "      <th>1</th>\n",
       "      <td>0.247</td>\n",
       "      <td>559</td>\n",
       "      <td>0.246869</td>\n",
       "    </tr>\n",
       "  </tbody>\n",
       "</table>\n",
       "</div>"
      ],
      "text/plain": [
       "   pub_rec_bin  not.fully.paid       Def\n",
       "0        0.155            9019  0.154673\n",
       "1        0.247             559  0.246869"
      ]
     },
     "metadata": {},
     "output_type": "display_data"
    }
   ],
   "source": [
    "df['credit_policy_bin'] = np.where(df['credit.policy']==0, 0.278, 0.132)\n",
    "cat_var('credit_policy_bin','Def')\n",
    "\n",
    "df['int_rate_bin'] = np.where(df['int.rate']<=0.0932, 0.056, \n",
    "                              np.where(df['int.rate']<=0.1392, 0.159, \n",
    "                                       np.where(df['int.rate']<=0.1635, 0.213, 0.301)))\n",
    "cat_var('int_rate_bin','Def')\n",
    "\n",
    "df['log_annual_inc_bin'] = np.where(df['log.annual.inc']<=9.798, 0.240, \n",
    "                                    np.where(df['log.annual.inc']<=12.092, 0.155, 0.240))\n",
    "cat_var('log_annual_inc_bin','Def')\n",
    "\n",
    "df['installment_bin'] = np.where(df['installment']<=423.77, 0.158, \n",
    "                                    np.where(df['installment']<=476.58, 0.105, \n",
    "                                             np.where(df['installment']<=829.97, 0.158, 0.290)))\n",
    "cat_var('installment_bin','Def')\n",
    "\n",
    "df['fico_bin'] = np.where(df['fico']<=657, 0.309, \n",
    "                          np.where(df['fico']<=672, 0.222, \n",
    "                                   np.where(df['fico']<=737, 0.165, 0.081)))\n",
    "cat_var('fico_bin','Def')\n",
    "\n",
    "df['days_with_cr_line_bin'] = np.where(df['days.with.cr.line']<=1110, 0.270, 0.157)\n",
    "cat_var('days_with_cr_line_bin','Def')\n",
    "\n",
    "df['revol_bal_bin'] = np.where(df['revol.bal']<=75723, 0.157, 0.256)\n",
    "cat_var('revol_bal_bin','Def')\n",
    "\n",
    "df['revol_util_bin'] = np.where(df['revol.util']<=96.5, 0.157, 0.259)\n",
    "cat_var('revol_util_bin','Def')\n",
    "\n",
    "df['inq_last_6mths_bin'] = np.where(df['inq.last.6mths']<=0, 0.117, \n",
    "                                    np.where(df['inq.last.6mths']<=2, 0.148, \n",
    "                                             np.where(df['inq.last.6mths']<=4, 0.218, \n",
    "                                                      np.where(df['inq.last.6mths']<=5, 0.273, 0.351))))\n",
    "cat_var('inq_last_6mths_bin','Def')\n",
    "\n",
    "df['delinq_2yrs_bin'] = np.where(df['delinq.2yrs']==0, 0.158, 0.175)\n",
    "cat_var('delinq_2yrs_bin','Def')\n",
    "\n",
    "df['pub_rec_bin'] = np.where(df['pub.rec']==0, 0.155, 0.247)\n",
    "cat_var('pub_rec_bin','Def')"
   ]
  },
  {
   "cell_type": "markdown",
   "metadata": {
    "id": "xqyst4luaJu5"
   },
   "source": [
    "# 5. Export dataset"
   ]
  },
  {
   "cell_type": "code",
   "execution_count": 8,
   "metadata": {
    "colab": {
     "base_uri": "https://localhost:8080/"
    },
    "id": "YIow-F0XPZ3A",
    "outputId": "df3104ae-c2d2-4b35-a397-617e696fbadf"
   },
   "outputs": [
    {
     "data": {
      "text/plain": [
       "(9578, 13)"
      ]
     },
     "execution_count": 8,
     "metadata": {},
     "output_type": "execute_result"
    }
   ],
   "source": [
    "df = df[['Def', 'purpose_bin', 'credit_policy_bin', 'int_rate_bin', 'log_annual_inc_bin', 'installment_bin', 'fico_bin',\n",
    "         'days_with_cr_line_bin', 'revol_bal_bin', 'revol_util_bin', 'inq_last_6mths_bin', 'delinq_2yrs_bin', 'pub_rec_bin']]\n",
    "df.to_csv('../inputs/1_Bins.csv', index=False)\n",
    "df.shape"
   ]
  }
 ],
 "metadata": {
  "colab": {
   "collapsed_sections": [],
   "name": "02 Derived",
   "provenance": []
  },
  "kernelspec": {
   "display_name": "Python 3",
   "language": "python",
   "name": "python3"
  },
  "language_info": {
   "codemirror_mode": {
    "name": "ipython",
    "version": 3
   },
   "file_extension": ".py",
   "mimetype": "text/x-python",
   "name": "python",
   "nbconvert_exporter": "python",
   "pygments_lexer": "ipython3",
   "version": "3.8.5"
  }
 },
 "nbformat": 4,
 "nbformat_minor": 1
}
