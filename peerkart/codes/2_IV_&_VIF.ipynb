{
 "cells": [
  {
   "cell_type": "markdown",
   "metadata": {
    "id": "FHFv1ivtNAtq"
   },
   "source": [
    "# 1. Import libraries"
   ]
  },
  {
   "cell_type": "code",
   "execution_count": 1,
   "metadata": {},
   "outputs": [],
   "source": [
    "import warnings\n",
    "warnings.filterwarnings(\"ignore\")\n",
    "from sklearn.metrics import roc_auc_score, confusion_matrix"
   ]
  },
  {
   "cell_type": "code",
   "execution_count": 2,
   "metadata": {},
   "outputs": [],
   "source": [
    "import numpy as np\n",
    "import pandas as pd\n",
    "import datetime as dt\n",
    "from statsmodels.tools.tools import add_constant\n",
    "from statsmodels.stats.outliers_influence import variance_inflation_factor"
   ]
  },
  {
   "cell_type": "code",
   "execution_count": 3,
   "metadata": {
    "id": "R1Mt4lf7w1BM"
   },
   "outputs": [],
   "source": [
    "def IV (data, X, Y):    \n",
    "    datag = data[[X,Y]]\n",
    "    datag = datag.groupby(X)[Y].agg(['sum','count'])\n",
    "    datag['bad'] = datag['sum']\n",
    "    datag['good'] = datag['count'] - datag['sum']\n",
    "    datag['pct_bad'] = datag['bad'] / datag['bad'].sum()\n",
    "    datag['pct_good'] = datag['good'] / datag['good'].sum()\n",
    "    datag['WOE'] = np.log(datag['pct_bad'] / datag['pct_good'])\n",
    "    datag['IV'] = datag['WOE'] * (datag['pct_bad'] - datag['pct_good'])\n",
    "    print(X,': ',round(datag['IV'].sum(),3))"
   ]
  },
  {
   "cell_type": "code",
   "execution_count": 4,
   "metadata": {
    "id": "UyzyrqxQxehe"
   },
   "outputs": [],
   "source": [
    "def VIF (data):\n",
    "    \"\"\"number of arguments = 1\n",
    "    arg 1 (data): enter the dataset name\"\"\"\n",
    "    X = add_constant(data)\n",
    "    Y = pd.Series([variance_inflation_factor(X.values, i)\n",
    "                   for i in range(X.shape[1])],\n",
    "                  index=X.columns)\n",
    "    print(Y)"
   ]
  },
  {
   "cell_type": "markdown",
   "metadata": {
    "id": "9piNfcDfNQ-_"
   },
   "source": [
    "# 2. Import datasets"
   ]
  },
  {
   "cell_type": "code",
   "execution_count": 5,
   "metadata": {
    "colab": {
     "base_uri": "https://localhost:8080/"
    },
    "id": "KJWrv-GsdsAW",
    "outputId": "d3a2ecc8-aa40-4383-85e6-3c2ec815cf6d"
   },
   "outputs": [
    {
     "data": {
      "text/plain": [
       "(9578, 13)"
      ]
     },
     "execution_count": 5,
     "metadata": {},
     "output_type": "execute_result"
    }
   ],
   "source": [
    "df = pd.read_csv(\"../inputs/1_Bins.csv\")\n",
    "df.shape"
   ]
  },
  {
   "cell_type": "markdown",
   "metadata": {
    "id": "9TW2B4XAgAt1"
   },
   "source": [
    "# 3. IV"
   ]
  },
  {
   "cell_type": "code",
   "execution_count": 6,
   "metadata": {
    "colab": {
     "base_uri": "https://localhost:8080/"
    },
    "id": "jSxkErWfw03W",
    "outputId": "2d69508e-333b-43c9-e104-ab3c9b378442"
   },
   "outputs": [
    {
     "name": "stdout",
     "output_type": "stream",
     "text": [
      "purpose_bin :  0.063\n",
      "credit_policy_bin :  0.159\n",
      "int_rate_bin :  0.235\n",
      "log_annual_inc_bin :  0.02\n",
      "installment_bin :  0.028\n",
      "fico_bin :  0.178\n",
      "days_with_cr_line_bin :  0.017\n",
      "revol_bal_bin :  0.014\n",
      "revol_util_bin :  0.013\n",
      "inq_last_6mths_bin :  0.16\n",
      "delinq_2yrs_bin :  0.002\n",
      "pub_rec_bin :  0.022\n"
     ]
    }
   ],
   "source": [
    "for i in df.columns[1:]:\n",
    "    IV(df, i, 'Def')"
   ]
  },
  {
   "cell_type": "code",
   "execution_count": 7,
   "metadata": {},
   "outputs": [
    {
     "name": "stdout",
     "output_type": "stream",
     "text": [
      "purpose_bin :  0.063\n",
      "credit_policy_bin :  0.159\n",
      "log_annual_inc_bin :  0.02\n",
      "installment_bin :  0.028\n",
      "fico_bin :  0.178\n",
      "days_with_cr_line_bin :  0.017\n",
      "revol_bal_bin :  0.014\n",
      "revol_util_bin :  0.013\n",
      "inq_last_6mths_bin :  0.16\n",
      "pub_rec_bin :  0.022\n"
     ]
    }
   ],
   "source": [
    "df = df.drop(['delinq_2yrs_bin','int_rate_bin'], axis=1)\n",
    "for i in df.columns[1:]:\n",
    "    IV(df, i, 'Def')"
   ]
  },
  {
   "cell_type": "markdown",
   "metadata": {
    "id": "sHtwXspExbNI"
   },
   "source": [
    "# 5. VIF"
   ]
  },
  {
   "cell_type": "code",
   "execution_count": 8,
   "metadata": {
    "colab": {
     "base_uri": "https://localhost:8080/"
    },
    "id": "52G-xzPWYgSq",
    "outputId": "04a82d11-e1c0-4a03-f2d2-2d6205808ba0"
   },
   "outputs": [
    {
     "name": "stdout",
     "output_type": "stream",
     "text": [
      "const                    411.144605\n",
      "purpose_bin                1.017684\n",
      "credit_policy_bin          2.188749\n",
      "log_annual_inc_bin         1.062156\n",
      "installment_bin            1.024929\n",
      "fico_bin                   1.300769\n",
      "days_with_cr_line_bin      1.218018\n",
      "revol_bal_bin              1.138896\n",
      "revol_util_bin             1.018172\n",
      "inq_last_6mths_bin         1.563400\n",
      "pub_rec_bin                1.022287\n",
      "dtype: float64\n"
     ]
    }
   ],
   "source": [
    "x = df.drop('Def', axis=1)\n",
    "VIF(x)"
   ]
  }
 ],
 "metadata": {
  "colab": {
   "collapsed_sections": [],
   "name": "05 IV & VIF",
   "provenance": []
  },
  "kernelspec": {
   "display_name": "Python 3",
   "language": "python",
   "name": "python3"
  },
  "language_info": {
   "codemirror_mode": {
    "name": "ipython",
    "version": 3
   },
   "file_extension": ".py",
   "mimetype": "text/x-python",
   "name": "python",
   "nbconvert_exporter": "python",
   "pygments_lexer": "ipython3",
   "version": "3.8.5"
  }
 },
 "nbformat": 4,
 "nbformat_minor": 1
}
